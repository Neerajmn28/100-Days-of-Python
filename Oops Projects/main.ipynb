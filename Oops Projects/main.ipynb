{
  "nbformat": 4,
  "nbformat_minor": 0,
  "metadata": {
    "colab": {
      "provenance": []
    },
    "kernelspec": {
      "name": "python3",
      "display_name": "Python 3"
    },
    "language_info": {
      "name": "python"
    }
  },
  "cells": [
    {
      "cell_type": "code",
      "execution_count": 12,
      "metadata": {
        "id": "cJ5MB65wJ2Xg"
      },
      "outputs": [],
      "source": [
        "from data import question_data\n",
        "from question_model import Question\n",
        "from main_quiz import QuizBrain"
      ]
    },
    {
      "cell_type": "code",
      "source": [
        "question_bank = []\n",
        "for question in question_data:\n",
        "  question_text = question['text']\n",
        "  question_answer = question['answer']\n",
        "\n",
        "\n",
        "  new_question = Question(question_text, question_answer)\n",
        "  question_bank.append(new_question)"
      ],
      "metadata": {
        "id": "P_AEs4CDLbOT"
      },
      "execution_count": 13,
      "outputs": []
    },
    {
      "cell_type": "code",
      "source": [
        "quiz = QuizBrain(question_bank)\n",
        "\n",
        "while quiz.still_has_question():\n",
        "  quiz.next_question()"
      ],
      "metadata": {
        "colab": {
          "base_uri": "https://localhost:8080/"
        },
        "id": "bFg49eDka59L",
        "outputId": "46e69feb-6160-4c50-be1b-cf2a4970ee30"
      },
      "execution_count": null,
      "outputs": [
        {
          "output_type": "stream",
          "name": "stdout",
          "text": [
            "Q.1:A slug's blood is green. (True/False): True\n",
            "You got it right\n",
            "The correct answer was: True\n",
            "Your correct score is: 1/1\n",
            "\n",
            "\n",
            "Q.2:The loudest animal is the African Elephant. (True/False): False\n",
            "You got it right\n",
            "The correct answer was: False\n",
            "Your correct score is: 2/2\n",
            "\n",
            "\n",
            "Q.3:Approximately one quarter of human bones are in the feet. (True/False): False\n",
            "That's wrong\n",
            "The correct answer was: True\n",
            "Your correct score is: 2/3\n",
            "\n",
            "\n"
          ]
        }
      ]
    }
  ]
}