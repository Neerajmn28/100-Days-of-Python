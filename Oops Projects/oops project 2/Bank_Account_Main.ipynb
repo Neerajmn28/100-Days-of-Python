{
  "nbformat": 4,
  "nbformat_minor": 0,
  "metadata": {
    "colab": {
      "provenance": []
    },
    "kernelspec": {
      "name": "python3",
      "display_name": "Python 3"
    },
    "language_info": {
      "name": "python"
    }
  },
  "cells": [
    {
      "cell_type": "markdown",
      "source": [
        "\n",
        "\n",
        "## Project Name: Bank Account Manager\n",
        "## Objective:\n",
        "Create a program to manage a bank account with basic features like checking the balance, depositing money, and withdrawing money.\n",
        "\n",
        "\n",
        "How It Works:\n",
        "BankAccount Class:\n",
        "\n",
        "* Attributes: owner (account holder's name) and balance.\n",
        "\n",
        "* Methods:\n",
        "deposit(amount): Adds money to the balance.\n",
        "withdraw(amount): Deducts money if there are sufficient funds.\n",
        "check_balance(): Displays the current balance.\n",
        "Main Program:\n",
        "\n",
        "Prompts the user for their name and creates a BankAccount object.\n",
        "Provides a simple menu for the user to interact with their account.\n",
        "\n"
      ],
      "metadata": {
        "id": "go_lNZv86aoS"
      }
    },
    {
      "cell_type": "code",
      "source": [
        "from bank_account import BankAccount"
      ],
      "metadata": {
        "id": "gFga4oG3wT8y"
      },
      "execution_count": 14,
      "outputs": []
    },
    {
      "cell_type": "code",
      "execution_count": 13,
      "metadata": {
        "colab": {
          "base_uri": "https://localhost:8080/"
        },
        "id": "775T43_xo7g_",
        "outputId": "22a604b0-f899-459d-c222-f57b7254fb96"
      },
      "outputs": [
        {
          "output_type": "stream",
          "name": "stdout",
          "text": [
            "Welcome to the Bank Account Manager!\n",
            "Enter your name: Neeraj\n",
            "Enter an amount: 1000\n",
            "\n",
            " What would you like to do?\n",
            "1. Check Balance\n",
            "2. Deposit Money\n",
            "3. Withdraw Money\n",
            "4. Exit\n",
            "Enter your choice: 1\n",
            "Account balance: $1000.0\n",
            "\n",
            " What would you like to do?\n",
            "1. Check Balance\n",
            "2. Deposit Money\n",
            "3. Withdraw Money\n",
            "4. Exit\n",
            "Enter your choice: 2\n",
            "Enter the amount to deposit: 1000\n",
            "Deposited $1000.0. New balance: $2000.0\n",
            "\n",
            " What would you like to do?\n",
            "1. Check Balance\n",
            "2. Deposit Money\n",
            "3. Withdraw Money\n",
            "4. Exit\n",
            "Enter your choice: 3\n",
            "Enter the amount to withdraw: 200\n",
            "Withdrew $200.0. New balance: $1800.0\n",
            "\n",
            " What would you like to do?\n",
            "1. Check Balance\n",
            "2. Deposit Money\n",
            "3. Withdraw Money\n",
            "4. Exit\n",
            "Enter your choice: 4\n",
            "Thank you for using the Bank Account Manager!\n"
          ]
        }
      ],
      "source": [
        "def main():\n",
        "  print('Welcome to the Bank Account Manager!')\n",
        "  name = input('Enter your name: ')\n",
        "  balance = input('Enter an amount: ')\n",
        "  account = BankAccount(name, float(balance))\n",
        "\n",
        "  while True:\n",
        "    print('\\n What would you like to do?')\n",
        "    print('1. Check Balance')\n",
        "    print('2. Deposit Money')\n",
        "    print('3. Withdraw Money')\n",
        "    print('4. Exit')\n",
        "    choice = input('Enter your choice: ')\n",
        "\n",
        "\n",
        "    if choice == '1':\n",
        "      account.check_balance()\n",
        "    elif choice == '2':\n",
        "      amount = float(input('Enter the amount to deposit: '))\n",
        "      account.deposit(amount)\n",
        "    elif choice == '3':\n",
        "      amount = float(input('Enter the amount to withdraw: '))\n",
        "      account.withdraw(amount)\n",
        "    elif choice == '4':\n",
        "      print('Thank you for using the Bank Account Manager!')\n",
        "      break\n",
        "    else:\n",
        "      print('Invalid choice. Please try again.')\n",
        "if __name__ == '__main__':\n",
        "  main()"
      ]
    }
  ]
}