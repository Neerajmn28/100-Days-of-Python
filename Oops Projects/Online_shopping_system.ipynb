{
  "nbformat": 4,
  "nbformat_minor": 0,
  "metadata": {
    "colab": {
      "provenance": []
    },
    "kernelspec": {
      "name": "python3",
      "display_name": "Python 3"
    },
    "language_info": {
      "name": "python"
    }
  },
  "cells": [
    {
      "cell_type": "markdown",
      "source": [
        "#Project: Online Shopping System\n",
        "\n",
        "Overview:\n",
        "\n",
        "The Online Shopping System will allow users to browse products, add them to a shopping cart, and make purchases. It will also have an admin interface for managing products and orders. This project will help you understand OOP principles while creating a functional e-commerce application."
      ],
      "metadata": {
        "id": "zOWu6F7lKpVe"
      }
    },
    {
      "cell_type": "code",
      "source": [
        "class Product:\n",
        "  def __init__(self, name, price, stock):\n",
        "    self.name = name\n",
        "    self.price = price\n",
        "    self.stock = stock\n",
        "\n",
        "  def get_name(self):\n",
        "    return self.name\n",
        "\n",
        "  def get_price(self):\n",
        "    return self.price\n",
        "\n",
        "  def get_stock(self):\n",
        "    return self.stock\n",
        "\n",
        "  def update_stock(self, quantity):\n",
        "    if self.stock >= quantity:\n",
        "      self.stock -= quantity\n",
        "      return True\n",
        "    else:\n",
        "      return False"
      ],
      "metadata": {
        "id": "-3Wm2Grt95F6"
      },
      "execution_count": 7,
      "outputs": []
    },
    {
      "cell_type": "code",
      "source": [
        "class User:\n",
        "  def __init__(self, username, password):\n",
        "    self.username = username\n",
        "    self.password = password\n",
        "\n",
        "  def get_username(self):\n",
        "    return self.username"
      ],
      "metadata": {
        "id": "lo_LuUff-xes"
      },
      "execution_count": 8,
      "outputs": []
    },
    {
      "cell_type": "code",
      "source": [
        "class Admin(User):\n",
        "  def __init__(self,username, password):\n",
        "    super().__init__(username, password)\n",
        "    self.inventory = []\n",
        "\n",
        "\n",
        "  def add_product(self, product):\n",
        "    self.inventory.append(product)\n",
        "    print(f'Product {product.get_name()} added to inventory.')\n",
        "\n",
        "\n",
        "  def remove_product(self, product):\n",
        "    if product in self.inventory:\n",
        "      self.inventory.remove(product)\n",
        "      print(f'Product {product.get_name()} removed from inventory.')\n",
        "    else:\n",
        "      print('product not found in inventory.')\n",
        ""
      ],
      "metadata": {
        "id": "k_b4y-3vBQy1"
      },
      "execution_count": 9,
      "outputs": []
    },
    {
      "cell_type": "code",
      "source": [
        "class Customer(User):\n",
        "    def __init__(self, username, password):\n",
        "        super().__init__(username, password)\n",
        "        self.cart = ShoppingCart()\n",
        "\n",
        "    def add_to_cart(self, product, quantity):\n",
        "        if product.get_stock() >= quantity:\n",
        "            self.cart.add_product(product, quantity)\n",
        "            print(f\"Added {quantity} of {product.get_name()} to the cart.\")\n",
        "        else:\n",
        "            print(\"Not enough stock to add to cart.\")\n",
        "\n",
        "    def checkout(self):\n",
        "        total_price = self.cart.calculate_total()\n",
        "        if total_price > 0:\n",
        "            print(f\"Checkout successful! Total price: ${total_price}\")\n",
        "            self.cart.clear_cart()\n",
        "        else:\n",
        "            print(\"Your cart is empty.\")\n",
        "\n",
        "\n",
        "class ShoppingCart:\n",
        "    def __init__(self):\n",
        "        self.items = {}\n",
        "\n",
        "    def add_product(self, product, quantity):\n",
        "        if product in self.items:\n",
        "            self.items[product] += quantity\n",
        "        else:\n",
        "            self.items[product] = quantity\n",
        "\n",
        "    def remove_product(self, product):\n",
        "        if product in self.items:\n",
        "            del self.items[product]\n",
        "\n",
        "    def view_cart(self):\n",
        "        cart_summary = {}\n",
        "        for product, quantity in self.items.items():\n",
        "            cart_summary[product.get_name()] = {\n",
        "                \"quantity\": quantity,\n",
        "                \"price_per_unit\": product.get_price(),\n",
        "                \"total\": product.get_price() * quantity\n",
        "            }\n",
        "        return cart_summary\n",
        "\n",
        "    def calculate_total(self):\n",
        "        total = 0\n",
        "        for product, quantity in self.items.items():\n",
        "            total += product.get_price() * quantity\n",
        "        return total\n",
        "\n",
        "    def clear_cart(self):\n",
        "        self.items.clear()\n",
        "\n",
        "\n",
        "class Order:\n",
        "    def __init__(self, customer, products):\n",
        "        self.customer = customer\n",
        "        self.products = products\n",
        "        self.status = \"Pending\"\n",
        "\n",
        "    def process_order(self):\n",
        "        for product, quantity in self.products.items():\n",
        "            if product.update_stock(quantity):\n",
        "                print(f\"Order for {quantity} of {product.get_name()} processed.\")\n",
        "            else:\n",
        "                print(f\"Not enough stock for {product.get_name()}.\")\n",
        "                self.status = \"Failed\"\n",
        "                break\n",
        "        if self.status != \"Failed\":\n",
        "            self.status = \"Processed\"\n",
        "            print(\"Order processed successfully.\")"
      ],
      "metadata": {
        "id": "oniWMjLB93ZW"
      },
      "execution_count": 10,
      "outputs": []
    },
    {
      "cell_type": "code",
      "source": [
        "product1 = Product(\"Laptop\", 1000, 10)\n",
        "product2 = Product(\"Smartphone\", 600, 5)"
      ],
      "metadata": {
        "id": "FAPEjKveKKnr"
      },
      "execution_count": 13,
      "outputs": []
    },
    {
      "cell_type": "code",
      "source": [
        "# Create Admin and add products to inventory\n",
        "admin = Admin(\"admin1\", \"adminpass\")\n",
        "admin.add_product(product1)\n",
        "admin.add_product(product2)"
      ],
      "metadata": {
        "colab": {
          "base_uri": "https://localhost:8080/"
        },
        "id": "JFFG5a8sKLOe",
        "outputId": "8ca5762d-9478-45c0-f9e9-a58de52d0e63"
      },
      "execution_count": 14,
      "outputs": [
        {
          "output_type": "stream",
          "name": "stdout",
          "text": [
            "Product Laptop added to inventory.\n",
            "Product Smartphone added to inventory.\n"
          ]
        }
      ]
    },
    {
      "cell_type": "code",
      "source": [
        "# Create Customer and add products to cart\n",
        "customer = Customer(\"user1\", \"userpass\")\n",
        "customer.add_to_cart(product1, 2)\n",
        "customer.add_to_cart(product2, 1)"
      ],
      "metadata": {
        "colab": {
          "base_uri": "https://localhost:8080/"
        },
        "id": "SHJUzKW7KP3G",
        "outputId": "02be20f4-41a6-4cf8-e8fa-d6ea5e41724e"
      },
      "execution_count": 15,
      "outputs": [
        {
          "output_type": "stream",
          "name": "stdout",
          "text": [
            "Added 2 of Laptop to the cart.\n",
            "Added 1 of Smartphone to the cart.\n"
          ]
        }
      ]
    },
    {
      "cell_type": "code",
      "source": [
        "# Checkout\n",
        "customer.checkout()\n",
        "\n",
        "# Admin removing a product\n",
        "admin.remove_product(product1)"
      ],
      "metadata": {
        "colab": {
          "base_uri": "https://localhost:8080/"
        },
        "id": "sURloZb6KU5m",
        "outputId": "2be71ad2-5fea-4893-9bfd-845e740c8895"
      },
      "execution_count": 16,
      "outputs": [
        {
          "output_type": "stream",
          "name": "stdout",
          "text": [
            "Checkout successful! Total price: $2600\n",
            "Product Laptop removed from inventory.\n"
          ]
        }
      ]
    }
  ]
}