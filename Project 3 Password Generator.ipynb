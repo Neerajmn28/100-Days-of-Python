{
  "nbformat": 4,
  "nbformat_minor": 0,
  "metadata": {
    "colab": {
      "provenance": [],
      "authorship_tag": "ABX9TyOkg0/sNvKUBYn4ClPHhcXY",
      "include_colab_link": true
    },
    "kernelspec": {
      "name": "python3",
      "display_name": "Python 3"
    },
    "language_info": {
      "name": "python"
    }
  },
  "cells": [
    {
      "cell_type": "markdown",
      "metadata": {
        "id": "view-in-github",
        "colab_type": "text"
      },
      "source": [
        "<a href=\"https://colab.research.google.com/github/Neerajmn28/100-Days-of-Python/blob/main/Project%203%20Password%20Generator.ipynb\" target=\"_parent\"><img src=\"https://colab.research.google.com/assets/colab-badge.svg\" alt=\"Open In Colab\"/></a>"
      ]
    },
    {
      "cell_type": "markdown",
      "source": [
        "# Project Title: Password Generator\n",
        "\n",
        "\n",
        "### Objective:\n",
        "The aim of this project is to create a user-friendly Password Generator that allows users to generate secure and random passwords based on their preferences for the number of letters, symbols, and numbers. The application also ensures that the password is randomly shuffled for maximum security.\n",
        "\n"
      ],
      "metadata": {
        "id": "UWCbg5rP0s-z"
      }
    },
    {
      "cell_type": "code",
      "source": [
        "import random"
      ],
      "metadata": {
        "id": "lCNdX42x02cr"
      },
      "execution_count": 3,
      "outputs": []
    },
    {
      "cell_type": "code",
      "source": [
        "letters = ['a','b','c','d','e','f','g','h','l','m','n']\n",
        "numbers = ['1','2','3','4','5','6','7','8','9']\n",
        "symbols = ['!','#','$','*','%','~','+','-']\n",
        "\n",
        "\n",
        "\n",
        "print('Welcome to the password generator!')\n",
        "nr_letters = int(input('How many letters would you like in your password?: '))\n",
        "nr_symbols = int(input('How many symbols would you like?: '))\n",
        "nr_numbers = int(input('How many numbers would you like?: '))"
      ],
      "metadata": {
        "colab": {
          "base_uri": "https://localhost:8080/"
        },
        "id": "6uq0dJez04ja",
        "outputId": "cd378b56-739a-483d-bf01-ab73c45507fe"
      },
      "execution_count": 4,
      "outputs": [
        {
          "name": "stdout",
          "output_type": "stream",
          "text": [
            "Welcome to the password generator!\n",
            "How many letters would you like in your password?: 4\n",
            "How many symbols would you like?: 4\n",
            "How many numbers would you like?: 4\n"
          ]
        }
      ]
    },
    {
      "cell_type": "code",
      "source": [
        "password = ''\n",
        "\n",
        "for char in range(1, nr_letters + 1):\n",
        "  random_char = random.choice(letters)\n",
        "  password += random_char\n",
        "\n",
        "for char in range(1, nr_symbols, + 1):\n",
        "  random_char = random.choice(symbols)\n",
        "  password += random_char\n",
        "\n",
        "for char in range(1, nr_numbers + 1):\n",
        "  random_char = random.choice(symbols)\n",
        "  password += random_char\n",
        "\n",
        "print(password)"
      ],
      "metadata": {
        "colab": {
          "base_uri": "https://localhost:8080/"
        },
        "id": "XidEIxv009qj",
        "outputId": "ccf35c94-4bb8-4661-bdb9-35e8cbf58444"
      },
      "execution_count": 18,
      "outputs": [
        {
          "output_type": "stream",
          "name": "stdout",
          "text": [
            "lgnd$+~+!!-\n"
          ]
        }
      ]
    },
    {
      "cell_type": "code",
      "source": [
        "password_list = []\n",
        "\n",
        "for hardpass in range(0, nr_letters):\n",
        "  password_list += random.choice(letters)\n",
        "\n",
        "for hardpass in range(0, nr_symbols):\n",
        "  password_list += random.choice(symbols)\n",
        "\n",
        "for hardpass in range(0, nr_numbers):\n",
        "  password_list += random.choice(numbers)\n",
        "\n",
        "print(password_list)\n",
        "random.shuffle(password_list)\n",
        "print(password_list)\n",
        "\n",
        "\n",
        "hard_pass = ''\n",
        "for item in password_list:\n",
        "  hard_pass += item\n",
        "\n",
        "print('New password is:'+' '+str(hard_pass))"
      ],
      "metadata": {
        "colab": {
          "base_uri": "https://localhost:8080/"
        },
        "id": "4BK5HeL0g3PM",
        "outputId": "46a6285f-0089-45d8-de26-06eace3d9578"
      },
      "execution_count": 17,
      "outputs": [
        {
          "output_type": "stream",
          "name": "stdout",
          "text": [
            "['g', 'd', 'c', 'a', '%', '%', '+', '-', '2', '4', '8', '9']\n",
            "['2', '-', '8', 'a', 'd', 'c', '9', '+', '%', 'g', '%', '4']\n",
            "New password is: 2-8adc9+%g%4\n"
          ]
        }
      ]
    }
  ]
}