{
  "nbformat": 4,
  "nbformat_minor": 0,
  "metadata": {
    "colab": {
      "provenance": [],
      "authorship_tag": "ABX9TyMRvEDO/wh4tYWO1ccyAL2l",
      "include_colab_link": true
    },
    "kernelspec": {
      "name": "python3",
      "display_name": "Python 3"
    },
    "language_info": {
      "name": "python"
    }
  },
  "cells": [
    {
      "cell_type": "markdown",
      "metadata": {
        "id": "view-in-github",
        "colab_type": "text"
      },
      "source": [
        "<a href=\"https://colab.research.google.com/github/Neerajmn28/100-Days-of-Python/blob/main/Day8.ipynb\" target=\"_parent\"><img src=\"https://colab.research.google.com/assets/colab-badge.svg\" alt=\"Open In Colab\"/></a>"
      ]
    },
    {
      "cell_type": "markdown",
      "source": [
        "FUNCTIONS AND PARAMETERS"
      ],
      "metadata": {
        "id": "_Q-2Bc5OAftv"
      }
    },
    {
      "cell_type": "markdown",
      "source": [
        "A function is defined using the def keyword, followed by the function name, parentheses, and a colon. Any code indented under this is part of the function's body.\n",
        "\n"
      ],
      "metadata": {
        "id": "n5gnHqTmA7nU"
      }
    },
    {
      "cell_type": "markdown",
      "source": [
        "Parameters: Variables that receive values when the function is called.\n",
        "\n",
        "* Parameters are defined in parentheses and can be one or more.\n",
        "* They allow functions to be flexible with different inputs."
      ],
      "metadata": {
        "id": "CflNFdatBFmj"
      }
    },
    {
      "cell_type": "code",
      "execution_count": 1,
      "metadata": {
        "id": "2UTbPY-F_6Cp"
      },
      "outputs": [],
      "source": [
        "def greet():\n",
        "  print('Hey hello')\n",
        "  print('How are you?')"
      ]
    },
    {
      "cell_type": "code",
      "source": [
        "greet()"
      ],
      "metadata": {
        "colab": {
          "base_uri": "https://localhost:8080/"
        },
        "id": "fLEJtt90BUPi",
        "outputId": "b1183914-983a-4eea-ad71-dec83a6c3216"
      },
      "execution_count": 2,
      "outputs": [
        {
          "output_type": "stream",
          "name": "stdout",
          "text": [
            "Hey hello\n",
            "How are you?\n"
          ]
        }
      ]
    },
    {
      "cell_type": "code",
      "source": [
        "def greet_with_name(name): # Here the name is the parameter\n",
        "  print(f'Hello {name}')\n",
        "  print(f'How do you do {name}')"
      ],
      "metadata": {
        "id": "INdGsyW-BY4j"
      },
      "execution_count": 3,
      "outputs": []
    },
    {
      "cell_type": "code",
      "source": [
        "greet_with_name('Ellie') # Ellie is the Argument"
      ],
      "metadata": {
        "colab": {
          "base_uri": "https://localhost:8080/"
        },
        "id": "5u6v6ELHBhPw",
        "outputId": "a003b45c-3f19-4c03-95ab-665af12c9eb0"
      },
      "execution_count": 4,
      "outputs": [
        {
          "output_type": "stream",
          "name": "stdout",
          "text": [
            "Hello Ellie\n",
            "How do you do Ellie\n"
          ]
        }
      ]
    },
    {
      "cell_type": "code",
      "source": [
        "def add_numbers(x,y):\n",
        "  return x + y"
      ],
      "metadata": {
        "id": "_aHw-m5CBpll"
      },
      "execution_count": 5,
      "outputs": []
    },
    {
      "cell_type": "code",
      "source": [
        "add_numbers(10,20)"
      ],
      "metadata": {
        "colab": {
          "base_uri": "https://localhost:8080/"
        },
        "id": "ZJLPDPRwCm0O",
        "outputId": "41f0856d-492a-4bba-f5f0-8dfea355bb71"
      },
      "execution_count": 6,
      "outputs": [
        {
          "output_type": "execute_result",
          "data": {
            "text/plain": [
              "30"
            ]
          },
          "metadata": {},
          "execution_count": 6
        }
      ]
    },
    {
      "cell_type": "code",
      "source": [
        "def calculate_area(length, width = 4):\n",
        "  return length * width"
      ],
      "metadata": {
        "id": "OE-ylZAWCgXU"
      },
      "execution_count": 7,
      "outputs": []
    },
    {
      "cell_type": "code",
      "source": [
        "# Call with both parameters\n",
        "area1 = calculate_area(10,3)\n",
        "print(area1)"
      ],
      "metadata": {
        "colab": {
          "base_uri": "https://localhost:8080/"
        },
        "id": "LF1Kum2KDE6t",
        "outputId": "863d4b8b-3a78-4b41-fb09-d8de2039195a"
      },
      "execution_count": 8,
      "outputs": [
        {
          "output_type": "stream",
          "name": "stdout",
          "text": [
            "30\n"
          ]
        }
      ]
    },
    {
      "cell_type": "code",
      "source": [
        "# Call with only the length parameter (width defaults to 5)\n",
        "area2 = calculate_area(10)\n",
        "print(area2)"
      ],
      "metadata": {
        "colab": {
          "base_uri": "https://localhost:8080/"
        },
        "id": "7KoDI3SlDL4C",
        "outputId": "a7a7cb87-b348-4cfa-fa36-34f7b1fab7d1"
      },
      "execution_count": 9,
      "outputs": [
        {
          "output_type": "stream",
          "name": "stdout",
          "text": [
            "40\n"
          ]
        }
      ]
    },
    {
      "cell_type": "code",
      "source": [
        "def calculate_area(length, width=5):\n",
        "    return length * width\n",
        "\n",
        "# Call with both parameters\n",
        "area1 = calculate_area(10, 3)\n",
        "print(area1)  # Output: 30\n",
        "\n",
        "# Call with only the length parameter (width defaults to 5)\n",
        "area2 = calculate_area(10)\n",
        "print(area2)  # Output: 50"
      ],
      "metadata": {
        "id": "CBbvtvaZCgVW",
        "outputId": "4f255a16-dfa7-4930-dc5e-1db2b985c504",
        "colab": {
          "base_uri": "https://localhost:8080/"
        }
      },
      "execution_count": 10,
      "outputs": [
        {
          "output_type": "stream",
          "name": "stdout",
          "text": [
            "30\n",
            "50\n"
          ]
        }
      ]
    },
    {
      "cell_type": "code",
      "source": [
        "def is_even(number):\n",
        "  return number % 2 == 0"
      ],
      "metadata": {
        "id": "2Y0H2AvECgTM"
      },
      "execution_count": 11,
      "outputs": []
    },
    {
      "cell_type": "code",
      "source": [
        "print(is_even(4))"
      ],
      "metadata": {
        "colab": {
          "base_uri": "https://localhost:8080/"
        },
        "id": "jzwn0aJpDtQq",
        "outputId": "29b7128e-868c-429f-d151-d295a92f847f"
      },
      "execution_count": 12,
      "outputs": [
        {
          "output_type": "stream",
          "name": "stdout",
          "text": [
            "True\n"
          ]
        }
      ]
    },
    {
      "cell_type": "code",
      "source": [
        "print(is_even(5))"
      ],
      "metadata": {
        "colab": {
          "base_uri": "https://localhost:8080/"
        },
        "id": "8BBMzEZ6DxSS",
        "outputId": "38d79035-f82d-4a9d-af6d-d7900354cad3"
      },
      "execution_count": 13,
      "outputs": [
        {
          "output_type": "stream",
          "name": "stdout",
          "text": [
            "False\n"
          ]
        }
      ]
    }
  ]
}