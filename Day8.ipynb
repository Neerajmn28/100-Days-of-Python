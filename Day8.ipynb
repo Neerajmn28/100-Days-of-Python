{
  "nbformat": 4,
  "nbformat_minor": 0,
  "metadata": {
    "colab": {
      "provenance": [],
      "authorship_tag": "ABX9TyMRvEDO/wh4tYWO1ccyAL2l",
      "include_colab_link": true
    },
    "kernelspec": {
      "name": "python3",
      "display_name": "Python 3"
    },
    "language_info": {
      "name": "python"
    }
  },
  "cells": [
    {
      "cell_type": "markdown",
      "metadata": {
        "id": "view-in-github",
        "colab_type": "text"
      },
      "source": [
        "<a href=\"https://colab.research.google.com/github/Neerajmn28/100-Days-of-Python/blob/main/Day8.ipynb\" target=\"_parent\"><img src=\"https://colab.research.google.com/assets/colab-badge.svg\" alt=\"Open In Colab\"/></a>"
      ]
    },
    {
      "cell_type": "markdown",
      "source": [
        "FUNCTIONS AND PARAMETERS"
      ],
      "metadata": {
        "id": "_Q-2Bc5OAftv"
      }
    },
    {
      "cell_type": "markdown",
      "source": [
        "A function is defined using the def keyword, followed by the function name, parentheses, and a colon. Any code indented under this is part of the function's body.\n",
        "\n"
      ],
      "metadata": {
        "id": "n5gnHqTmA7nU"
      }
    },
    {
      "cell_type": "markdown",
      "source": [
        "Parameters: Variables that receive values when the function is called.\n",
        "\n",
        "* Parameters are defined in parentheses and can be one or more.\n",
        "* They allow functions to be flexible with different inputs."
      ],
      "metadata": {
        "id": "CflNFdatBFmj"
      }
    },
    {
      "cell_type": "code",
      "execution_count": 14,
      "metadata": {
        "id": "2UTbPY-F_6Cp"
      },
      "outputs": [],
      "source": [
        "def greet():\n",
        "  print('Hey hello')\n",
        "  print('How are you?')"
      ]
    },
    {
      "cell_type": "code",
      "source": [
        "greet()"
      ],
      "metadata": {
        "colab": {
          "base_uri": "https://localhost:8080/"
        },
        "id": "fLEJtt90BUPi",
        "outputId": "ecbe8942-3f4e-489d-8935-24a908387f90"
      },
      "execution_count": 15,
      "outputs": [
        {
          "output_type": "stream",
          "name": "stdout",
          "text": [
            "Hey hello\n",
            "How are you?\n"
          ]
        }
      ]
    },
    {
      "cell_type": "code",
      "source": [
        "def greet_with_name(name): # Here the name is the parameter\n",
        "  print(f'Hello {name}')\n",
        "  print(f'How do you do {name}')"
      ],
      "metadata": {
        "id": "INdGsyW-BY4j"
      },
      "execution_count": 16,
      "outputs": []
    },
    {
      "cell_type": "code",
      "source": [
        "greet_with_name('Ellie') # Ellie is the Argument"
      ],
      "metadata": {
        "colab": {
          "base_uri": "https://localhost:8080/"
        },
        "id": "5u6v6ELHBhPw",
        "outputId": "0771344d-9130-4ebe-9ac6-231539cd0a86"
      },
      "execution_count": 17,
      "outputs": [
        {
          "output_type": "stream",
          "name": "stdout",
          "text": [
            "Hello Ellie\n",
            "How do you do Ellie\n"
          ]
        }
      ]
    },
    {
      "cell_type": "code",
      "source": [
        "def add_numbers(x,y):\n",
        "  return x + y"
      ],
      "metadata": {
        "id": "_aHw-m5CBpll"
      },
      "execution_count": 18,
      "outputs": []
    },
    {
      "cell_type": "code",
      "source": [
        "add_numbers(10,20)"
      ],
      "metadata": {
        "colab": {
          "base_uri": "https://localhost:8080/"
        },
        "id": "ZJLPDPRwCm0O",
        "outputId": "c8783c0f-146e-49b0-a4d5-6c82a8073602"
      },
      "execution_count": 19,
      "outputs": [
        {
          "output_type": "execute_result",
          "data": {
            "text/plain": [
              "30"
            ]
          },
          "metadata": {},
          "execution_count": 19
        }
      ]
    },
    {
      "cell_type": "code",
      "source": [
        "def calculate_area(length, width = 4):\n",
        "  return length * width"
      ],
      "metadata": {
        "id": "OE-ylZAWCgXU"
      },
      "execution_count": 20,
      "outputs": []
    },
    {
      "cell_type": "code",
      "source": [
        "# Call with both parameters\n",
        "area1 = calculate_area(10,3)\n",
        "print(area1)"
      ],
      "metadata": {
        "colab": {
          "base_uri": "https://localhost:8080/"
        },
        "id": "LF1Kum2KDE6t",
        "outputId": "64e017a8-676b-4cf2-cb76-8f05cba5c7d2"
      },
      "execution_count": 21,
      "outputs": [
        {
          "output_type": "stream",
          "name": "stdout",
          "text": [
            "30\n"
          ]
        }
      ]
    },
    {
      "cell_type": "code",
      "source": [
        "# Call with only the length parameter (width defaults to 5)\n",
        "area2 = calculate_area(10)\n",
        "print(area2)"
      ],
      "metadata": {
        "colab": {
          "base_uri": "https://localhost:8080/"
        },
        "id": "7KoDI3SlDL4C",
        "outputId": "08cbb419-944b-4b4e-ba00-0b84a648f39b"
      },
      "execution_count": 22,
      "outputs": [
        {
          "output_type": "stream",
          "name": "stdout",
          "text": [
            "40\n"
          ]
        }
      ]
    },
    {
      "cell_type": "code",
      "source": [
        "def calculate_area(length, width=5):\n",
        "    return length * width\n",
        "\n",
        "# Call with both parameters\n",
        "area1 = calculate_area(10, 3)\n",
        "print(area1)  # Output: 30\n",
        "\n",
        "# Call with only the length parameter (width defaults to 5)\n",
        "area2 = calculate_area(10)\n",
        "print(area2)  # Output: 50"
      ],
      "metadata": {
        "id": "CBbvtvaZCgVW",
        "colab": {
          "base_uri": "https://localhost:8080/"
        },
        "outputId": "c209d14c-6863-41e5-b384-9cd21f70a1eb"
      },
      "execution_count": 23,
      "outputs": [
        {
          "output_type": "stream",
          "name": "stdout",
          "text": [
            "30\n",
            "50\n"
          ]
        }
      ]
    },
    {
      "cell_type": "code",
      "source": [
        "def is_even(number):\n",
        "  return number % 2 == 0"
      ],
      "metadata": {
        "id": "2Y0H2AvECgTM"
      },
      "execution_count": 24,
      "outputs": []
    },
    {
      "cell_type": "code",
      "source": [
        "print(is_even(4))"
      ],
      "metadata": {
        "colab": {
          "base_uri": "https://localhost:8080/"
        },
        "id": "jzwn0aJpDtQq",
        "outputId": "5f6fa996-f7f7-4923-8cd7-5c4904d7919d"
      },
      "execution_count": 25,
      "outputs": [
        {
          "output_type": "stream",
          "name": "stdout",
          "text": [
            "True\n"
          ]
        }
      ]
    },
    {
      "cell_type": "code",
      "source": [
        "print(is_even(5))"
      ],
      "metadata": {
        "colab": {
          "base_uri": "https://localhost:8080/"
        },
        "id": "8BBMzEZ6DxSS",
        "outputId": "35c6c75b-c1d2-43f0-f1ec-3b664c72411d"
      },
      "execution_count": 26,
      "outputs": [
        {
          "output_type": "stream",
          "name": "stdout",
          "text": [
            "False\n"
          ]
        }
      ]
    }
  ]
}