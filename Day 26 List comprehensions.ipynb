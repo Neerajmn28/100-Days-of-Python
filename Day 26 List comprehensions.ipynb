{
  "nbformat": 4,
  "nbformat_minor": 0,
  "metadata": {
    "colab": {
      "provenance": [],
      "authorship_tag": "ABX9TyPfytLNd6tPseBcIVHQRDyA",
      "include_colab_link": true
    },
    "kernelspec": {
      "name": "python3",
      "display_name": "Python 3"
    },
    "language_info": {
      "name": "python"
    }
  },
  "cells": [
    {
      "cell_type": "markdown",
      "metadata": {
        "id": "view-in-github",
        "colab_type": "text"
      },
      "source": [
        "<a href=\"https://colab.research.google.com/github/Neerajmn28/100-Days-of-Python/blob/main/Day%2026%20List%20comprehensions.ipynb\" target=\"_parent\"><img src=\"https://colab.research.google.com/assets/colab-badge.svg\" alt=\"Open In Colab\"/></a>"
      ]
    },
    {
      "cell_type": "markdown",
      "source": [
        "List comprehension in Python is a concise way to create lists using a single line of code. It provides a more readable and efficient alternative to traditional loops.\n",
        "\n",
        "new_list = [expression for item in iterable if condition]\n",
        "\n",
        "Key Benefits of List Comprehension\n",
        "\n",
        "✅ Reduces lines of code,\n",
        "✅ Improves readability,\n",
        "✅ More efficient than loops in many cases"
      ],
      "metadata": {
        "id": "zX6zFxEcBmsl"
      }
    },
    {
      "cell_type": "code",
      "execution_count": 1,
      "metadata": {
        "id": "eQ1maUJCBbUV"
      },
      "outputs": [],
      "source": [
        "name = 'neeraj'"
      ]
    },
    {
      "cell_type": "code",
      "source": [
        "new_list = [letter for letter in name]\n",
        "print(new_list)"
      ],
      "metadata": {
        "colab": {
          "base_uri": "https://localhost:8080/"
        },
        "id": "NETtswQJDCdO",
        "outputId": "f62da18d-6961-420f-f399-5c368323eac3"
      },
      "execution_count": 2,
      "outputs": [
        {
          "output_type": "stream",
          "name": "stdout",
          "text": [
            "['n', 'e', 'e', 'r', 'a', 'j']\n"
          ]
        }
      ]
    },
    {
      "cell_type": "code",
      "source": [
        "range_list = [num * 2 for num in range(1,5)]\n",
        "print(range_list)"
      ],
      "metadata": {
        "colab": {
          "base_uri": "https://localhost:8080/"
        },
        "id": "dq-M1ZraDOX9",
        "outputId": "c806343c-ee32-4711-d52e-297edfc0a786"
      },
      "execution_count": 3,
      "outputs": [
        {
          "output_type": "stream",
          "name": "stdout",
          "text": [
            "[2, 4, 6, 8]\n"
          ]
        }
      ]
    },
    {
      "cell_type": "markdown",
      "source": [
        "CONDITIONS IN LIST COMPREHENSION"
      ],
      "metadata": {
        "id": "f8-KH7D6PgFd"
      }
    },
    {
      "cell_type": "code",
      "source": [
        "names = ['Neeraj','Dave','Elanor','Carry','Virat','Max Plank']\n",
        "short_names = [name for name in names if len(name) < 7]\n",
        "print(short_names)"
      ],
      "metadata": {
        "colab": {
          "base_uri": "https://localhost:8080/"
        },
        "id": "Y2KkvUqeOU21",
        "outputId": "7014af0f-6d6c-4eba-c852-0f3b59771c37"
      },
      "execution_count": 4,
      "outputs": [
        {
          "output_type": "stream",
          "name": "stdout",
          "text": [
            "['Neeraj', 'Dave', 'Elanor', 'Carry', 'Virat']\n"
          ]
        }
      ]
    },
    {
      "cell_type": "code",
      "source": [
        "long_names = [name.upper() for name in names if len(name) > 5]\n",
        "print(long_names)"
      ],
      "metadata": {
        "colab": {
          "base_uri": "https://localhost:8080/"
        },
        "id": "i_WQRDNDPXfU",
        "outputId": "b09e119b-f12e-4842-d012-d84e7f80723c"
      },
      "execution_count": 5,
      "outputs": [
        {
          "output_type": "stream",
          "name": "stdout",
          "text": [
            "['NEERAJ', 'ELANOR', 'MAX PLANK']\n"
          ]
        }
      ]
    },
    {
      "cell_type": "markdown",
      "source": [
        "### With and without list Comprehensions"
      ],
      "metadata": {
        "id": "w9NiMjEnS830"
      }
    },
    {
      "cell_type": "code",
      "source": [
        "words = ['hello','world','python']\n",
        "upper_words = []\n",
        "for word in words:\n",
        "  upper_words.append(word.upper())\n",
        "print(upper_words)\n",
        "\n",
        "\n",
        "\n",
        "# List Comprehension\n",
        "upper_words = [word.upper() for word in words]\n",
        "print(upper_words)"
      ],
      "metadata": {
        "colab": {
          "base_uri": "https://localhost:8080/"
        },
        "id": "PTIIBhkmTGx9",
        "outputId": "22fc2a3b-767c-4afb-dacf-852fbe386188"
      },
      "execution_count": 6,
      "outputs": [
        {
          "output_type": "stream",
          "name": "stdout",
          "text": [
            "['HELLO', 'WORLD', 'PYTHON']\n",
            "['HELLO', 'WORLD', 'PYTHON']\n"
          ]
        }
      ]
    },
    {
      "cell_type": "code",
      "source": [
        "matrix = []\n",
        "for item in range(5):\n",
        "  row = []\n",
        "  for new in range(5):\n",
        "    row.append(new)\n",
        "  matrix.append(row)\n",
        "print(matrix)"
      ],
      "metadata": {
        "colab": {
          "base_uri": "https://localhost:8080/"
        },
        "id": "Yar8oDF4TzOs",
        "outputId": "26d31a95-7f27-4b8d-e86f-42689de69af0"
      },
      "execution_count": 7,
      "outputs": [
        {
          "output_type": "stream",
          "name": "stdout",
          "text": [
            "[[0, 1, 2, 3, 4], [0, 1, 2, 3, 4], [0, 1, 2, 3, 4], [0, 1, 2, 3, 4], [0, 1, 2, 3, 4]]\n"
          ]
        }
      ]
    },
    {
      "cell_type": "code",
      "source": [
        "# List comprehension\n",
        "matrix = [[item for item in range(5)] for new in range(5)]\n",
        "print(matrix)"
      ],
      "metadata": {
        "colab": {
          "base_uri": "https://localhost:8080/"
        },
        "id": "Am1o7YPZj4BN",
        "outputId": "9d26fa38-4417-45e4-86a3-76192912c7cd"
      },
      "execution_count": 10,
      "outputs": [
        {
          "output_type": "stream",
          "name": "stdout",
          "text": [
            "[[0, 1, 2, 3, 4], [0, 1, 2, 3, 4], [0, 1, 2, 3, 4], [0, 1, 2, 3, 4], [0, 1, 2, 3, 4]]\n"
          ]
        }
      ]
    }
  ]
}