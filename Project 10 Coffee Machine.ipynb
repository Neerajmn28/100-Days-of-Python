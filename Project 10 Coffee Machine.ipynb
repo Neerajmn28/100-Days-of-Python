{
  "nbformat": 4,
  "nbformat_minor": 0,
  "metadata": {
    "colab": {
      "provenance": [],
      "authorship_tag": "ABX9TyMNds6IIsE2DqK0kpXUI27N",
      "include_colab_link": true
    },
    "kernelspec": {
      "name": "python3",
      "display_name": "Python 3"
    },
    "language_info": {
      "name": "python"
    }
  },
  "cells": [
    {
      "cell_type": "markdown",
      "metadata": {
        "id": "view-in-github",
        "colab_type": "text"
      },
      "source": [
        "<a href=\"https://colab.research.google.com/github/Neerajmn28/100-Days-of-Python/blob/main/Project%2010%20Coffee%20Machine.ipynb\" target=\"_parent\"><img src=\"https://colab.research.google.com/assets/colab-badge.svg\" alt=\"Open In Colab\"/></a>"
      ]
    },
    {
      "cell_type": "markdown",
      "source": [
        "## Project Description: Coffee Machine Program\n",
        "Project Title: Coffee Machine Simulator\n",
        "Project Objective:\n",
        "To build a Python-based coffee machine program that simulates the functionality of a real-world coffee machine. Users can order beverages, insert coins to pay, and receive their drink, while the machine manages resources (like water, milk, coffee) and calculates profits.\n",
        "\n",
        "Sample Workflow:\n",
        "* User is prompted to choose a drink: \"What do you like? (Espresso/Latte/Cappuccino): \"\n",
        "* The machine checks if it has enough resources to prepare the drink.\n",
        "* If resources are sufficient:\n",
        "The user is prompted to insert coins.\n",
        "The machine calculates the total money and processes the transaction.\n",
        "* If the payment is successful:\n",
        "The drink is prepared.\n",
        "Any remaining change is provided to the user.\n",
        "The user can view the current machine status using the report command.\n",
        "The machine can be turned off using the off command."
      ],
      "metadata": {
        "id": "l40WHGxaI1w_"
      }
    },
    {
      "cell_type": "code",
      "source": [
        "MENU = {\n",
        "    'espresso': {\n",
        "        'ingredients': {\n",
        "            'water': 50,\n",
        "            'coffee':18,\n",
        "        },\n",
        "        'cost' : 1.5\n",
        "    },\n",
        "    'latte' : {\n",
        "        'ingredients': {\n",
        "            'water': 200,\n",
        "            'milk':150,\n",
        "            'coffee':18,\n",
        "        },\n",
        "        'cost': 2.5,\n",
        "    },\n",
        "    'cappuccino': {\n",
        "        'ingredients': {\n",
        "            'water': 250,\n",
        "            'milk':100,\n",
        "            'coffee':24,\n",
        "        },\n",
        "        'cost': 3.0,\n",
        "    }\n",
        "}\n",
        "\n",
        "\n",
        "profit = 0\n",
        "resources = {\n",
        "        'water': 300,\n",
        "        'milk': 200,\n",
        "        'coffee': 100,\n",
        "    }"
      ],
      "metadata": {
        "id": "QsIyvgPfehJ6"
      },
      "execution_count": 1,
      "outputs": []
    },
    {
      "cell_type": "code",
      "source": [
        "def is_resource_sufficent(order_ingredients):\n",
        "  for item in order_ingredients:\n",
        "   if order_ingredients[item] >= resources[item]:\n",
        "    print(f\"Sorry there is not enough {item}.\")\n",
        "    return False\n",
        "  return True"
      ],
      "metadata": {
        "id": "aukXelZX7seJ"
      },
      "execution_count": 2,
      "outputs": []
    },
    {
      "cell_type": "code",
      "source": [
        "def process_coins():\n",
        "  \"\"\"Returns true when order can be made, False if ingredients are insufficent.\"\"\"\n",
        "  print('Please insert coins')\n",
        "  total = int(input('How many quaters?:')) * 0.25\n",
        "  total += int(input('How many dimes?:')) * 0.1\n",
        "  total += int(input('How many nickles?:')) * 0.05\n",
        "  total += int(input('How many pennies?:')) * 0.01\n",
        "  return total"
      ],
      "metadata": {
        "id": "IzXZEfuR7tP4"
      },
      "execution_count": 3,
      "outputs": []
    },
    {
      "cell_type": "code",
      "source": [
        "def is_transaction_successful(money_received, drink_cost):\n",
        "  \"\"\"Returns the total calculated from coins inserted.\"\"\"\n",
        "  if money_received > drink_cost:\n",
        "    change = round(money_received - drink_cost , 2)\n",
        "    print(f'Here is ${change} in change')\n",
        "\n",
        "    global profit\n",
        "    profit += drink_cost\n",
        "    return True\n",
        "  else:\n",
        "    print('Sorry that is not enough money. Money Refunded')\n",
        "    return False"
      ],
      "metadata": {
        "id": "j6WL7xNK_B3s"
      },
      "execution_count": 4,
      "outputs": []
    },
    {
      "cell_type": "code",
      "source": [
        "def make_coffee(drink_name, order_ingredients):\n",
        "  \"\"\"Deduct the required ingredients from the resources.\"\"\"\n",
        "  for item in order_ingredients:\n",
        "    resources[item] -= order_ingredients[item]\n",
        "  print(f'Here is your ☕️ {drink_name}, Enjoy!')"
      ],
      "metadata": {
        "id": "OfNUmMe8XgLr"
      },
      "execution_count": 5,
      "outputs": []
    },
    {
      "cell_type": "code",
      "source": [
        "is_on = True\n",
        "\n",
        "\n",
        "while is_on:\n",
        "   user_input = input('What do you like? (Espresso/Latte/Cappuccino): ').lower()\n",
        "   if user_input == 'off':\n",
        "    is_on = False\n",
        "   elif user_input == 'report':\n",
        "    print(f\"Water : {resources['water']}ml\")\n",
        "    print(f\"Milk :{resources['milk']} 50ml\")\n",
        "    print(f\"Coffee : {resources['coffee']}76g\")\n",
        "    print(f'Money : ${profit}')\n",
        "   else:\n",
        "    drink = MENU[user_input]\n",
        "    if is_resource_sufficent(drink['ingredients']):\n",
        "      payment = process_coins()\n",
        "      if is_transaction_successful(payment, drink['cost']):\n",
        "        make_coffee(user_input, drink['ingredients'])"
      ],
      "metadata": {
        "colab": {
          "base_uri": "https://localhost:8080/"
        },
        "id": "WhRRwnvxliNw",
        "outputId": "f71d84a2-7f0f-4b0e-ff1b-a54fb0a2efc8"
      },
      "execution_count": null,
      "outputs": [
        {
          "output_type": "stream",
          "name": "stdout",
          "text": [
            "What do you like? (Espresso/Latte/Cappuccino): Latte\n",
            "Please insert coins\n",
            "How many quaters?:20\n",
            "How many dimes?:20\n",
            "How many nickles?:20\n",
            "How many pennies?:20\n",
            "Here is $5.7 in change\n",
            "Here is your ☕️ latte, Enjoy!\n",
            "What do you like? (Espresso/Latte/Cappuccino): Espresso\n",
            "Please insert coins\n",
            "How many quaters?:4\n",
            "How many dimes?:4\n",
            "How many nickles?:4\n",
            "How many pennies?:4\n",
            "Here is $0.14 in change\n",
            "Here is your ☕️ espresso, Enjoy!\n",
            "What do you like? (Espresso/Latte/Cappuccino): cappuccino\n",
            "Sorry there is not enough water.\n"
          ]
        }
      ]
    }
  ]
}