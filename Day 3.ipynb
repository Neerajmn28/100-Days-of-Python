{
  "nbformat": 4,
  "nbformat_minor": 0,
  "metadata": {
    "colab": {
      "provenance": [],
      "authorship_tag": "ABX9TyMcq26Qs6FXCXds/50Fkmbh",
      "include_colab_link": true
    },
    "kernelspec": {
      "name": "python3",
      "display_name": "Python 3"
    },
    "language_info": {
      "name": "python"
    }
  },
  "cells": [
    {
      "cell_type": "markdown",
      "metadata": {
        "id": "view-in-github",
        "colab_type": "text"
      },
      "source": [
        "<a href=\"https://colab.research.google.com/github/Neerajmn28/100-Days-of-Python/blob/main/Day%203.ipynb\" target=\"_parent\"><img src=\"https://colab.research.google.com/assets/colab-badge.svg\" alt=\"Open In Colab\"/></a>"
      ]
    },
    {
      "cell_type": "markdown",
      "source": [
        "In Python, if and if-else statements are used for conditional execution of code blocks based on the evaluation of conditions."
      ],
      "metadata": {
        "id": "4Z0vfXeL5Eqn"
      }
    },
    {
      "cell_type": "code",
      "execution_count": null,
      "metadata": {
        "colab": {
          "base_uri": "https://localhost:8080/"
        },
        "id": "-UaFfYJL3td3",
        "outputId": "e4aae6c5-093d-4252-d830-8e7af4c4096e"
      },
      "outputs": [
        {
          "output_type": "stream",
          "name": "stdout",
          "text": [
            "Welcome to the roller coaster\n",
            "What is your height:180\n",
            "You can ride the roller coaster!\n"
          ]
        }
      ],
      "source": [
        "# If and If-else statements\n",
        "print('Welcome to the roller coaster')\n",
        "height = int(input('What is your height:'))\n",
        "\n",
        "if height >= 120:\n",
        "  print('You can ride the roller coaster!')\n",
        "else:\n",
        "  print('You are too short to ride the roller coaster')"
      ]
    },
    {
      "cell_type": "markdown",
      "source": [
        "In Python, a nested if-else statement is where you place one or more if or else statements inside another if or else block."
      ],
      "metadata": {
        "id": "QUw7m8GeQJa2"
      }
    },
    {
      "cell_type": "code",
      "source": [
        "# Nested if/else\n",
        "print('Welcome to the rollercoaster!')\n",
        "height = int(input('What is your height in cm?: '))\n",
        "\n",
        "if height >= 150:\n",
        "  print('You can ride the rollercoaster')\n",
        "  age = int(input('Enter your age: '))\n",
        "  if age >=18:\n",
        "    print('Please pay $18!')\n",
        "  else:\n",
        "      print('Please pay $12!')\n",
        "else:\n",
        "  print('Sorry you have grow taller before you can ride')"
      ],
      "metadata": {
        "colab": {
          "base_uri": "https://localhost:8080/"
        },
        "id": "rcpfVs7k5yIn",
        "outputId": "4965207d-2213-4369-c25f-1cfbd81666db"
      },
      "execution_count": null,
      "outputs": [
        {
          "output_type": "stream",
          "name": "stdout",
          "text": [
            "Welcome to the rollercoaster!\n",
            "What is your height in cm?: 180\n",
            "You can ride the rollercoaster\n",
            "Enter your age: 18\n",
            "Please pay $18!\n"
          ]
        }
      ]
    },
    {
      "cell_type": "code",
      "source": [
        "# elif condition\n",
        "print('Welcome to the show!')\n",
        "height = int(input('Enter your height in cm:'))\n",
        "if height > 18:\n",
        "  print('You are allowed to ride')\n",
        "  age = int(input('Enter your age: '))\n",
        "  if age >18:\n",
        "    print('Please pay 10$')\n",
        "  elif age == 18:\n",
        "    print('Please pay 8$')\n",
        "  elif age == 16:\n",
        "    print('Please pay 6$')\n",
        "  else:\n",
        "    print('Sorry you dont have to pay anything')\n",
        "else:\n",
        "  print('Sorry you are not eligible')"
      ],
      "metadata": {
        "colab": {
          "base_uri": "https://localhost:8080/"
        },
        "id": "saRe8mL87xeU",
        "outputId": "81727e70-3e3e-4b35-be66-82db92dbc863"
      },
      "execution_count": null,
      "outputs": [
        {
          "output_type": "stream",
          "name": "stdout",
          "text": [
            "Welcome to the show!\n",
            "Enter your height in cm:180\n",
            "You are allowed to ride\n",
            "Enter your age: 28\n",
            "Please pay 10$\n"
          ]
        }
      ]
    },
    {
      "cell_type": "code",
      "source": [
        "# Multiple IF Condition\n",
        "print('Welcome to the show')\n",
        "height = int(input('Enter your height in cm:'))\n",
        "bill = 0\n",
        "if height >= 120:\n",
        "  print('You can ride the rollercoaster')\n",
        "  age = int(input('Enter your age: '))\n",
        "  if age <= 12:\n",
        "    bill = 5\n",
        "    print('Child tickets are $5')\n",
        "  elif age <= 18:\n",
        "    bill = 7\n",
        "    print('Youth tickets are $7')\n",
        "  else:\n",
        "    bill = 12\n",
        "    print('Adult tickets are $12')\n",
        "  want_photo = str(input('Do you want a photo?:'))\n",
        "  if want_photo == 'Yes':\n",
        "    bill += 3\n",
        "    print('Your final bill is $', bill)\n",
        "else:\n",
        "  print('Sorry you have to grow taller before you can ride')"
      ],
      "metadata": {
        "colab": {
          "base_uri": "https://localhost:8080/"
        },
        "id": "CyE6WLc19Cc9",
        "outputId": "1298a3f2-76d8-45df-9101-52a57996fc50"
      },
      "execution_count": null,
      "outputs": [
        {
          "output_type": "stream",
          "name": "stdout",
          "text": [
            "Welcome to the show\n",
            "Enter your height in cm:180\n",
            "You can ride the rollercoaster\n",
            "Enter your age: 27\n",
            "Adult tickets are $12\n",
            "Do you want a photo?:Yes\n",
            "Your final bill is $ 15\n"
          ]
        }
      ]
    },
    {
      "cell_type": "code",
      "source": [
        "# To check if a number is odd or even\n",
        "num = int(input('Enter a number: '))\n",
        "if num % 2 == 0:\n",
        "  print('The number is even')\n",
        "else:\n",
        "  print('The number is odd')"
      ],
      "metadata": {
        "colab": {
          "base_uri": "https://localhost:8080/"
        },
        "id": "ueBncEWy-l1D",
        "outputId": "50ef0fdd-813d-4623-85be-0696caa167c7"
      },
      "execution_count": null,
      "outputs": [
        {
          "output_type": "stream",
          "name": "stdout",
          "text": [
            "Enter a number: 2\n",
            "The number is even\n"
          ]
        }
      ]
    }
  ]
}