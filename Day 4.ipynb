{
  "nbformat": 4,
  "nbformat_minor": 0,
  "metadata": {
    "colab": {
      "provenance": [],
      "authorship_tag": "ABX9TyOsYK2JCCvsOE3FuGgbWPEf",
      "include_colab_link": true
    },
    "kernelspec": {
      "name": "python3",
      "display_name": "Python 3"
    },
    "language_info": {
      "name": "python"
    }
  },
  "cells": [
    {
      "cell_type": "markdown",
      "metadata": {
        "id": "view-in-github",
        "colab_type": "text"
      },
      "source": [
        "<a href=\"https://colab.research.google.com/github/Neerajmn28/100-Days-of-Python/blob/main/Day%204.ipynb\" target=\"_parent\"><img src=\"https://colab.research.google.com/assets/colab-badge.svg\" alt=\"Open In Colab\"/></a>"
      ]
    },
    {
      "cell_type": "markdown",
      "source": [
        "Randomisation and python lists."
      ],
      "metadata": {
        "id": "lHiCRd_2FPy1"
      }
    },
    {
      "cell_type": "code",
      "execution_count": 5,
      "metadata": {
        "id": "aFbGACbY5UTz"
      },
      "outputs": [],
      "source": [
        "import random"
      ]
    },
    {
      "cell_type": "code",
      "source": [
        "random_int = random.randint(1,10)\n",
        "print(random_int)"
      ],
      "metadata": {
        "colab": {
          "base_uri": "https://localhost:8080/"
        },
        "id": "AuQiSMUOFVOD",
        "outputId": "32c5564a-8a5b-4c48-b05f-d1289512d987"
      },
      "execution_count": null,
      "outputs": [
        {
          "output_type": "stream",
          "name": "stdout",
          "text": [
            "10\n"
          ]
        }
      ]
    },
    {
      "cell_type": "code",
      "source": [
        "random_number_0_to_1 = random.random()* 10 # Will give a random float point number\n",
        "print(random_number_0_to_1)"
      ],
      "metadata": {
        "colab": {
          "base_uri": "https://localhost:8080/"
        },
        "id": "PY2K9vBFFdqb",
        "outputId": "7dc09c1e-abe8-47f3-ca3d-c123c144acaa"
      },
      "execution_count": null,
      "outputs": [
        {
          "output_type": "stream",
          "name": "stdout",
          "text": [
            "3.7659497175459045\n"
          ]
        }
      ]
    },
    {
      "cell_type": "code",
      "source": [
        "random_float = random.uniform(1,10)\n",
        "print(random_float)"
      ],
      "metadata": {
        "colab": {
          "base_uri": "https://localhost:8080/"
        },
        "id": "skck3ArxFryE",
        "outputId": "7e09f52f-2f57-4cb3-cee4-89f9dee10159"
      },
      "execution_count": null,
      "outputs": [
        {
          "output_type": "stream",
          "name": "stdout",
          "text": [
            "2.67315432429867\n"
          ]
        }
      ]
    },
    {
      "cell_type": "code",
      "source": [
        "random_heads_or_tails = random.randint(0,1)\n",
        "if random_heads_or_tails == 1:\n",
        "  print('Heads')\n",
        "else:\n",
        "  print('Tails')"
      ],
      "metadata": {
        "colab": {
          "base_uri": "https://localhost:8080/"
        },
        "id": "fUDiMropGBJG",
        "outputId": "60e8152a-12d7-4243-eefb-cf7d7ddb4847"
      },
      "execution_count": null,
      "outputs": [
        {
          "output_type": "stream",
          "name": "stdout",
          "text": [
            "Heads\n"
          ]
        }
      ]
    },
    {
      "cell_type": "markdown",
      "source": [
        "###LISTS"
      ],
      "metadata": {
        "id": "f9yymqopR4Dw"
      }
    },
    {
      "cell_type": "markdown",
      "source": [
        "List is a collection data type that is used to store multiple items in a single variable. List is a ordered and mutable."
      ],
      "metadata": {
        "id": "rO8UN4-AR8OX"
      }
    },
    {
      "cell_type": "code",
      "source": [
        "states_of_america = ['Delaware','Pennsylvania','Ohio','New Jersy']\n",
        "\n",
        "print(states_of_america[0])"
      ],
      "metadata": {
        "colab": {
          "base_uri": "https://localhost:8080/"
        },
        "id": "2I4P2DuLSSVI",
        "outputId": "9afe1665-6e21-4872-9cdf-6dbb03bf7f98"
      },
      "execution_count": 1,
      "outputs": [
        {
          "output_type": "stream",
          "name": "stdout",
          "text": [
            "Delaware\n"
          ]
        }
      ]
    },
    {
      "cell_type": "code",
      "source": [
        "states_of_america[1] = 'Penny' # To add a string to a list\n",
        "print(states_of_america)"
      ],
      "metadata": {
        "colab": {
          "base_uri": "https://localhost:8080/"
        },
        "id": "JI__L1hOSjm3",
        "outputId": "14b7bf87-e21d-4f8b-a857-60b50696d0b7"
      },
      "execution_count": 2,
      "outputs": [
        {
          "output_type": "stream",
          "name": "stdout",
          "text": [
            "['Delaware', 'Penny', 'Ohio', 'New Jersy']\n"
          ]
        }
      ]
    },
    {
      "cell_type": "code",
      "source": [
        "states_of_america.append('Angelland') # Will add a new string to the last\n",
        "print(states_of_america)"
      ],
      "metadata": {
        "colab": {
          "base_uri": "https://localhost:8080/"
        },
        "id": "1gH01B-JStF4",
        "outputId": "e2563cf7-3910-4599-c9f9-493922085842"
      },
      "execution_count": 3,
      "outputs": [
        {
          "output_type": "stream",
          "name": "stdout",
          "text": [
            "['Delaware', 'Penny', 'Ohio', 'New Jersy', 'Angelland']\n"
          ]
        }
      ]
    },
    {
      "cell_type": "code",
      "source": [
        "friends = ['Alice','Bob','Charlie','David','Max']\n",
        "\n",
        "# Option 1\n",
        "print(random.choice(friends))\n",
        "\n",
        "# Option 2\n",
        "random_index = random.randint(0,4)\n",
        "print(friends[random_index])"
      ],
      "metadata": {
        "colab": {
          "base_uri": "https://localhost:8080/"
        },
        "id": "Jy16ZQvxS_eV",
        "outputId": "9f52b74f-0d31-4576-b6ce-4bcbb50070bc"
      },
      "execution_count": 16,
      "outputs": [
        {
          "output_type": "stream",
          "name": "stdout",
          "text": [
            "David\n",
            "Alice\n"
          ]
        }
      ]
    },
    {
      "cell_type": "code",
      "source": [
        "# Nested lists (A list within a list)\n",
        "fruits = ['Strawberries','Nectarines','Apples','Grapes','Peaches','Cherries','Pears']\n",
        "veggies = ['Spinach','Kale','Tomatoes','Celery','Potatoes']\n",
        "\n",
        "x = [fruits, veggies]\n",
        "print(x)"
      ],
      "metadata": {
        "colab": {
          "base_uri": "https://localhost:8080/"
        },
        "id": "Vh7gO5QVUDVF",
        "outputId": "7a08b0ec-b733-4e78-be26-f3a64251bd3d"
      },
      "execution_count": 20,
      "outputs": [
        {
          "output_type": "stream",
          "name": "stdout",
          "text": [
            "[['Strawberries', 'Nectarines', 'Apples', 'Grapes', 'Peaches', 'Cherries', 'Pears'], ['Spinach', 'Kale', 'Tomatoes', 'Celery', 'Potatoes']]\n"
          ]
        }
      ]
    },
    {
      "cell_type": "code",
      "source": [
        "print(x[1])\n",
        "print(x[0])\n",
        "print(x[1][2])\n",
        "print(x[0][1])"
      ],
      "metadata": {
        "colab": {
          "base_uri": "https://localhost:8080/"
        },
        "id": "CrPnUkD4UPLi",
        "outputId": "a9a281ed-8a8e-4285-b86b-19c9c24b9b18"
      },
      "execution_count": 28,
      "outputs": [
        {
          "output_type": "stream",
          "name": "stdout",
          "text": [
            "['Spinach', 'Kale', 'Tomatoes', 'Celery', 'Potatoes']\n",
            "['Strawberries', 'Nectarines', 'Apples', 'Grapes', 'Peaches', 'Cherries', 'Pears']\n",
            "Tomatoes\n",
            "Nectarines\n"
          ]
        }
      ]
    }
  ]
}