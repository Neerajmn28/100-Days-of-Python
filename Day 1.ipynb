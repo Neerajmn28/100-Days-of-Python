{
  "nbformat": 4,
  "nbformat_minor": 0,
  "metadata": {
    "colab": {
      "provenance": []
    },
    "kernelspec": {
      "name": "python3",
      "display_name": "Python 3"
    },
    "language_info": {
      "name": "python"
    }
  },
  "cells": [
    {
      "cell_type": "markdown",
      "source": [
        "#### Day - 1 (Printing, Inputting, Commenting, Debugging, Syntax Errors, String manipulators, Variables)"
      ],
      "metadata": {
        "id": "n-hPQLGdZEeF"
      }
    },
    {
      "cell_type": "markdown",
      "source": [
        "Printing"
      ],
      "metadata": {
        "id": "ZzdjDAYDZZXY"
      }
    },
    {
      "cell_type": "code",
      "execution_count": 1,
      "metadata": {
        "colab": {
          "base_uri": "https://localhost:8080/"
        },
        "id": "5u7223lJY8Cy",
        "outputId": "50e0fcbb-ca5e-4145-adc2-8e550cb77108"
      },
      "outputs": [
        {
          "output_type": "stream",
          "name": "stdout",
          "text": [
            "1.Mix 500g of flour, 10g Yeast and 300ml Water in a bowl.\n",
            "2.Knead the dough for 10 minutes.\n",
            "3.Add 3g of salt.\n",
            "4.Leave to rise for 2 hours.\n",
            "5.bake at 200 degrees C for 30 minutes.\n"
          ]
        }
      ],
      "source": [
        "print('1.Mix 500g of flour, 10g Yeast and 300ml Water in a bowl.')\n",
        "print('2.Knead the dough for 10 minutes.')\n",
        "print('3.Add 3g of salt.')\n",
        "print('4.Leave to rise for 2 hours.')\n",
        "print('5.bake at 200 degrees C for 30 minutes.')"
      ]
    },
    {
      "cell_type": "code",
      "source": [
        "# How to create a new line\n",
        "print('Hello World!\\nHello World!\\nHello World!')\n",
        "print('Hey,\\nHow are you?')"
      ],
      "metadata": {
        "colab": {
          "base_uri": "https://localhost:8080/"
        },
        "id": "lH1dbL-rZ_UV",
        "outputId": "b0b89517-f0b3-4418-9f3c-8acf780617e5"
      },
      "execution_count": 3,
      "outputs": [
        {
          "output_type": "stream",
          "name": "stdout",
          "text": [
            "Hello World!\n",
            "Hello World!\n",
            "Hello World!\n",
            "Hey,\n",
            "How are you?\n"
          ]
        }
      ]
    },
    {
      "cell_type": "code",
      "source": [
        "# Concatenating a string\n",
        "print('Hello' + ' World')\n",
        "print('Hello World' + '!')\n",
        "print('Hello'+' '+'World')"
      ],
      "metadata": {
        "colab": {
          "base_uri": "https://localhost:8080/"
        },
        "id": "U6evKAHDaRzq",
        "outputId": "f560d53b-c787-4140-d8d1-021b6e835aca"
      },
      "execution_count": 10,
      "outputs": [
        {
          "output_type": "stream",
          "name": "stdout",
          "text": [
            "Hello World\n",
            "Hello World!\n",
            "Hello World\n"
          ]
        }
      ]
    },
    {
      "cell_type": "code",
      "source": [
        "# Inputting\n",
        "input('What is your name?:')\n",
        "print('Hello'+ ' '+ input('What is your name?:'))\n",
        "print('Hello'+ ' ' +input('What is your name?')+'!')\n",
        "print('Hello'+ ' ' +input('What is your name:'))"
      ],
      "metadata": {
        "id": "7tzq5SsPajm_"
      },
      "execution_count": null,
      "outputs": []
    },
    {
      "cell_type": "code",
      "source": [
        "name = input('What is your name?:')\n",
        "print(name)\n",
        "len(name)"
      ],
      "metadata": {
        "colab": {
          "base_uri": "https://localhost:8080/"
        },
        "id": "zMSIEzSubNHz",
        "outputId": "0597c67c-ee6b-4b53-d422-9d60ce3143c6"
      },
      "execution_count": 14,
      "outputs": [
        {
          "output_type": "stream",
          "name": "stdout",
          "text": [
            "What is your name?:Neeraj\n",
            "Neeraj\n"
          ]
        },
        {
          "output_type": "execute_result",
          "data": {
            "text/plain": [
              "6"
            ]
          },
          "metadata": {},
          "execution_count": 14
        }
      ]
    },
    {
      "cell_type": "code",
      "source": [
        "a = print(len(input('What is your name?:')))"
      ],
      "metadata": {
        "colab": {
          "base_uri": "https://localhost:8080/"
        },
        "id": "IHSrpmp5byhr",
        "outputId": "b2c8f314-b880-4ec7-bacb-ddaf4b29af9a"
      },
      "execution_count": 15,
      "outputs": [
        {
          "output_type": "stream",
          "name": "stdout",
          "text": [
            "What is your name?:Neeraj\n",
            "6\n"
          ]
        }
      ]
    },
    {
      "cell_type": "code",
      "source": [
        "num = input('Enter a two digit number:')\n",
        "length = len(num)\n",
        "print(length)"
      ],
      "metadata": {
        "colab": {
          "base_uri": "https://localhost:8080/"
        },
        "id": "RZ4ltENXcDUO",
        "outputId": "e4af23a7-244c-49ba-861a-d5f23a70200f"
      },
      "execution_count": 18,
      "outputs": [
        {
          "output_type": "stream",
          "name": "stdout",
          "text": [
            "Enter a two digit number:28\n",
            "2\n"
          ]
        }
      ]
    }
  ]
}