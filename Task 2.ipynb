{
 "cells": [
  {
   "cell_type": "code",
   "execution_count": 13,
   "id": "0ce938f7",
   "metadata": {},
   "outputs": [],
   "source": [
    "def tip_calculator():\n",
    "    print('Welcome to the tip calculator!')\n",
    "    bill = float(input('Please enter the bill amount!'))\n",
    "    tip = int(input('What percenteage tip would you like to give? 10, 15,20, 30?'))\n",
    "    people = int(input('How many people are there?: '))\n",
    "    bill_with_tip = tip / 100\n",
    "    total_bill = bill_with_tip * bill\n",
    "    final_bill = total_bill + bill\n",
    "    bill_per_person = final_bill / people\n",
    "    print('Each person should pay', + (bill_per_person))\n"
   ]
  },
  {
   "cell_type": "code",
   "execution_count": 14,
   "id": "0b5384b2",
   "metadata": {},
   "outputs": [
    {
     "name": "stdout",
     "output_type": "stream",
     "text": [
      "Welcome to the tip calculator!\n",
      "Please enter the bill amount!1000\n",
      "What percenteage tip would you like to give? 10, 15,20, 30?10\n",
      "How many people are there?: 4\n",
      "Each person should pay 275.0\n"
     ]
    }
   ],
   "source": [
    "tip_calculator()"
   ]
  }
 ],
 "metadata": {
  "kernelspec": {
   "display_name": "Python 3 (ipykernel)",
   "language": "python",
   "name": "python3"
  },
  "language_info": {
   "codemirror_mode": {
    "name": "ipython",
    "version": 3
   },
   "file_extension": ".py",
   "mimetype": "text/x-python",
   "name": "python",
   "nbconvert_exporter": "python",
   "pygments_lexer": "ipython3",
   "version": "3.10.9"
  }
 },
 "nbformat": 4,
 "nbformat_minor": 5
}
