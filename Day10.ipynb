{
  "nbformat": 4,
  "nbformat_minor": 0,
  "metadata": {
    "colab": {
      "provenance": [],
      "include_colab_link": true
    },
    "kernelspec": {
      "name": "python3",
      "display_name": "Python 3"
    },
    "language_info": {
      "name": "python"
    }
  },
  "cells": [
    {
      "cell_type": "markdown",
      "metadata": {
        "id": "view-in-github",
        "colab_type": "text"
      },
      "source": [
        "<a href=\"https://colab.research.google.com/github/Neerajmn28/100-Days-of-Python/blob/main/Day10.ipynb\" target=\"_parent\"><img src=\"https://colab.research.google.com/assets/colab-badge.svg\" alt=\"Open In Colab\"/></a>"
      ]
    },
    {
      "cell_type": "markdown",
      "source": [
        "### FUNCTIONS WITH OUTPUTS"
      ],
      "metadata": {
        "id": "F-ZcYGMKxyAP"
      }
    },
    {
      "cell_type": "code",
      "source": [
        "def format_name(first_name, last_name):\n",
        "  print(first_name.title())\n",
        "  print(last_name.title())"
      ],
      "metadata": {
        "id": "84aFkIJNxwgv"
      },
      "execution_count": 21,
      "outputs": []
    },
    {
      "cell_type": "code",
      "source": [
        "format_name('Functions','outputs')"
      ],
      "metadata": {
        "colab": {
          "base_uri": "https://localhost:8080/"
        },
        "id": "zUPxAUMByIH0",
        "outputId": "c3226a51-0e42-498c-ad84-a1da2a655be0"
      },
      "execution_count": 22,
      "outputs": [
        {
          "output_type": "stream",
          "name": "stdout",
          "text": [
            "Functions\n",
            "Outputs\n"
          ]
        }
      ]
    },
    {
      "cell_type": "code",
      "source": [
        "def format(f_name, l_name):\n",
        "  format_f_name = f_name.upper()\n",
        "  format_l_name = l_name.upper()\n",
        "  print('Here is the result')\n",
        "  print('First name:',format_f_name,'Last_name:',format_l_name)"
      ],
      "metadata": {
        "id": "r8gfr7rZyPME"
      },
      "execution_count": 23,
      "outputs": []
    },
    {
      "cell_type": "code",
      "source": [
        "format('python','powerbi')"
      ],
      "metadata": {
        "colab": {
          "base_uri": "https://localhost:8080/"
        },
        "id": "UxjCzTYNzCqC",
        "outputId": "38adbb7b-c988-4d24-9fac-dac3fd4834b9"
      },
      "execution_count": 24,
      "outputs": [
        {
          "output_type": "stream",
          "name": "stdout",
          "text": [
            "Here is the result\n",
            "First name: PYTHON Last_name: POWERBI\n"
          ]
        }
      ]
    },
    {
      "cell_type": "code",
      "source": [
        "def format_name(f_name, l_name):\n",
        "  formated_f_name = f_name.lower()\n",
        "  formated_l_name = l_name.lower()\n",
        "  return f\"{formated_f_name} {formated_l_name}\""
      ],
      "metadata": {
        "id": "mmeCpYk3zWkP"
      },
      "execution_count": 25,
      "outputs": []
    },
    {
      "cell_type": "code",
      "source": [
        "format_name('HELLO','WORLD')"
      ],
      "metadata": {
        "colab": {
          "base_uri": "https://localhost:8080/",
          "height": 35
        },
        "id": "xW5xPKDG2xZB",
        "outputId": "01e3912f-f1be-4491-aa93-b3839533c627"
      },
      "execution_count": 26,
      "outputs": [
        {
          "output_type": "execute_result",
          "data": {
            "text/plain": [
              "'hello world'"
            ],
            "application/vnd.google.colaboratory.intrinsic+json": {
              "type": "string"
            }
          },
          "metadata": {},
          "execution_count": 26
        }
      ]
    },
    {
      "cell_type": "code",
      "source": [
        "def function_1(text):\n",
        "  return text + text"
      ],
      "metadata": {
        "id": "b-0IE24i27bZ"
      },
      "execution_count": 27,
      "outputs": []
    },
    {
      "cell_type": "code",
      "source": [
        "function_1('Hey')"
      ],
      "metadata": {
        "colab": {
          "base_uri": "https://localhost:8080/",
          "height": 35
        },
        "id": "SQizPGir3HJT",
        "outputId": "7f447d81-45a3-47ce-e8b5-106a894fe54e"
      },
      "execution_count": 28,
      "outputs": [
        {
          "output_type": "execute_result",
          "data": {
            "text/plain": [
              "'HeyHey'"
            ],
            "application/vnd.google.colaboratory.intrinsic+json": {
              "type": "string"
            }
          },
          "metadata": {},
          "execution_count": 28
        }
      ]
    },
    {
      "cell_type": "code",
      "source": [
        "def function_2(text):\n",
        "  return text * 3"
      ],
      "metadata": {
        "id": "3G5ZGkRx3J_m"
      },
      "execution_count": 29,
      "outputs": []
    },
    {
      "cell_type": "code",
      "source": [
        "function_2('Hello')"
      ],
      "metadata": {
        "colab": {
          "base_uri": "https://localhost:8080/",
          "height": 35
        },
        "id": "M59cNTCK3YsZ",
        "outputId": "e1d3cb5d-77e1-4e22-a9dd-641df8eee7f1"
      },
      "execution_count": 30,
      "outputs": [
        {
          "output_type": "execute_result",
          "data": {
            "text/plain": [
              "'HelloHelloHello'"
            ],
            "application/vnd.google.colaboratory.intrinsic+json": {
              "type": "string"
            }
          },
          "metadata": {},
          "execution_count": 30
        }
      ]
    },
    {
      "cell_type": "code",
      "source": [
        "output = function_2(function_1('Hey')) # This is how we take function number 1 as the input for the function no 2\n",
        "print(output)"
      ],
      "metadata": {
        "colab": {
          "base_uri": "https://localhost:8080/"
        },
        "id": "hDOoEX6O3b7T",
        "outputId": "053e4414-5975-4bfa-ea7c-d7cfd753cfe4"
      },
      "execution_count": 31,
      "outputs": [
        {
          "output_type": "stream",
          "name": "stdout",
          "text": [
            "HeyHeyHeyHeyHeyHey\n"
          ]
        }
      ]
    },
    {
      "cell_type": "code",
      "source": [
        "def formated_name(f_name, l_name):\n",
        "  formated_f_name = f_name.title()\n",
        "  formated_l_name = l_name.title()\n",
        "  return f\"{formated_f_name} {formated_l_name}\""
      ],
      "metadata": {
        "id": "LkQnt7Uw3zly"
      },
      "execution_count": 32,
      "outputs": []
    },
    {
      "cell_type": "code",
      "source": [
        "print(formated_name(input('What is your first name: '), input('What is your second name: ')))"
      ],
      "metadata": {
        "colab": {
          "base_uri": "https://localhost:8080/"
        },
        "id": "DGCUiKea4mYx",
        "outputId": "36915278-1629-47bd-fec2-50ed41c48095"
      },
      "execution_count": 33,
      "outputs": [
        {
          "output_type": "stream",
          "name": "stdout",
          "text": [
            "What is your first name: Neeraj\n",
            "What is your second name: Mn\n",
            "Neeraj Mn\n"
          ]
        }
      ]
    },
    {
      "cell_type": "code",
      "source": [
        "def format_name(f_name, l_name):\n",
        "  if f_name == '' or l_name == '':\n",
        "    return 'You did not provide valid inputs'"
      ],
      "metadata": {
        "id": "fL_xfn0b40uk"
      },
      "execution_count": 34,
      "outputs": []
    },
    {
      "cell_type": "markdown",
      "source": [
        "DOCSTRINGS"
      ],
      "metadata": {
        "id": "LTBQdNd25NuH"
      }
    },
    {
      "cell_type": "markdown",
      "source": [
        "\n",
        "A docstring in Python is a special type of string used to document a specific segment of code, such as a function, class, or module. It provides a convenient way to explain what the code does, how to use it, and any relevant details."
      ],
      "metadata": {
        "id": "XT8ffZ4-5Wje"
      }
    },
    {
      "cell_type": "code",
      "source": [
        "def format_name(f_name, l_name):\n",
        "  '''Take a first name and last name and\n",
        "   format it to return the title casee version of the name'''\n",
        "  formatted_f = f_name.title()\n",
        "  formatted_l = l_name.title()\n",
        "  return f'{formatted_f} {formatted_l}'"
      ],
      "metadata": {
        "id": "vi5NguUN5MAT"
      },
      "execution_count": 35,
      "outputs": []
    },
    {
      "cell_type": "code",
      "source": [
        "format_name('hacker','rank')"
      ],
      "metadata": {
        "colab": {
          "base_uri": "https://localhost:8080/",
          "height": 35
        },
        "id": "kRbVoKc79Rq9",
        "outputId": "96186fa9-90e9-4073-e08b-1ba2abf34c40"
      },
      "execution_count": 36,
      "outputs": [
        {
          "output_type": "execute_result",
          "data": {
            "text/plain": [
              "'Hacker Rank'"
            ],
            "application/vnd.google.colaboratory.intrinsic+json": {
              "type": "string"
            }
          },
          "metadata": {},
          "execution_count": 36
        }
      ]
    },
    {
      "cell_type": "code",
      "source": [
        "formatted_name = format_name('hey','hello')\n",
        "print(formatted_name)"
      ],
      "metadata": {
        "colab": {
          "base_uri": "https://localhost:8080/"
        },
        "id": "7CAEm4M29ZMJ",
        "outputId": "fc1140da-0185-4fc7-b0b2-616edcbddf65"
      },
      "execution_count": 37,
      "outputs": [
        {
          "output_type": "stream",
          "name": "stdout",
          "text": [
            "Hey Hello\n"
          ]
        }
      ]
    },
    {
      "cell_type": "code",
      "source": [
        "def leap_year(year):\n",
        "    if year % 4 == 0:  # Check if the year is divisible by 4\n",
        "        if year % 100 == 0:  # If divisible by 4, check if it's divisible by 100\n",
        "            if year % 400 == 0:  # If divisible by 100, check if it's divisible by 400\n",
        "                return True  # Divisible by 400 → Leap year\n",
        "            else:\n",
        "                return False  # Divisible by 100 but not by 400 → Not a leap year\n",
        "        else:\n",
        "            return True  # Divisible by 4 but not by 100 → Leap year\n",
        "    return False  # Not divisible by 4 → Not a leap year"
      ],
      "metadata": {
        "id": "ir45RjTy-2tw"
      },
      "execution_count": 38,
      "outputs": []
    },
    {
      "cell_type": "code",
      "source": [
        "leap_year(2000)"
      ],
      "metadata": {
        "colab": {
          "base_uri": "https://localhost:8080/"
        },
        "id": "WetVGiIUFw9l",
        "outputId": "a64370b2-7c60-42e7-a954-f18daaec4205"
      },
      "execution_count": 39,
      "outputs": [
        {
          "output_type": "execute_result",
          "data": {
            "text/plain": [
              "True"
            ]
          },
          "metadata": {},
          "execution_count": 39
        }
      ]
    },
    {
      "cell_type": "code",
      "source": [
        "leap_year(1945)"
      ],
      "metadata": {
        "colab": {
          "base_uri": "https://localhost:8080/"
        },
        "id": "nQbp37YrHtiu",
        "outputId": "9c103fc4-4758-4b76-d953-238de5faba52"
      },
      "execution_count": 40,
      "outputs": [
        {
          "output_type": "execute_result",
          "data": {
            "text/plain": [
              "False"
            ]
          },
          "metadata": {},
          "execution_count": 40
        }
      ]
    }
  ]
}