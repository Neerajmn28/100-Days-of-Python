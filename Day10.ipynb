{
  "nbformat": 4,
  "nbformat_minor": 0,
  "metadata": {
    "colab": {
      "provenance": [],
      "include_colab_link": true
    },
    "kernelspec": {
      "name": "python3",
      "display_name": "Python 3"
    },
    "language_info": {
      "name": "python"
    }
  },
  "cells": [
    {
      "cell_type": "markdown",
      "metadata": {
        "id": "view-in-github",
        "colab_type": "text"
      },
      "source": [
        "<a href=\"https://colab.research.google.com/github/Neerajmn28/100-Days-of-Python/blob/main/Day10.ipynb\" target=\"_parent\"><img src=\"https://colab.research.google.com/assets/colab-badge.svg\" alt=\"Open In Colab\"/></a>"
      ]
    },
    {
      "cell_type": "markdown",
      "source": [
        "### FUNCTIONS WITH OUTPUTS"
      ],
      "metadata": {
        "id": "F-ZcYGMKxyAP"
      }
    },
    {
      "cell_type": "code",
      "source": [
        "def format_name(first_name, last_name):\n",
        "  print(first_name.title())\n",
        "  print(last_name.title())"
      ],
      "metadata": {
        "id": "84aFkIJNxwgv"
      },
      "execution_count": 29,
      "outputs": []
    },
    {
      "cell_type": "code",
      "source": [
        "format_name('Functions','outputs')"
      ],
      "metadata": {
        "colab": {
          "base_uri": "https://localhost:8080/"
        },
        "id": "zUPxAUMByIH0",
        "outputId": "f990b350-308e-49cb-83be-e7c3ec0c76c7"
      },
      "execution_count": 30,
      "outputs": [
        {
          "output_type": "stream",
          "name": "stdout",
          "text": [
            "Functions\n",
            "Outputs\n"
          ]
        }
      ]
    },
    {
      "cell_type": "code",
      "source": [
        "def format(f_name, l_name):\n",
        "  format_f_name = f_name.upper()\n",
        "  format_l_name = l_name.upper()\n",
        "  print('Here is the result')\n",
        "  print('First name:',format_f_name,'Last_name:',format_l_name)"
      ],
      "metadata": {
        "id": "r8gfr7rZyPME"
      },
      "execution_count": 31,
      "outputs": []
    },
    {
      "cell_type": "code",
      "source": [
        "format('python','powerbi')"
      ],
      "metadata": {
        "colab": {
          "base_uri": "https://localhost:8080/"
        },
        "id": "UxjCzTYNzCqC",
        "outputId": "ae90805c-affb-4bba-d8be-62b74c316ac8"
      },
      "execution_count": 32,
      "outputs": [
        {
          "output_type": "stream",
          "name": "stdout",
          "text": [
            "Here is the result\n",
            "First name: PYTHON Last_name: POWERBI\n"
          ]
        }
      ]
    },
    {
      "cell_type": "code",
      "source": [
        "def format_name(f_name, l_name):\n",
        "  formated_f_name = f_name.lower()\n",
        "  formated_l_name = l_name.lower()\n",
        "  return f\"{formated_f_name} {formated_l_name}\""
      ],
      "metadata": {
        "id": "mmeCpYk3zWkP"
      },
      "execution_count": 33,
      "outputs": []
    },
    {
      "cell_type": "code",
      "source": [
        "format_name('HELLO','WORLD')"
      ],
      "metadata": {
        "colab": {
          "base_uri": "https://localhost:8080/",
          "height": 35
        },
        "id": "xW5xPKDG2xZB",
        "outputId": "0b828781-8f00-4110-fa25-a3d601254a77"
      },
      "execution_count": 34,
      "outputs": [
        {
          "output_type": "execute_result",
          "data": {
            "text/plain": [
              "'hello world'"
            ],
            "application/vnd.google.colaboratory.intrinsic+json": {
              "type": "string"
            }
          },
          "metadata": {},
          "execution_count": 34
        }
      ]
    },
    {
      "cell_type": "code",
      "source": [
        "def function_1(text):\n",
        "  return text + text"
      ],
      "metadata": {
        "id": "b-0IE24i27bZ"
      },
      "execution_count": 35,
      "outputs": []
    },
    {
      "cell_type": "code",
      "source": [
        "function_1('Hey')"
      ],
      "metadata": {
        "colab": {
          "base_uri": "https://localhost:8080/",
          "height": 35
        },
        "id": "SQizPGir3HJT",
        "outputId": "bff5cbe8-797c-4f76-846e-bb677afe1b97"
      },
      "execution_count": 36,
      "outputs": [
        {
          "output_type": "execute_result",
          "data": {
            "text/plain": [
              "'HeyHey'"
            ],
            "application/vnd.google.colaboratory.intrinsic+json": {
              "type": "string"
            }
          },
          "metadata": {},
          "execution_count": 36
        }
      ]
    },
    {
      "cell_type": "code",
      "source": [
        "def function_2(text):\n",
        "  return text * 3"
      ],
      "metadata": {
        "id": "3G5ZGkRx3J_m"
      },
      "execution_count": 37,
      "outputs": []
    },
    {
      "cell_type": "code",
      "source": [
        "function_2('Hello')"
      ],
      "metadata": {
        "colab": {
          "base_uri": "https://localhost:8080/",
          "height": 35
        },
        "id": "M59cNTCK3YsZ",
        "outputId": "a9d25406-acde-479b-bd15-9e90aeddffef"
      },
      "execution_count": 38,
      "outputs": [
        {
          "output_type": "execute_result",
          "data": {
            "text/plain": [
              "'HelloHelloHello'"
            ],
            "application/vnd.google.colaboratory.intrinsic+json": {
              "type": "string"
            }
          },
          "metadata": {},
          "execution_count": 38
        }
      ]
    },
    {
      "cell_type": "code",
      "source": [
        "output = function_2(function_1('Hey')) # This is how we take function number 1 as the input for the function no 2\n",
        "print(output)"
      ],
      "metadata": {
        "colab": {
          "base_uri": "https://localhost:8080/"
        },
        "id": "hDOoEX6O3b7T",
        "outputId": "ba534146-1a7b-48e0-d19f-08434893cd5b"
      },
      "execution_count": 39,
      "outputs": [
        {
          "output_type": "stream",
          "name": "stdout",
          "text": [
            "HeyHeyHeyHeyHeyHey\n"
          ]
        }
      ]
    },
    {
      "cell_type": "code",
      "source": [
        "def formated_name(f_name, l_name):\n",
        "  formated_f_name = f_name.title()\n",
        "  formated_l_name = l_name.title()\n",
        "  return f\"{formated_f_name} {formated_l_name}\""
      ],
      "metadata": {
        "id": "LkQnt7Uw3zly"
      },
      "execution_count": 40,
      "outputs": []
    },
    {
      "cell_type": "code",
      "source": [
        "print(formated_name(input('What is your first name: '), input('What is your second name: ')))"
      ],
      "metadata": {
        "colab": {
          "base_uri": "https://localhost:8080/"
        },
        "id": "DGCUiKea4mYx",
        "outputId": "38bba56b-f2d2-47b1-dec2-20300dfb96f1"
      },
      "execution_count": null,
      "outputs": [
        {
          "name": "stdout",
          "output_type": "stream",
          "text": [
            "What is your first name: Neeraj\n"
          ]
        }
      ]
    },
    {
      "cell_type": "code",
      "source": [
        "def format_name(f_name, l_name):\n",
        "  if f_name == '' or l_name == '':\n",
        "    return 'You did not provide valid inputs'"
      ],
      "metadata": {
        "id": "fL_xfn0b40uk"
      },
      "execution_count": null,
      "outputs": []
    },
    {
      "cell_type": "markdown",
      "source": [
        "DOCSTRINGS"
      ],
      "metadata": {
        "id": "LTBQdNd25NuH"
      }
    },
    {
      "cell_type": "markdown",
      "source": [
        "\n",
        "A docstring in Python is a special type of string used to document a specific segment of code, such as a function, class, or module. It provides a convenient way to explain what the code does, how to use it, and any relevant details."
      ],
      "metadata": {
        "id": "XT8ffZ4-5Wje"
      }
    },
    {
      "cell_type": "code",
      "source": [
        "def format_name(f_name, l_name):\n",
        "  '''Take a first name and last name and\n",
        "   format it to return the title casee version of the name'''\n",
        "  formatted_f = f_name.title()\n",
        "  formatted_l = l_name.title()\n",
        "  return f'{formatted_f} {formatted_l}'"
      ],
      "metadata": {
        "id": "vi5NguUN5MAT"
      },
      "execution_count": null,
      "outputs": []
    },
    {
      "cell_type": "code",
      "source": [
        "format_name('hacker','rank')"
      ],
      "metadata": {
        "colab": {
          "base_uri": "https://localhost:8080/",
          "height": 35
        },
        "id": "kRbVoKc79Rq9",
        "outputId": "611e18fd-63c2-41be-d5ca-e6ede2fd13bc"
      },
      "execution_count": 24,
      "outputs": [
        {
          "output_type": "execute_result",
          "data": {
            "text/plain": [
              "'Hacker Rank'"
            ],
            "application/vnd.google.colaboratory.intrinsic+json": {
              "type": "string"
            }
          },
          "metadata": {},
          "execution_count": 24
        }
      ]
    },
    {
      "cell_type": "code",
      "source": [
        "formatted_name = format_name('hey','hello')\n",
        "print(formatted_name)"
      ],
      "metadata": {
        "colab": {
          "base_uri": "https://localhost:8080/"
        },
        "id": "7CAEm4M29ZMJ",
        "outputId": "75d295f9-b352-431d-a742-eba5c9cac862"
      },
      "execution_count": 25,
      "outputs": [
        {
          "output_type": "stream",
          "name": "stdout",
          "text": [
            "Hey Hello\n"
          ]
        }
      ]
    },
    {
      "cell_type": "code",
      "source": [
        "def leap_year(year):\n",
        "    if year % 4 == 0:  # Check if the year is divisible by 4\n",
        "        if year % 100 == 0:  # If divisible by 4, check if it's divisible by 100\n",
        "            if year % 400 == 0:  # If divisible by 100, check if it's divisible by 400\n",
        "                return True  # Divisible by 400 → Leap year\n",
        "            else:\n",
        "                return False  # Divisible by 100 but not by 400 → Not a leap year\n",
        "        else:\n",
        "            return True  # Divisible by 4 but not by 100 → Leap year\n",
        "    return False  # Not divisible by 4 → Not a leap year"
      ],
      "metadata": {
        "id": "ir45RjTy-2tw"
      },
      "execution_count": 26,
      "outputs": []
    },
    {
      "cell_type": "code",
      "source": [
        "leap_year(2000)"
      ],
      "metadata": {
        "colab": {
          "base_uri": "https://localhost:8080/"
        },
        "id": "WetVGiIUFw9l",
        "outputId": "66aa420e-02d9-4977-fcbf-f9b8749ce4e4"
      },
      "execution_count": 27,
      "outputs": [
        {
          "output_type": "execute_result",
          "data": {
            "text/plain": [
              "True"
            ]
          },
          "metadata": {},
          "execution_count": 27
        }
      ]
    },
    {
      "cell_type": "code",
      "source": [
        "leap_year(1945)"
      ],
      "metadata": {
        "colab": {
          "base_uri": "https://localhost:8080/"
        },
        "id": "nQbp37YrHtiu",
        "outputId": "2fc95c45-1a0b-4608-906a-22ab24f8604e"
      },
      "execution_count": 28,
      "outputs": [
        {
          "output_type": "execute_result",
          "data": {
            "text/plain": [
              "False"
            ]
          },
          "metadata": {},
          "execution_count": 28
        }
      ]
    }
  ]
}