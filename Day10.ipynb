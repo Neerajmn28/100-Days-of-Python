{
  "nbformat": 4,
  "nbformat_minor": 0,
  "metadata": {
    "colab": {
      "provenance": [],
      "authorship_tag": "ABX9TyO3aeFJQRrsOPSWxX1UnfzG",
      "include_colab_link": true
    },
    "kernelspec": {
      "name": "python3",
      "display_name": "Python 3"
    },
    "language_info": {
      "name": "python"
    }
  },
  "cells": [
    {
      "cell_type": "markdown",
      "metadata": {
        "id": "view-in-github",
        "colab_type": "text"
      },
      "source": [
        "<a href=\"https://colab.research.google.com/github/Neerajmn28/100-Days-of-Python/blob/main/Day10.ipynb\" target=\"_parent\"><img src=\"https://colab.research.google.com/assets/colab-badge.svg\" alt=\"Open In Colab\"/></a>"
      ]
    },
    {
      "cell_type": "markdown",
      "source": [
        "### FUNCTIONS WITH OUTPUTS"
      ],
      "metadata": {
        "id": "F-ZcYGMKxyAP"
      }
    },
    {
      "cell_type": "code",
      "source": [
        "def format_name(first_name, last_name):\n",
        "  print(first_name.title())\n",
        "  print(last_name.title())"
      ],
      "metadata": {
        "id": "84aFkIJNxwgv"
      },
      "execution_count": 2,
      "outputs": []
    },
    {
      "cell_type": "code",
      "source": [
        "format_name('Functions','outputs')"
      ],
      "metadata": {
        "colab": {
          "base_uri": "https://localhost:8080/"
        },
        "id": "zUPxAUMByIH0",
        "outputId": "4a792442-d447-432e-a520-49e8a4451df1"
      },
      "execution_count": 3,
      "outputs": [
        {
          "output_type": "stream",
          "name": "stdout",
          "text": [
            "Functions\n",
            "Outputs\n"
          ]
        }
      ]
    },
    {
      "cell_type": "code",
      "source": [
        "def format(f_name, l_name):\n",
        "  format_f_name = f_name.upper()\n",
        "  format_l_name = l_name.upper()\n",
        "  print('Here is the result')\n",
        "  print('First name:',format_f_name,'Last_name:',format_l_name)"
      ],
      "metadata": {
        "id": "r8gfr7rZyPME"
      },
      "execution_count": 8,
      "outputs": []
    },
    {
      "cell_type": "code",
      "source": [
        "format('python','powerbi')"
      ],
      "metadata": {
        "colab": {
          "base_uri": "https://localhost:8080/"
        },
        "id": "UxjCzTYNzCqC",
        "outputId": "46fc1c38-deed-4674-ef07-8d1e4ffb64fc"
      },
      "execution_count": 9,
      "outputs": [
        {
          "output_type": "stream",
          "name": "stdout",
          "text": [
            "Here is the result\n",
            "First name: PYTHON Last_name: POWERBI\n"
          ]
        }
      ]
    },
    {
      "cell_type": "code",
      "source": [
        "def format_name(f_name, l_name):\n",
        "  formated_f_name = f_name.lower()\n",
        "  formated_l_name = l_name.lower()\n",
        "  return f\"{formated_f_name} {formated_l_name}\""
      ],
      "metadata": {
        "id": "mmeCpYk3zWkP"
      },
      "execution_count": 12,
      "outputs": []
    },
    {
      "cell_type": "code",
      "source": [
        "format_name('HELLO','WORLD')"
      ],
      "metadata": {
        "colab": {
          "base_uri": "https://localhost:8080/",
          "height": 35
        },
        "id": "xW5xPKDG2xZB",
        "outputId": "953c333c-e788-4492-cbd6-8ca693c837c4"
      },
      "execution_count": 13,
      "outputs": [
        {
          "output_type": "execute_result",
          "data": {
            "text/plain": [
              "'hello world'"
            ],
            "application/vnd.google.colaboratory.intrinsic+json": {
              "type": "string"
            }
          },
          "metadata": {},
          "execution_count": 13
        }
      ]
    },
    {
      "cell_type": "code",
      "source": [
        "def function_1(text):\n",
        "  return text + text"
      ],
      "metadata": {
        "id": "b-0IE24i27bZ"
      },
      "execution_count": 14,
      "outputs": []
    },
    {
      "cell_type": "code",
      "source": [
        "function_1('Hey')"
      ],
      "metadata": {
        "colab": {
          "base_uri": "https://localhost:8080/",
          "height": 35
        },
        "id": "SQizPGir3HJT",
        "outputId": "fc888e08-e3a6-4c32-cbdd-035bd2d85ec9"
      },
      "execution_count": 16,
      "outputs": [
        {
          "output_type": "execute_result",
          "data": {
            "text/plain": [
              "'HeyHey'"
            ],
            "application/vnd.google.colaboratory.intrinsic+json": {
              "type": "string"
            }
          },
          "metadata": {},
          "execution_count": 16
        }
      ]
    },
    {
      "cell_type": "code",
      "source": [
        "def function_2(text):\n",
        "  return text * 3"
      ],
      "metadata": {
        "id": "3G5ZGkRx3J_m"
      },
      "execution_count": 17,
      "outputs": []
    },
    {
      "cell_type": "code",
      "source": [
        "function_2('Hello')"
      ],
      "metadata": {
        "colab": {
          "base_uri": "https://localhost:8080/",
          "height": 35
        },
        "id": "M59cNTCK3YsZ",
        "outputId": "cda57ddb-f4f0-4788-f248-007fd33f52dd"
      },
      "execution_count": 19,
      "outputs": [
        {
          "output_type": "execute_result",
          "data": {
            "text/plain": [
              "'HelloHelloHello'"
            ],
            "application/vnd.google.colaboratory.intrinsic+json": {
              "type": "string"
            }
          },
          "metadata": {},
          "execution_count": 19
        }
      ]
    },
    {
      "cell_type": "code",
      "source": [
        "output = function_2(function_1('Hey')) # This is how we take function number 1 as the input for the function no 2\n",
        "print(output)"
      ],
      "metadata": {
        "colab": {
          "base_uri": "https://localhost:8080/"
        },
        "id": "hDOoEX6O3b7T",
        "outputId": "ed506a0e-d0f1-46d4-ddf1-c70ba72bbc2e"
      },
      "execution_count": 22,
      "outputs": [
        {
          "output_type": "stream",
          "name": "stdout",
          "text": [
            "HeyHeyHeyHeyHeyHey\n"
          ]
        }
      ]
    },
    {
      "cell_type": "code",
      "source": [
        "def formated_name(f_name, l_name):\n",
        "  formated_f_name = f_name.title()\n",
        "  formated_l_name = l_name.title()\n",
        "  return f\"{formated_f_name} {formated_l_name}\""
      ],
      "metadata": {
        "id": "LkQnt7Uw3zly"
      },
      "execution_count": 23,
      "outputs": []
    },
    {
      "cell_type": "code",
      "source": [
        "print(formated_name(input('What is your first name: '), input('What is your second name: ')))"
      ],
      "metadata": {
        "colab": {
          "base_uri": "https://localhost:8080/"
        },
        "id": "DGCUiKea4mYx",
        "outputId": "253e9201-b3dd-4b80-97a0-37b921df6005"
      },
      "execution_count": 24,
      "outputs": [
        {
          "output_type": "stream",
          "name": "stdout",
          "text": [
            "What is your first name: angela\n",
            "What is your second name: Yu\n",
            "Angela Yu\n"
          ]
        }
      ]
    },
    {
      "cell_type": "code",
      "source": [
        "def format_name(f_name, l_name):\n",
        "  if f_name == '' or l_name == '':\n",
        "    return 'You did not provide valid inputs'"
      ],
      "metadata": {
        "id": "fL_xfn0b40uk"
      },
      "execution_count": 25,
      "outputs": []
    },
    {
      "cell_type": "markdown",
      "source": [
        "DOCSTRINGS"
      ],
      "metadata": {
        "id": "LTBQdNd25NuH"
      }
    },
    {
      "cell_type": "markdown",
      "source": [
        "\n",
        "A docstring in Python is a special type of string used to document a specific segment of code, such as a function, class, or module. It provides a convenient way to explain what the code does, how to use it, and any relevant details."
      ],
      "metadata": {
        "id": "XT8ffZ4-5Wje"
      }
    },
    {
      "cell_type": "code",
      "source": [
        "def format_name(f_name, l_name):\n",
        "  '''Take a first name and last name and\n",
        "   format it to return the title casee version of the name'''\n",
        "  formatted_f = f_name.title()\n",
        "  formatted_l = l_name.title()\n",
        "  return f'{formatted_f} {formatted_l}'"
      ],
      "metadata": {
        "id": "vi5NguUN5MAT"
      },
      "execution_count": 27,
      "outputs": []
    },
    {
      "cell_type": "code",
      "source": [
        "format_name('hacker','rank')"
      ],
      "metadata": {
        "colab": {
          "base_uri": "https://localhost:8080/",
          "height": 35
        },
        "id": "kRbVoKc79Rq9",
        "outputId": "a7c085f9-a9d1-4221-ea86-1c3db38bc572"
      },
      "execution_count": 30,
      "outputs": [
        {
          "output_type": "execute_result",
          "data": {
            "text/plain": [
              "'Hacker Rank'"
            ],
            "application/vnd.google.colaboratory.intrinsic+json": {
              "type": "string"
            }
          },
          "metadata": {},
          "execution_count": 30
        }
      ]
    },
    {
      "cell_type": "code",
      "source": [
        "formatted_name = format_name('hey','hello')\n",
        "print(formatted_name)"
      ],
      "metadata": {
        "colab": {
          "base_uri": "https://localhost:8080/"
        },
        "id": "7CAEm4M29ZMJ",
        "outputId": "2a69a93f-ddbe-4ea0-bc5a-e2fdacad8163"
      },
      "execution_count": 32,
      "outputs": [
        {
          "output_type": "stream",
          "name": "stdout",
          "text": [
            "Hey Hello\n"
          ]
        }
      ]
    },
    {
      "cell_type": "code",
      "source": [
        "def leap_year(year):\n",
        "    if year % 4 == 0:  # Check if the year is divisible by 4\n",
        "        if year % 100 == 0:  # If divisible by 4, check if it's divisible by 100\n",
        "            if year % 400 == 0:  # If divisible by 100, check if it's divisible by 400\n",
        "                return True  # Divisible by 400 → Leap year\n",
        "            else:\n",
        "                return False  # Divisible by 100 but not by 400 → Not a leap year\n",
        "        else:\n",
        "            return True  # Divisible by 4 but not by 100 → Leap year\n",
        "    return False  # Not divisible by 4 → Not a leap year"
      ],
      "metadata": {
        "id": "ir45RjTy-2tw"
      },
      "execution_count": 49,
      "outputs": []
    },
    {
      "cell_type": "code",
      "source": [
        "leap_year(2000)"
      ],
      "metadata": {
        "colab": {
          "base_uri": "https://localhost:8080/"
        },
        "id": "WetVGiIUFw9l",
        "outputId": "408440dc-02d2-4549-9012-0337895f6c05"
      },
      "execution_count": 50,
      "outputs": [
        {
          "output_type": "execute_result",
          "data": {
            "text/plain": [
              "True"
            ]
          },
          "metadata": {},
          "execution_count": 50
        }
      ]
    },
    {
      "cell_type": "code",
      "source": [
        "leap_year(1945)"
      ],
      "metadata": {
        "colab": {
          "base_uri": "https://localhost:8080/"
        },
        "id": "nQbp37YrHtiu",
        "outputId": "c9f9c385-9f33-474c-a8fc-07ea06b506eb"
      },
      "execution_count": 51,
      "outputs": [
        {
          "output_type": "execute_result",
          "data": {
            "text/plain": [
              "False"
            ]
          },
          "metadata": {},
          "execution_count": 51
        }
      ]
    }
  ]
}