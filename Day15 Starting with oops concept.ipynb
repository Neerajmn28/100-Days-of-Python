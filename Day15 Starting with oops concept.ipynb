{
  "nbformat": 4,
  "nbformat_minor": 0,
  "metadata": {
    "colab": {
      "provenance": [],
      "authorship_tag": "ABX9TyN2DYKyhqSVEC0B/6Pkr5S4",
      "include_colab_link": true
    },
    "kernelspec": {
      "name": "python3",
      "display_name": "Python 3"
    },
    "language_info": {
      "name": "python"
    }
  },
  "cells": [
    {
      "cell_type": "markdown",
      "metadata": {
        "id": "view-in-github",
        "colab_type": "text"
      },
      "source": [
        "<a href=\"https://colab.research.google.com/github/Neerajmn28/100-Days-of-Python/blob/main/Day15%20Starting%20with%20oops%20concept.ipynb\" target=\"_parent\"><img src=\"https://colab.research.google.com/assets/colab-badge.svg\" alt=\"Open In Colab\"/></a>"
      ]
    },
    {
      "cell_type": "markdown",
      "source": [
        "Object-Oriented Programming (OOPs) is a programming paradigm based on the concept of \"objects\", which represent real-world entities. It organizes code into reusable and modular units called classes and objects to make programs easier to build, manage, and scale."
      ],
      "metadata": {
        "id": "ymQh6-cCeRkW"
      }
    },
    {
      "cell_type": "markdown",
      "source": [
        "OOPs is important because it provides a structured and efficient way to design software. Here’s why it matters:\n",
        "\n",
        "Modularity and Reusability:\n",
        "\n",
        "Code is organized into classes, making it modular and reusable across different parts of a project.\n",
        "Scalability:\n",
        "\n",
        "OOP makes it easier to add new features or modify existing ones without affecting the rest of the program.\n",
        "Maintainability:\n",
        "\n",
        "Clear structure and modular code simplify debugging and maintenance, even in large programs.\n",
        "Real-World Representation:\n",
        "\n",
        "Objects in OOP closely model real-world entities, making it intuitive and relatable.\n",
        "Encourages Collaboration:\n",
        "\n",
        "Team members can work on different classes independently, promoting teamwork and productivity.\n",
        "Improves Security:\n",
        "\n",
        "Encapsulation restricts direct access to data, protecting it from unauthorized changes.\n",
        "Facilitates Complex Applications:\n",
        "\n",
        "OOP is ideal for creating complex systems like games, simulations, and enterprise-level software."
      ],
      "metadata": {
        "id": "NvSbW2-0ea1v"
      }
    },
    {
      "cell_type": "code",
      "source": [
        "from turtle import Turtle, Screen\n",
        "timmy = Turtle()\n",
        "print(timmy)\n",
        "timmy.shape('turtle')"
      ],
      "metadata": {
        "colab": {
          "base_uri": "https://localhost:8080/"
        },
        "id": "FeOwzSW8Dgg_",
        "outputId": "f84de9c2-a4e3-46cb-cbeb-c95ed676ac6a"
      },
      "execution_count": 23,
      "outputs": [
        {
          "output_type": "stream",
          "name": "stdout",
          "text": [
            "<turtle.Turtle object at 0x7ade0c9f06a0>\n"
          ]
        }
      ]
    },
    {
      "cell_type": "code",
      "source": [
        "my_screen = Screen()\n",
        "print(my_screen.canvheight)\n",
        "my_screen.exitonclick()"
      ],
      "metadata": {
        "colab": {
          "base_uri": "https://localhost:8080/"
        },
        "id": "rhIZAslyLzV4",
        "outputId": "c617726f-658b-48b4-b308-106f451e9895"
      },
      "execution_count": null,
      "outputs": [
        {
          "metadata": {
            "tags": null
          },
          "name": "stdout",
          "output_type": "stream",
          "text": [
            "300\n"
          ]
        }
      ]
    },
    {
      "cell_type": "code",
      "source": [
        "from prettytable import PrettyTable\n",
        "table = PrettyTable()\n",
        "table.add_column('Pokemon Name',['Pikachu','Squirtle','Charmander'])\n",
        "table.add_column('Type',['Electric','Water','Fire'])\n",
        "print(table)"
      ],
      "metadata": {
        "colab": {
          "base_uri": "https://localhost:8080/"
        },
        "id": "VjbVasufOlug",
        "outputId": "e9e92da4-cb24-44ab-a4f9-c10dbc7239bd"
      },
      "execution_count": 2,
      "outputs": [
        {
          "output_type": "stream",
          "name": "stdout",
          "text": [
            "+--------------+----------+\n",
            "| Pokemon Name |   Type   |\n",
            "+--------------+----------+\n",
            "|   Pikachu    | Electric |\n",
            "|   Squirtle   |  Water   |\n",
            "|  Charmander  |   Fire   |\n",
            "+--------------+----------+\n"
          ]
        }
      ]
    },
    {
      "cell_type": "markdown",
      "source": [
        "Changing the table style"
      ],
      "metadata": {
        "id": "UYlWy7NLbfk_"
      }
    },
    {
      "cell_type": "code",
      "source": [
        "print(table.align)\n",
        "print(table)"
      ],
      "metadata": {
        "colab": {
          "base_uri": "https://localhost:8080/"
        },
        "id": "EOYTXbWXbXMn",
        "outputId": "1abbb6d5-d88c-4462-a3bc-6c086361a04c"
      },
      "execution_count": 5,
      "outputs": [
        {
          "output_type": "stream",
          "name": "stdout",
          "text": [
            "{'base_align_value': 'c', 'Pokemon Name': 'c', 'Type': 'c'}\n",
            "+--------------+----------+\n",
            "| Pokemon Name |   Type   |\n",
            "+--------------+----------+\n",
            "|   Pikachu    | Electric |\n",
            "|   Squirtle   |  Water   |\n",
            "|  Charmander  |   Fire   |\n",
            "+--------------+----------+\n"
          ]
        }
      ]
    }
  ]
}