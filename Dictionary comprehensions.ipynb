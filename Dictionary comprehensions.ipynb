{
  "nbformat": 4,
  "nbformat_minor": 0,
  "metadata": {
    "colab": {
      "provenance": [],
      "authorship_tag": "ABX9TyMTvCDnEzAJEG15zyyafmWE",
      "include_colab_link": true
    },
    "kernelspec": {
      "name": "python3",
      "display_name": "Python 3"
    },
    "language_info": {
      "name": "python"
    }
  },
  "cells": [
    {
      "cell_type": "markdown",
      "metadata": {
        "id": "view-in-github",
        "colab_type": "text"
      },
      "source": [
        "<a href=\"https://colab.research.google.com/github/Neerajmn28/100-Days-of-Python/blob/main/Dictionary%20comprehensions.ipynb\" target=\"_parent\"><img src=\"https://colab.research.google.com/assets/colab-badge.svg\" alt=\"Open In Colab\"/></a>"
      ]
    },
    {
      "cell_type": "markdown",
      "source": [
        "##  Dictionary Comprehension in Python\n",
        "\n",
        "\n",
        "Dictionary comprehension provides a concise way to create dictionaries from sequences like lists, tuples, or even other dictionaries. It allows you to write the process of creating key-value pairs in a single line.\n",
        "\n",
        "Why Use Dictionary Comprehension?\n",
        "* Concise: It lets you generate dictionaries from iterables (lists, tuples, etc.) in a single line, which saves you time and makes the code more readable.\n",
        "* Efficient: It’s faster and cleaner than using loops and manual dictionary updates."
      ],
      "metadata": {
        "id": "CbZCI_FEnPwf"
      }
    },
    {
      "cell_type": "code",
      "source": [
        "import random\n",
        "import pandas as pd"
      ],
      "metadata": {
        "id": "ow1VKuUxqG5U"
      },
      "execution_count": 51,
      "outputs": []
    },
    {
      "cell_type": "code",
      "source": [
        "names = ['Neeraj','Virat','Dave','Richard']\n",
        "student_score = {student:random.randint(1,100) for student in names}\n",
        "print(student_score)"
      ],
      "metadata": {
        "colab": {
          "base_uri": "https://localhost:8080/"
        },
        "id": "4CXlLIhHpvJ9",
        "outputId": "75126036-6e3b-46b1-8c03-f52240c3f734"
      },
      "execution_count": 52,
      "outputs": [
        {
          "output_type": "stream",
          "name": "stdout",
          "text": [
            "{'Neeraj': 93, 'Virat': 89, 'Dave': 7, 'Richard': 82}\n"
          ]
        }
      ]
    },
    {
      "cell_type": "code",
      "source": [
        "# Looping through a dict\n",
        "passed_students = {student: score for (student, score) in student_score.items() if score >= 60}\n",
        "print(passed_students)\n"
      ],
      "metadata": {
        "colab": {
          "base_uri": "https://localhost:8080/"
        },
        "id": "4PYWy27xpvMh",
        "outputId": "a4d1dc2d-2117-4814-be57-c3b813af77ec"
      },
      "execution_count": 53,
      "outputs": [
        {
          "output_type": "stream",
          "name": "stdout",
          "text": [
            "{'Neeraj': 93, 'Virat': 89, 'Richard': 82}\n"
          ]
        }
      ]
    },
    {
      "cell_type": "code",
      "source": [
        "student_score = {'student':['Angela','James','Lily'],\n",
        "                 'scores':[56,76,98]\n",
        "                 }"
      ],
      "metadata": {
        "id": "2NegY_fiV6jf"
      },
      "execution_count": 13,
      "outputs": []
    },
    {
      "cell_type": "code",
      "source": [
        "student_data_frame = pd.DataFrame(student_score)\n",
        "print(student_data_frame)"
      ],
      "metadata": {
        "colab": {
          "base_uri": "https://localhost:8080/"
        },
        "id": "w51qMYU9XbG0",
        "outputId": "a3afe364-f88a-4fa3-f645-b9399c507e3f"
      },
      "execution_count": 26,
      "outputs": [
        {
          "output_type": "stream",
          "name": "stdout",
          "text": [
            "  student  scores\n",
            "0  Angela      56\n",
            "1   James      76\n",
            "2    Lily      98\n"
          ]
        }
      ]
    },
    {
      "cell_type": "code",
      "source": [
        "for (index, row) in student_data_frame.iterrows():\n",
        "      print(row.scores)"
      ],
      "metadata": {
        "id": "xJiNi-A5pvPI",
        "colab": {
          "base_uri": "https://localhost:8080/"
        },
        "outputId": "254790da-a7f2-479f-fc59-319b7ed4e49b"
      },
      "execution_count": 20,
      "outputs": [
        {
          "output_type": "stream",
          "name": "stdout",
          "text": [
            "56\n",
            "76\n",
            "98\n"
          ]
        }
      ]
    },
    {
      "cell_type": "code",
      "source": [
        "data = pd.read_csv('nato_phonetic_alphabet.csv')\n",
        "print(data.head())"
      ],
      "metadata": {
        "id": "AXwEwjgFpvRz",
        "colab": {
          "base_uri": "https://localhost:8080/"
        },
        "outputId": "29a6bc8e-154e-4300-c901-b47ff60aa100"
      },
      "execution_count": 27,
      "outputs": [
        {
          "output_type": "stream",
          "name": "stdout",
          "text": [
            "  letter     code\n",
            "0      A     Alfa\n",
            "1      B    Bravo\n",
            "2      C  Charlie\n",
            "3      D    Delta\n",
            "4      E     Echo\n"
          ]
        }
      ]
    },
    {
      "cell_type": "code",
      "source": [
        "phonetic_dict = {row.letter:row.code for (index, row) in data.iterrows()}\n",
        "word = input('Enter a word: ').upper()\n",
        "output_list = [phonetic_dict[letter] for letter in word]\n",
        "print(output_list)"
      ],
      "metadata": {
        "id": "qMcjvLYDpvUE",
        "colab": {
          "base_uri": "https://localhost:8080/"
        },
        "outputId": "27166dcd-1cfd-4e13-b231-2430573524d7"
      },
      "execution_count": 35,
      "outputs": [
        {
          "output_type": "stream",
          "name": "stdout",
          "text": [
            "Enter a word: alfa\n",
            "['Alfa', 'Lima', 'Foxtrot', 'Alfa']\n"
          ]
        }
      ]
    }
  ]
}