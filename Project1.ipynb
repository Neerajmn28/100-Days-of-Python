{
  "nbformat": 4,
  "nbformat_minor": 0,
  "metadata": {
    "colab": {
      "provenance": [],
      "include_colab_link": true
    },
    "kernelspec": {
      "name": "python3",
      "display_name": "Python 3"
    },
    "language_info": {
      "name": "python"
    }
  },
  "cells": [
    {
      "cell_type": "markdown",
      "metadata": {
        "id": "view-in-github",
        "colab_type": "text"
      },
      "source": [
        "<a href=\"https://colab.research.google.com/github/Neerajmn28/100-Days-of-Python/blob/main/Project1.ipynb\" target=\"_parent\"><img src=\"https://colab.research.google.com/assets/colab-badge.svg\" alt=\"Open In Colab\"/></a>"
      ]
    },
    {
      "cell_type": "code",
      "source": [
        "print('Welcome to the band name Generator')\n",
        "city = input('Which city did you grow up in?\\n')\n",
        "pet = input('What is the name of your pet?\\n')\n",
        "print('Your band name could be: ' + city +' '+pet)"
      ],
      "metadata": {
        "colab": {
          "base_uri": "https://localhost:8080/"
        },
        "id": "qOQ5DZT3VFlm",
        "outputId": "292e7c77-640c-4bc0-b8fa-92884dd91032"
      },
      "execution_count": 1,
      "outputs": [
        {
          "output_type": "stream",
          "name": "stdout",
          "text": [
            "Welcome to the band name Generator\n",
            "Which city did you grow up in?\n",
            "Frankfurt\n",
            "What is the name of your pet?\n",
            "Hublot\n",
            "Your band name could be: Frankfurt Hublot\n"
          ]
        }
      ]
    }
  ]
}