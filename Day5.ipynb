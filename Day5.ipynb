{
  "nbformat": 4,
  "nbformat_minor": 0,
  "metadata": {
    "colab": {
      "provenance": [],
      "authorship_tag": "ABX9TyMfgyqtPkscfZrMZH2tAZ4X",
      "include_colab_link": true
    },
    "kernelspec": {
      "name": "python3",
      "display_name": "Python 3"
    },
    "language_info": {
      "name": "python"
    }
  },
  "cells": [
    {
      "cell_type": "markdown",
      "metadata": {
        "id": "view-in-github",
        "colab_type": "text"
      },
      "source": [
        "<a href=\"https://colab.research.google.com/github/Neerajmn28/100-Days-of-Python/blob/main/Day5.ipynb\" target=\"_parent\"><img src=\"https://colab.research.google.com/assets/colab-badge.svg\" alt=\"Open In Colab\"/></a>"
      ]
    },
    {
      "cell_type": "code",
      "source": [
        "# For loop (For loop is used to iterate over a sequence)\n",
        "\n",
        "fruits = ['Apple','Peach','Pear']\n",
        "\n",
        "for fruit in fruits:\n",
        "  print(fruit)\n",
        "  print(fruit + 'pie')\n",
        "  print(fruits)"
      ],
      "metadata": {
        "colab": {
          "base_uri": "https://localhost:8080/"
        },
        "id": "hXDfQBfAkDlT",
        "outputId": "1c091ea6-12e0-48c0-e0af-44f0ad77006e"
      },
      "execution_count": 1,
      "outputs": [
        {
          "output_type": "stream",
          "name": "stdout",
          "text": [
            "Apple\n",
            "Peach\n",
            "Pear\n"
          ]
        }
      ]
    },
    {
      "cell_type": "code",
      "source": [
        "students_scores = [100, 120, 130, 110, 105, 140, 150, 180, 145, 150, 180, 175]\n",
        "\n",
        "\n",
        "x = 0\n",
        "for scores in students_scores:\n",
        "  x += scores\n",
        "  print(x)"
      ],
      "metadata": {
        "colab": {
          "base_uri": "https://localhost:8080/"
        },
        "id": "y_Upgn7xkXWr",
        "outputId": "bd4c59de-f8ce-4b6c-fcab-e37e2399305d"
      },
      "execution_count": 3,
      "outputs": [
        {
          "output_type": "stream",
          "name": "stdout",
          "text": [
            "100\n",
            "220\n",
            "350\n",
            "460\n",
            "565\n",
            "705\n",
            "855\n",
            "1035\n",
            "1180\n",
            "1330\n",
            "1510\n",
            "1685\n"
          ]
        }
      ]
    },
    {
      "cell_type": "code",
      "source": [
        "y = 0\n",
        "for sub in students_scores:\n",
        "  y -= sub\n",
        "  print(y)"
      ],
      "metadata": {
        "colab": {
          "base_uri": "https://localhost:8080/"
        },
        "id": "QIYU0gfDk2jn",
        "outputId": "d9a65e9c-b886-4725-a201-0adbdebdc32b"
      },
      "execution_count": 4,
      "outputs": [
        {
          "output_type": "stream",
          "name": "stdout",
          "text": [
            "-100\n",
            "-220\n",
            "-350\n",
            "-460\n",
            "-565\n",
            "-705\n",
            "-855\n",
            "-1035\n",
            "-1180\n",
            "-1330\n",
            "-1510\n",
            "-1685\n"
          ]
        }
      ]
    },
    {
      "cell_type": "code",
      "source": [
        "max = 0\n",
        "\n",
        "for maximum in students_scores:\n",
        "  if maximum > max:\n",
        "    max = maximum\n",
        "    print(max)"
      ],
      "metadata": {
        "colab": {
          "base_uri": "https://localhost:8080/"
        },
        "id": "3v48AHUrlQrj",
        "outputId": "42960d77-0002-4e59-ec58-ae16063cf9d5"
      },
      "execution_count": 5,
      "outputs": [
        {
          "output_type": "stream",
          "name": "stdout",
          "text": [
            "100\n",
            "120\n",
            "130\n",
            "140\n",
            "150\n",
            "180\n"
          ]
        }
      ]
    },
    {
      "cell_type": "code",
      "source": [
        "# Range\n",
        "for number in range(1,10):\n",
        "  print(number)"
      ],
      "metadata": {
        "colab": {
          "base_uri": "https://localhost:8080/"
        },
        "id": "nzbBU7RZl0EW",
        "outputId": "0cb8c67a-3fe7-457b-c2ce-2331885c3a12"
      },
      "execution_count": 6,
      "outputs": [
        {
          "output_type": "stream",
          "name": "stdout",
          "text": [
            "1\n",
            "2\n",
            "3\n",
            "4\n",
            "5\n",
            "6\n",
            "7\n",
            "8\n",
            "9\n"
          ]
        }
      ]
    },
    {
      "cell_type": "code",
      "source": [
        "for item in range(1,100,5):\n",
        "  print(item)"
      ],
      "metadata": {
        "colab": {
          "base_uri": "https://localhost:8080/"
        },
        "id": "LlrKNhOnl5dm",
        "outputId": "aaf2ef22-d8ab-4896-eee8-b67074cd2f6c"
      },
      "execution_count": 8,
      "outputs": [
        {
          "output_type": "stream",
          "name": "stdout",
          "text": [
            "1\n",
            "6\n",
            "11\n",
            "16\n",
            "21\n",
            "26\n",
            "31\n",
            "36\n",
            "41\n",
            "46\n",
            "51\n",
            "56\n",
            "61\n",
            "66\n",
            "71\n",
            "76\n",
            "81\n",
            "86\n",
            "91\n",
            "96\n"
          ]
        }
      ]
    },
    {
      "cell_type": "code",
      "source": [
        "total = 0\n",
        "for num in range(1,5):\n",
        "  total += num\n",
        "  print(total)"
      ],
      "metadata": {
        "colab": {
          "base_uri": "https://localhost:8080/"
        },
        "id": "0JfE8-q2mCoI",
        "outputId": "47755801-f7a2-4843-b349-8cc2e2481696"
      },
      "execution_count": 11,
      "outputs": [
        {
          "output_type": "stream",
          "name": "stdout",
          "text": [
            "1\n",
            "3\n",
            "6\n",
            "10\n"
          ]
        }
      ]
    }
  ]
}