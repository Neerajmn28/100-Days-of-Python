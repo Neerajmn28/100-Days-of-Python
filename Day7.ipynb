{
  "cells": [
    {
      "cell_type": "markdown",
      "metadata": {
        "id": "view-in-github",
        "colab_type": "text"
      },
      "source": [
        "<a href=\"https://colab.research.google.com/github/Neerajmn28/100-Days-of-Python/blob/main/Day7.ipynb\" target=\"_parent\"><img src=\"https://colab.research.google.com/assets/colab-badge.svg\" alt=\"Open In Colab\"/></a>"
      ]
    },
    {
      "cell_type": "code",
      "execution_count": 1,
      "metadata": {
        "id": "TFpJbObkaznv"
      },
      "outputs": [],
      "source": [
        "import random"
      ]
    },
    {
      "cell_type": "code",
      "execution_count": 2,
      "metadata": {
        "colab": {
          "base_uri": "https://localhost:8080/"
        },
        "id": "9As7cMJIcu8l",
        "outputId": "3a9a575b-267b-4875-ca89-a9f22a49f284"
      },
      "outputs": [
        {
          "output_type": "stream",
          "name": "stdout",
          "text": [
            "dog\n"
          ]
        }
      ],
      "source": [
        "word_list = ['Camel','Dog','Baboon']\n",
        "chosen_word = random.choice(word_list).lower()\n",
        "print(chosen_word)"
      ]
    },
    {
      "cell_type": "code",
      "execution_count": 3,
      "metadata": {
        "colab": {
          "base_uri": "https://localhost:8080/"
        },
        "id": "IUx9UVV2fHex",
        "outputId": "76881258-c724-4963-c131-79ff3bcb5b63"
      },
      "outputs": [
        {
          "output_type": "stream",
          "name": "stdout",
          "text": [
            "___\n"
          ]
        }
      ],
      "source": [
        "placeholder = ''\n",
        "for position in range(0,len(chosen_word)):\n",
        "  placeholder += '_'\n",
        "print(placeholder)"
      ]
    },
    {
      "cell_type": "code",
      "execution_count": 14,
      "metadata": {
        "colab": {
          "base_uri": "https://localhost:8080/"
        },
        "id": "99Z0UqOncu3l",
        "outputId": "8b867fe0-f361-47cc-a528-d6f6e3fce777"
      },
      "outputs": [
        {
          "output_type": "stream",
          "name": "stdout",
          "text": [
            "Guess a letter: d\n",
            "d\n",
            "d__\n",
            "Guess a letter: o\n",
            "o\n",
            "do_\n",
            "Guess a letter: g\n",
            "g\n",
            "dog\n",
            "You win!\n"
          ]
        }
      ],
      "source": [
        "game_over = False\n",
        "correct_letters = []\n",
        "\n",
        "while not game_over:\n",
        "\n",
        "\n",
        "\n",
        "  guess = input('Guess a letter: ').lower()\n",
        "  print(guess)\n",
        "\n",
        "  display = ''\n",
        "\n",
        "  for letter in chosen_word:\n",
        "    if letter == guess:\n",
        "      display += letter\n",
        "      correct_letters.append(letter)\n",
        "    elif letter in correct_letters:\n",
        "      display += letter\n",
        "    else:\n",
        "      display += '_'\n",
        "\n",
        "  print(display)\n",
        "\n",
        "  if '_' not in display:\n",
        "    game_over = True\n",
        "    print('You win!')"
      ]
    }
  ],
  "metadata": {
    "colab": {
      "provenance": [],
      "authorship_tag": "ABX9TyPlpDhiwxU7vy0x9me73oab",
      "include_colab_link": true
    },
    "kernelspec": {
      "display_name": "Python 3",
      "name": "python3"
    },
    "language_info": {
      "name": "python"
    }
  },
  "nbformat": 4,
  "nbformat_minor": 0
}