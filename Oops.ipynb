{
  "nbformat": 4,
  "nbformat_minor": 0,
  "metadata": {
    "colab": {
      "provenance": [],
      "authorship_tag": "ABX9TyMnsNEZfGN1DKAHwEGACr3Z",
      "include_colab_link": true
    },
    "kernelspec": {
      "name": "python3",
      "display_name": "Python 3"
    },
    "language_info": {
      "name": "python"
    }
  },
  "cells": [
    {
      "cell_type": "markdown",
      "metadata": {
        "id": "view-in-github",
        "colab_type": "text"
      },
      "source": [
        "<a href=\"https://colab.research.google.com/github/Neerajmn28/100-Days-of-Python/blob/main/Oops.ipynb\" target=\"_parent\"><img src=\"https://colab.research.google.com/assets/colab-badge.svg\" alt=\"Open In Colab\"/></a>"
      ]
    },
    {
      "cell_type": "markdown",
      "source": [
        "Object:\n",
        "An object is like a real-world thing. It is an instance of a class that has two things:\n",
        "\n",
        "* Attributes: Characteristics or properties (e.g., color, size).\n",
        "* Behavior: Actions it can perform, defined by methods.\n",
        "Example: A \"Car\" object may have attributes like color (Blue) and brand (Toyota), and behaviors like starting or stopping.\n"
      ],
      "metadata": {
        "id": "noJNBk1jnbTG"
      }
    },
    {
      "cell_type": "markdown",
      "source": [
        "Class:\n",
        "A class is like a blueprint or template for creating objects. It defines what attributes and methods the objects of that type will have.\n",
        "\n",
        "Example: A \"Car\" class can describe that all cars will have attributes like color and brand, and methods like start() and stop()."
      ],
      "metadata": {
        "id": "-Iw5WqqUoDLH"
      }
    },
    {
      "cell_type": "markdown",
      "source": [
        "Method:\n",
        "A method is a function inside a class. It defines the actions or behaviors the objects can perform.\n",
        "\n",
        "Example:\n",
        "\n",
        "start() method: Makes the car start.\n",
        "stop() method: Makes the car stop."
      ],
      "metadata": {
        "id": "osnS6_C7oIdf"
      }
    },
    {
      "cell_type": "code",
      "execution_count": 1,
      "metadata": {
        "colab": {
          "base_uri": "https://localhost:8080/"
        },
        "id": "pp8vDKEUIQ35",
        "outputId": "c8f15866-edbb-47d7-d2aa-87125737adb2"
      },
      "outputs": [
        {
          "output_type": "stream",
          "name": "stdout",
          "text": [
            "Neeraj\n"
          ]
        }
      ],
      "source": [
        "class User:\n",
        "  pass # Pass to define an empty class\n",
        "\n",
        "\n",
        "user_1 = User()\n",
        "user_1.id = '001'\n",
        "user_1.username = 'Neeraj'\n",
        "\n",
        "print(user_1.username)\n",
        "\n",
        "\n",
        "user_2 = User()\n",
        "user_2.id = '002'\n",
        "user_2.username = 'Metrick'"
      ]
    },
    {
      "cell_type": "markdown",
      "source": [
        "# Constructor\n",
        "\n",
        "Initialize\n",
        "The __init__ method is a constructor in Python. It is a special method used to initialize the attributes of an object when the object is created. The name __init__ is a reserved method in Python, and it is called automatically when an instance (object) of a class is created."
      ],
      "metadata": {
        "id": "pOKjHKZ-LX3Q"
      }
    },
    {
      "cell_type": "code",
      "source": [
        "class Car:\n",
        "  def __init__(self):\n",
        "    print('New user being created')\n",
        "    # Intialize attributes\n",
        "\n",
        "user_1 = Car()\n",
        "user_1.id = '001'\n",
        "user_1.username = 'Neeraj'\n",
        "\n",
        "print(user_1.username)"
      ],
      "metadata": {
        "colab": {
          "base_uri": "https://localhost:8080/"
        },
        "id": "aENSlpOeI0LX",
        "outputId": "bda1a3b3-e3cb-4bd1-c854-0bbe41553d1d"
      },
      "execution_count": 2,
      "outputs": [
        {
          "output_type": "stream",
          "name": "stdout",
          "text": [
            "New user being created\n",
            "Neeraj\n"
          ]
        }
      ]
    },
    {
      "cell_type": "code",
      "source": [
        "class User:\n",
        "  def __init__(self, user_id, username, profession):\n",
        "    self.id = user_id\n",
        "    self.username = username\n",
        "    self.profession = profession\n",
        "\n",
        "user_1 = User('001','Neeraj','Data Engineer')\n",
        "print(user_1.id)\n",
        "print(user_1.username)\n",
        "print(user_1.profession)"
      ],
      "metadata": {
        "colab": {
          "base_uri": "https://localhost:8080/"
        },
        "id": "yq_pRmJ-RYXC",
        "outputId": "f5836e3e-10ad-4b3c-bf0c-0e1aeeee88ea"
      },
      "execution_count": 3,
      "outputs": [
        {
          "output_type": "stream",
          "name": "stdout",
          "text": [
            "001\n",
            "Neeraj\n",
            "Data Engineer\n"
          ]
        }
      ]
    },
    {
      "cell_type": "code",
      "source": [
        "class User:\n",
        "  def __init__(self, user_id, username):\n",
        "    self.id = user_id\n",
        "    self.username = username\n",
        "    self.followers = 0\n",
        "    self.following = 0\n",
        "\n",
        "  def follow(self, user):\n",
        "    user.followers += 1\n",
        "    self.following += 1\n",
        "\n",
        "user_1 = User('001', 'Neeraj')\n",
        "user_2 = User('002', 'Nida')\n",
        "\n",
        "user_1.follow(user_2)\n",
        "print(user_1.followers)\n",
        "print(user_1.following)\n",
        "print(user_2.followers)\n",
        "print(user_2.following)"
      ],
      "metadata": {
        "id": "K2zF6lGnVENm",
        "outputId": "74ad520a-205c-4032-b44b-8327dd5796b7",
        "colab": {
          "base_uri": "https://localhost:8080/"
        }
      },
      "execution_count": 4,
      "outputs": [
        {
          "output_type": "stream",
          "name": "stdout",
          "text": [
            "0\n",
            "1\n",
            "1\n",
            "0\n"
          ]
        }
      ]
    }
  ]
}