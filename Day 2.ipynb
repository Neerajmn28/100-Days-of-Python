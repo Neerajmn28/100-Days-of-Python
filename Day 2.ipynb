{
  "nbformat": 4,
  "nbformat_minor": 0,
  "metadata": {
    "colab": {
      "provenance": [],
      "authorship_tag": "ABX9TyPkBEMUFE3ohfl6SQFPIu0e",
      "include_colab_link": true
    },
    "kernelspec": {
      "name": "python3",
      "display_name": "Python 3"
    },
    "language_info": {
      "name": "python"
    }
  },
  "cells": [
    {
      "cell_type": "markdown",
      "metadata": {
        "id": "view-in-github",
        "colab_type": "text"
      },
      "source": [
        "<a href=\"https://colab.research.google.com/github/Neerajmn28/100-Days-of-Python/blob/main/Day%202.ipynb\" target=\"_parent\"><img src=\"https://colab.research.google.com/assets/colab-badge.svg\" alt=\"Open In Colab\"/></a>"
      ]
    },
    {
      "cell_type": "code",
      "source": [
        "print('Hello'[0])\n",
        "print('Hello'[-1])"
      ],
      "metadata": {
        "colab": {
          "base_uri": "https://localhost:8080/"
        },
        "id": "rmAhmw8FOvLq",
        "outputId": "b13e6afb-4a44-441b-9c96-25ed828496d9"
      },
      "execution_count": 6,
      "outputs": [
        {
          "output_type": "stream",
          "name": "stdout",
          "text": [
            "H\n",
            "o\n"
          ]
        }
      ]
    },
    {
      "cell_type": "code",
      "source": [
        "# String Concatenation\n",
        "print('1,2,3,'+'2,3,4')"
      ],
      "metadata": {
        "colab": {
          "base_uri": "https://localhost:8080/"
        },
        "id": "IL7eaQkDOvII",
        "outputId": "e75c2eff-2957-45f3-d473-b0dc1d253fb2"
      },
      "execution_count": 2,
      "outputs": [
        {
          "output_type": "stream",
          "name": "stdout",
          "text": [
            "1,2,3,2,3,4\n"
          ]
        }
      ]
    },
    {
      "cell_type": "code",
      "source": [
        "# Integer\n",
        "print(123+456)"
      ],
      "metadata": {
        "colab": {
          "base_uri": "https://localhost:8080/"
        },
        "id": "E3mezSkTOvF7",
        "outputId": "167994e3-8e3b-43ed-8604-7bc7dc29ca6a"
      },
      "execution_count": 3,
      "outputs": [
        {
          "output_type": "stream",
          "name": "stdout",
          "text": [
            "579\n"
          ]
        }
      ]
    },
    {
      "cell_type": "code",
      "source": [
        "print(1_2_3) # This _ is treated as commas in pythin"
      ],
      "metadata": {
        "id": "TKH-egA6OvDV"
      },
      "execution_count": null,
      "outputs": []
    },
    {
      "cell_type": "code",
      "source": [
        "len(123) #This will give us an error because len function dosen't support num"
      ],
      "metadata": {
        "id": "AxS6E6-thVAC"
      },
      "execution_count": null,
      "outputs": []
    },
    {
      "cell_type": "code",
      "source": [
        "# datatype conversion\n",
        "print(int('123') + int('456'))\n",
        "int()\n",
        "str()\n",
        "bool()\n",
        "float()"
      ],
      "metadata": {
        "colab": {
          "base_uri": "https://localhost:8080/"
        },
        "id": "4uv6smmlhU8h",
        "outputId": "14feaff3-06b3-4866-c864-39bc63a9defb"
      },
      "execution_count": 5,
      "outputs": [
        {
          "output_type": "stream",
          "name": "stdout",
          "text": [
            "579\n"
          ]
        }
      ]
    },
    {
      "cell_type": "code",
      "source": [
        "name_of_the_user = input('Enter your name:\\n')\n",
        "length_of_the_name = len(name_of_the_user)\n",
        "print(type(name_of_the_user))\n",
        "print(type(length_of_the_name))"
      ],
      "metadata": {
        "colab": {
          "base_uri": "https://localhost:8080/"
        },
        "id": "dWZRqaikhU57",
        "outputId": "9ac8ad79-3a2a-4680-9595-d68233fb22fc"
      },
      "execution_count": 10,
      "outputs": [
        {
          "output_type": "stream",
          "name": "stdout",
          "text": [
            "Enter your name:\n",
            "neeraj\n",
            "<class 'str'>\n",
            "<class 'int'>\n"
          ]
        }
      ]
    },
    {
      "cell_type": "code",
      "source": [
        "print('Number of letters in your name:' + ' ' + str(length_of_the_name))\n",
        "print('Number of letters in your name:' + ' ' + str(len(input('Enter your name:'))))"
      ],
      "metadata": {
        "colab": {
          "base_uri": "https://localhost:8080/"
        },
        "id": "ZGReecTshU1W",
        "outputId": "a4928930-62be-422d-f299-2db66fb5ff89"
      },
      "execution_count": 12,
      "outputs": [
        {
          "output_type": "stream",
          "name": "stdout",
          "text": [
            "Number of letters in your name: 6\n",
            "Enter your name:Neeraj\n",
            "Number of letters in your name: 6\n"
          ]
        }
      ]
    },
    {
      "cell_type": "code",
      "source": [
        "# Pemdas\n",
        "print(3 * 3 + 3/3 -3) # Pemdas means calculated based on priority"
      ],
      "metadata": {
        "colab": {
          "base_uri": "https://localhost:8080/"
        },
        "id": "5aHtJImkMlg7",
        "outputId": "533f2c81-24f7-446e-81ce-f3c187569499"
      },
      "execution_count": 4,
      "outputs": [
        {
          "output_type": "stream",
          "name": "stdout",
          "text": [
            "7.0\n"
          ]
        }
      ]
    },
    {
      "cell_type": "code",
      "execution_count": 1,
      "metadata": {
        "colab": {
          "base_uri": "https://localhost:8080/"
        },
        "id": "7GgAem30L8Au",
        "outputId": "28be0841-787a-4f6e-ebd1-5d4011d2ca97"
      },
      "outputs": [
        {
          "output_type": "stream",
          "name": "stdout",
          "text": [
            "My age:12\n",
            "3\n",
            "6\n",
            "8\n",
            "2.0\n",
            "5\n",
            "32\n"
          ]
        }
      ],
      "source": [
        "# Mathematical operation\n",
        "print('My age:'+ str(12))\n",
        "\n",
        "print(1 + 2)\n",
        "print(8 - 2)\n",
        "print(4 * 2)\n",
        "print(10 / 5)\n",
        "print(11//2)  #// operator is the floor division operator. It divides the left-hand operand by the right-hand operand and returns the largest integer less than or equal to the result.\n",
        "print(2 ** 5) # raises 2 to the power of 5"
      ]
    },
    {
      "cell_type": "code",
      "source": [
        "bmi = 84/1.65 ** 2\n",
        "print(bmi)"
      ],
      "metadata": {
        "colab": {
          "base_uri": "https://localhost:8080/"
        },
        "id": "rn5s4odUMnPE",
        "outputId": "74d09376-5222-4a09-d4c5-c1af6a99b023"
      },
      "execution_count": 3,
      "outputs": [
        {
          "output_type": "stream",
          "name": "stdout",
          "text": [
            "30.85399449035813\n"
          ]
        }
      ]
    },
    {
      "cell_type": "code",
      "source": [
        "print(int(bmi)) # Flooring the number\n",
        "print(round(bmi)) # Round up or down\n",
        "print(round(bmi, 2)) # ROund up or down to 2 decimal places"
      ],
      "metadata": {
        "colab": {
          "base_uri": "https://localhost:8080/"
        },
        "id": "eRf1m6cXJqCZ",
        "outputId": "3a81f28e-b142-404e-e429-9f3bf51a68fd"
      },
      "execution_count": 4,
      "outputs": [
        {
          "output_type": "stream",
          "name": "stdout",
          "text": [
            "30\n"
          ]
        }
      ]
    },
    {
      "cell_type": "code",
      "source": [
        "# Assignment operator (Allows to accumulate the results of our calculations)\n",
        "# (+=, -=, *=, /=)\n",
        "score = 0\n",
        "score += 10\n",
        "score -= 2\n",
        "score *= 2\n",
        "score /= 4\n",
        "print(score)"
      ],
      "metadata": {
        "colab": {
          "base_uri": "https://localhost:8080/"
        },
        "id": "GKgaGaUNP1R4",
        "outputId": "2bcfe0c7-ae42-4a0b-c1b9-897175e13974"
      },
      "execution_count": 20,
      "outputs": [
        {
          "output_type": "stream",
          "name": "stdout",
          "text": [
            "4.0\n"
          ]
        }
      ]
    },
    {
      "cell_type": "code",
      "source": [
        "# F strings\n",
        "print(f'Your score is = {score}')\n",
        "\n",
        "score = 100\n",
        "height = 182.35\n",
        "is_winning = True\n",
        "\n",
        "print(f'Your score is = {score}, Your height is {height}, I am winning {is_winning}')"
      ],
      "metadata": {
        "colab": {
          "base_uri": "https://localhost:8080/"
        },
        "id": "ihXom1XVQ7EC",
        "outputId": "7a624901-8770-4067-b08a-94d4f6236ab2"
      },
      "execution_count": 23,
      "outputs": [
        {
          "output_type": "stream",
          "name": "stdout",
          "text": [
            "Your score is = 100\n",
            "Your score is = 100, Your height is 182.35, I am winning True\n"
          ]
        }
      ]
    }
  ]
}