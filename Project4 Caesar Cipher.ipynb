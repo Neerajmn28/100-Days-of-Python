{
  "nbformat": 4,
  "nbformat_minor": 0,
  "metadata": {
    "colab": {
      "provenance": [],
      "authorship_tag": "ABX9TyPPr37uO4hiP3G1L9BwggOV",
      "include_colab_link": true
    },
    "kernelspec": {
      "name": "python3",
      "display_name": "Python 3"
    },
    "language_info": {
      "name": "python"
    }
  },
  "cells": [
    {
      "cell_type": "markdown",
      "metadata": {
        "id": "view-in-github",
        "colab_type": "text"
      },
      "source": [
        "<a href=\"https://colab.research.google.com/github/Neerajmn28/100-Days-of-Python/blob/main/Project4%20Caesar%20Cipher.ipynb\" target=\"_parent\"><img src=\"https://colab.research.google.com/assets/colab-badge.svg\" alt=\"Open In Colab\"/></a>"
      ]
    },
    {
      "cell_type": "markdown",
      "source": [
        "# Here’s a project description for a Caesar Cipher project:\n",
        "\n",
        "Caesar Cipher Encryption Project Project Overview: The Caesar Cipher is one of the simplest and most well-known encryption techniques. In this project, I’ll create a Python program that can both encrypt and decrypt messages using Caesar Cipher encryption. This project is a great introduction to cryptography, text manipulation, and control flow in Python.\n",
        "\n",
        "Project Objectives Implement Caesar Cipher Logic:\n",
        "\n",
        "Shift each letter in the message by a fixed number of positions, wrapping around the alphabet as needed. Allow Custom Shift Values:\n",
        "\n",
        "The program will allow users to specify the shift amount, making it flexible for different encryption levels. Encrypt and Decrypt Modes:\n",
        "\n",
        "Encrypt: Shifts letters forward in the alphabet. Decrypt: Shifts letters backward to reveal the original message. Handle Edge Cases:\n",
        "\n",
        "Correctly process uppercase and lowercase letters. Leave non-letter characters (e.g., punctuation and spaces) unchanged. How It Works Encryption: Given a text message and a shift value, the program shifts each letter in the message by the shift value to produce an encrypted message.\n",
        "\n",
        "Decryption: Using the same shift value, the program can shift each letter in the encrypted message backward to retrieve the original text.\n",
        "\n",
        "Example Encryption Example: Input: text = \"Hello World!\", shift = 3 Output: \"Khoor Zruog\" Decryption Example: Input: text = \"Khoor Zruog!\", shift = 3 Output: \"Hello World!\""
      ],
      "metadata": {
        "id": "skIZbbdZzoOr"
      }
    },
    {
      "cell_type": "code",
      "source": [
        "import string # To import alphabets\n",
        "\n",
        "alphabets_list = list(string.ascii_lowercase)\n",
        "print(alphabets_list)"
      ],
      "metadata": {
        "colab": {
          "base_uri": "https://localhost:8080/"
        },
        "id": "yRiV0JW7C-MZ",
        "outputId": "83769c36-a36b-4e2b-b1ec-99c17c0e5881"
      },
      "execution_count": 2,
      "outputs": [
        {
          "output_type": "stream",
          "name": "stdout",
          "text": [
            "['a', 'b', 'c', 'd', 'e', 'f', 'g', 'h', 'i', 'j', 'k', 'l', 'm', 'n', 'o', 'p', 'q', 'r', 's', 't', 'u', 'v', 'w', 'x', 'y', 'z']\n",
            "['a', 'b', 'c', 'd', 'e', 'f', 'g', 'h', 'i', 'j', 'k', 'l', 'm', 'n', 'o', 'p', 'q', 'r', 's', 't', 'u', 'v', 'w', 'x', 'y', 'z']\n"
          ]
        }
      ]
    },
    {
      "cell_type": "markdown",
      "source": [
        "## Encrpyt"
      ],
      "metadata": {
        "id": "wxW64yHP0IGT"
      }
    },
    {
      "cell_type": "code",
      "source": [
        "direction = input('Type \"encode\" to encrpyt, type \"decode\" to decrpyt\\n').lower()\n",
        "text = input('Type your message: ').lower()\n",
        "shift = int(input('Type the shift number: '))"
      ],
      "metadata": {
        "id": "8RkguHnaz2Uz",
        "colab": {
          "base_uri": "https://localhost:8080/"
        },
        "outputId": "43254b03-c45d-4af3-8d33-7a1152d3e753"
      },
      "execution_count": 3,
      "outputs": [
        {
          "name": "stdout",
          "output_type": "stream",
          "text": [
            "Type \"encode\" to encrpyt, type \"decode\" to decrpyt\n",
            "encode\n",
            "Type your message: Hello World\n",
            "Type the shift number: 3\n"
          ]
        }
      ]
    },
    {
      "cell_type": "code",
      "source": [
        "def encrypt(orginal_text, shift_amount):\n",
        "  new_letter = ''\n",
        "\n",
        "  for letter in orginal_text:\n",
        "    if letter not in alphabets_list:\n",
        "      new_letter += letter\n",
        "    else:\n",
        "      position = alphabets_list.index(letter) + shift_amount\n",
        "      position %= len(alphabets_list)\n",
        "      new_letter += alphabets_list[position]\n",
        "  print(f'The encoded text is {new_letter}')"
      ],
      "metadata": {
        "id": "4xbWvnmR4gPI"
      },
      "execution_count": 4,
      "outputs": []
    },
    {
      "cell_type": "code",
      "source": [
        "encrypt(text, shift)"
      ],
      "metadata": {
        "colab": {
          "base_uri": "https://localhost:8080/"
        },
        "id": "bWhhclNoGYNl",
        "outputId": "8816ea7a-bbb4-4ba9-822b-7e7e32a0a615"
      },
      "execution_count": 5,
      "outputs": [
        {
          "output_type": "stream",
          "name": "stdout",
          "text": [
            "The encoded text is khoor zruog\n"
          ]
        }
      ]
    },
    {
      "cell_type": "markdown",
      "source": [
        "# Decrypt"
      ],
      "metadata": {
        "id": "VcAs13GuGvGZ"
      }
    },
    {
      "cell_type": "code",
      "source": [
        "direction = input('Type \"encode\" to encrpyt, type \"decode\" to decrpyt\\n').lower()\n",
        "text = input('Type your message:\\n ').lower()\n",
        "shift = int(input('Type the shift number:'))"
      ],
      "metadata": {
        "colab": {
          "base_uri": "https://localhost:8080/"
        },
        "id": "EtdLnRpEGt6x",
        "outputId": "f084e725-4221-4a46-aa30-49293b7d49ed"
      },
      "execution_count": 6,
      "outputs": [
        {
          "name": "stdout",
          "output_type": "stream",
          "text": [
            "Type \"encode\" to encrpyt, type \"decode\" to decrpyt\n",
            "decode\n",
            "Type your message:\n",
            " khoor zruog\n",
            "Type the shift number:3\n"
          ]
        }
      ]
    },
    {
      "cell_type": "code",
      "source": [
        "def decrypt(orginal_text, shift_amount):\n",
        "  output_text = ''\n",
        "\n",
        "  for letter in orginal_text:\n",
        "    if letter not in alphabets_list:\n",
        "      output_text += letter\n",
        "    else:\n",
        "      shifted_position = alphabets_list.index(letter) - shift_amount\n",
        "      shifted_position %= len(alphabets_list)\n",
        "      output_text += alphabets_list[shifted_position]\n",
        "  print(f'The decoded text is {output_text}')"
      ],
      "metadata": {
        "id": "3607VoWcHdcI"
      },
      "execution_count": 7,
      "outputs": []
    },
    {
      "cell_type": "code",
      "source": [
        "decrypt(text, shift)"
      ],
      "metadata": {
        "colab": {
          "base_uri": "https://localhost:8080/"
        },
        "id": "f60WnCWenF_q",
        "outputId": "6ec162e9-ea9c-424d-a69e-a374511284b1"
      },
      "execution_count": 8,
      "outputs": [
        {
          "output_type": "stream",
          "name": "stdout",
          "text": [
            "The decoded text is hello world\n"
          ]
        }
      ]
    },
    {
      "cell_type": "markdown",
      "source": [
        "## So this is combined encrypt and decrypt with additional keyword argument."
      ],
      "metadata": {
        "id": "doSqwm5yLKyu"
      }
    },
    {
      "cell_type": "code",
      "source": [
        "direction = input('Type \"encode\" to encrpyt, type \"decode\" to decrpyt\\n').lower()\n",
        "text = input('Type your message:\\n ').lower()\n",
        "shift = int(input('Type the shift number:'))"
      ],
      "metadata": {
        "colab": {
          "base_uri": "https://localhost:8080/"
        },
        "id": "TfN0f4pSLMaM",
        "outputId": "34586d4d-2745-4e4a-bc16-d0bcc1c084e5"
      },
      "execution_count": 9,
      "outputs": [
        {
          "name": "stdout",
          "output_type": "stream",
          "text": [
            "Type \"encode\" to encrpyt, type \"decode\" to decrpyt\n",
            "decode\n",
            "Type your message:\n",
            " khoor zruog\n",
            "Type the shift number:3\n"
          ]
        }
      ]
    },
    {
      "cell_type": "code",
      "source": [
        "def caeser(orginal_text, shift_amount, direction):\n",
        "  output_text = ''\n",
        "\n",
        "  if direction == 'decode':\n",
        "    shift_amount *= -1\n",
        "\n",
        "  for letter in orginal_text:\n",
        "    if letter not in alphabets_list:\n",
        "      output_text += letter\n",
        "    else:\n",
        "      shifted_position = alphabets_list.index(letter) + shift_amount\n",
        "      shifted_position %= len(alphabets_list)\n",
        "      output_text += alphabets_list[shifted_position]\n",
        "  print(f'Here is the result: {output_text}')"
      ],
      "metadata": {
        "id": "gXP71q4CLRM0"
      },
      "execution_count": 12,
      "outputs": []
    },
    {
      "cell_type": "code",
      "source": [
        "caeser(text, shift, direction)"
      ],
      "metadata": {
        "colab": {
          "base_uri": "https://localhost:8080/"
        },
        "id": "KhZo5DUIyN-d",
        "outputId": "5d27ec26-d077-4b1c-ab6c-d49326645c2a"
      },
      "execution_count": 13,
      "outputs": [
        {
          "output_type": "stream",
          "name": "stdout",
          "text": [
            "Here is the result: hello world\n"
          ]
        }
      ]
    },
    {
      "cell_type": "code",
      "source": [
        "should_continue = True\n",
        "\n",
        "\n",
        "while should_continue:\n",
        "  print('Welcome to Caesar Cipher')\n",
        "  direction = input('Type \"encode\" to encrpyt, type \"decode\" to decrpyt\\n').lower()\n",
        "  text = input('Type your message:\\n ').lower()\n",
        "  shift = int(input('Type the shift number:'))\n",
        "  caeser(orginal_text=text, shift_amount=shift, direction=direction)\n",
        "\n",
        "  restart = input('Type \"Yes\" if you want to go again, Otherwise type \"No\": ')\n",
        "  if restart == 'no':\n",
        "    should_continue = False\n",
        "    print('Bye!')"
      ],
      "metadata": {
        "colab": {
          "base_uri": "https://localhost:8080/"
        },
        "id": "NhbEaFcjNiH3",
        "outputId": "67cd5ed2-2dbf-4380-fed1-2c98d44bf108"
      },
      "execution_count": 16,
      "outputs": [
        {
          "output_type": "stream",
          "name": "stdout",
          "text": [
            "Type \"encode\" to encrpyt, type \"decode\" to decrpyt\n",
            "encode\n",
            "Type your message:\n",
            " Hello World\n",
            "Type the shift number:3\n",
            "Here is the result: khoor zruog\n",
            "Type \"Yes\" if you want to go again, Otherwise type \"No\": Yes\n",
            "Type \"encode\" to encrpyt, type \"decode\" to decrpyt\n",
            "decode\n",
            "Type your message:\n",
            " khoor zruog\n",
            "Type the shift number:3\n",
            "Here is the result: hello world\n",
            "Type \"Yes\" if you want to go again, Otherwise type \"No\": no\n",
            "Bye!\n"
          ]
        }
      ]
    }
  ]
}