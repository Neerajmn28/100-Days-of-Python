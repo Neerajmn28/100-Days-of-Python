{
  "nbformat": 4,
  "nbformat_minor": 0,
  "metadata": {
    "colab": {
      "provenance": [],
      "authorship_tag": "ABX9TyO6Hjd4fGuPbgqLFwwyxVGD",
      "include_colab_link": true
    },
    "kernelspec": {
      "name": "python3",
      "display_name": "Python 3"
    },
    "language_info": {
      "name": "python"
    }
  },
  "cells": [
    {
      "cell_type": "markdown",
      "metadata": {
        "id": "view-in-github",
        "colab_type": "text"
      },
      "source": [
        "<a href=\"https://colab.research.google.com/github/Neerajmn28/100-Days-of-Python/blob/main/Handling%20outliers%20with%20python.ipynb\" target=\"_parent\"><img src=\"https://colab.research.google.com/assets/colab-badge.svg\" alt=\"Open In Colab\"/></a>"
      ]
    },
    {
      "cell_type": "code",
      "execution_count": 1,
      "metadata": {
        "id": "zp7GjnMPGwcs"
      },
      "outputs": [],
      "source": [
        "import numpy as np"
      ]
    },
    {
      "cell_type": "code",
      "source": [
        "lst_marks = [45,32,56,75,89,54,32,89,90,87,67,54,45,98,99,67,74]\n",
        "minimum,Q1,median,Q3, maximum = np.quantile(lst_marks,[0,0.25,0.50,0.75,1.0])"
      ],
      "metadata": {
        "id": "kYMoQ4xJG60c"
      },
      "execution_count": 2,
      "outputs": []
    },
    {
      "cell_type": "code",
      "source": [
        "minimum,Q1,median,Q3, maximum"
      ],
      "metadata": {
        "colab": {
          "base_uri": "https://localhost:8080/"
        },
        "id": "5UYfhRicHYY_",
        "outputId": "45250c60-07ba-449c-b92e-6259e8a48a85"
      },
      "execution_count": 3,
      "outputs": [
        {
          "output_type": "execute_result",
          "data": {
            "text/plain": [
              "(np.float64(32.0),\n",
              " np.float64(54.0),\n",
              " np.float64(67.0),\n",
              " np.float64(89.0),\n",
              " np.float64(99.0))"
            ]
          },
          "metadata": {},
          "execution_count": 3
        }
      ]
    },
    {
      "cell_type": "code",
      "source": [
        "IQR = Q3-Q1\n",
        "print(IQR)"
      ],
      "metadata": {
        "colab": {
          "base_uri": "https://localhost:8080/"
        },
        "id": "yqgO0IgXHfDY",
        "outputId": "cddabf85-eed3-452a-ea15-48fdd63df13d"
      },
      "execution_count": 5,
      "outputs": [
        {
          "output_type": "stream",
          "name": "stdout",
          "text": [
            "35.0\n"
          ]
        }
      ]
    },
    {
      "cell_type": "markdown",
      "source": [
        "What is the Interquartile Range (IQR)?\n",
        "The Interquartile Range (IQR) is a measure of spread in a dataset — it shows where the middle 50% of your data lies.\n",
        "IQR=Q3−Q1\n",
        "\n",
        "\n",
        "\n",
        " Why is IQR Important?\n",
        "It helps detect outliers\n",
        "\n",
        "It's not affected by extreme values like mean and standard deviation\n",
        "\n",
        "It's great for summarizing skewed distributions"
      ],
      "metadata": {
        "id": "01tBwlcYNcKU"
      }
    },
    {
      "cell_type": "code",
      "source": [
        "lower_fence = Q1-1.5*(IQR)\n",
        "higher_fence = Q3+1.5*(IQR)"
      ],
      "metadata": {
        "id": "i0w6AjoQIhNz"
      },
      "execution_count": 6,
      "outputs": []
    },
    {
      "cell_type": "code",
      "source": [
        "lower_fence"
      ],
      "metadata": {
        "colab": {
          "base_uri": "https://localhost:8080/"
        },
        "id": "aaPq3B9-OM8O",
        "outputId": "1c15d657-d17f-46ae-c63f-594faa08bc9d"
      },
      "execution_count": 7,
      "outputs": [
        {
          "output_type": "execute_result",
          "data": {
            "text/plain": [
              "np.float64(1.5)"
            ]
          },
          "metadata": {},
          "execution_count": 7
        }
      ]
    },
    {
      "cell_type": "code",
      "source": [
        "higher_fence"
      ],
      "metadata": {
        "colab": {
          "base_uri": "https://localhost:8080/"
        },
        "id": "tTleWzVvOOyA",
        "outputId": "4bbf7df3-078a-488a-c05c-5ef7ff454cc8"
      },
      "execution_count": 8,
      "outputs": [
        {
          "output_type": "execute_result",
          "data": {
            "text/plain": [
              "np.float64(141.5)"
            ]
          },
          "metadata": {},
          "execution_count": 8
        }
      ]
    },
    {
      "cell_type": "code",
      "source": [
        "import seaborn as sns"
      ],
      "metadata": {
        "id": "HhdepTZQPcLJ"
      },
      "execution_count": 10,
      "outputs": []
    },
    {
      "cell_type": "code",
      "source": [
        "lst_marks = [-100,-30,-4,45,32,56,75,89,54,32,89,90,87,67,54,45,98,99,67,74,400,800,900,600,-20]\n",
        "sns.boxplot(lst_marks)"
      ],
      "metadata": {
        "colab": {
          "base_uri": "https://localhost:8080/",
          "height": 428
        },
        "id": "gk4uom2LPMWm",
        "outputId": "3ee52b3c-aa01-4fe9-c384-0d678ce60e5b"
      },
      "execution_count": 14,
      "outputs": [
        {
          "output_type": "execute_result",
          "data": {
            "text/plain": [
              "<Axes: >"
            ]
          },
          "metadata": {},
          "execution_count": 14
        },
        {
          "output_type": "display_data",
          "data": {
            "text/plain": [
              "<Figure size 640x480 with 1 Axes>"
            ],
            "image/png": "[encoded data removed]"
          },
          "metadata": {}
        }
      ]
    }
  ]
}