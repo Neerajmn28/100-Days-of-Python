{
  "nbformat": 4,
  "nbformat_minor": 0,
  "metadata": {
    "colab": {
      "provenance": [],
      "authorship_tag": "ABX9TyMIsAj731e8O8rCakrEE6YV",
      "include_colab_link": true
    },
    "kernelspec": {
      "name": "python3",
      "display_name": "Python 3"
    },
    "language_info": {
      "name": "python"
    }
  },
  "cells": [
    {
      "cell_type": "markdown",
      "metadata": {
        "id": "view-in-github",
        "colab_type": "text"
      },
      "source": [
        "<a href=\"https://colab.research.google.com/github/Neerajmn28/100-Days-of-Python/blob/main/Project%208%20Number%20guessing%20game.ipynb\" target=\"_parent\"><img src=\"https://colab.research.google.com/assets/colab-badge.svg\" alt=\"Open In Colab\"/></a>"
      ]
    },
    {
      "cell_type": "markdown",
      "source": [
        "\n",
        "\n",
        "\n",
        "# Project Title: Number Guessing Game\n",
        "\n",
        "Description:\n",
        "The Number Guessing Game is a simple and interactive Python project where users try to guess a randomly generated number between 1 and 100. The game challenges players with two difficulty levels: \"Easy\" and \"Hard.\" Each level determines the number of attempts the player has to correctly guess the number. Feedback is provided for each guess, guiding the player if their guess is \"too high\" or \"too low.\" The game concludes when the player guesses the correct number or runs out of attempts.  \n",
        "\n",
        "Key Features:\n",
        "\n",
        "* Random Number Generation: The program generates a random number between 1 and 100 using Python's randint function.\n",
        "* Difficulty Levels:\n",
        "Easy Mode: Players have 10 attempts to guess the number.\n",
        "Hard Mode: Players have 5 attempts to guess the number.\n",
        "Input Validation: The game accepts user input and ensures guesses are checked against the random number, reducing remaining attempts as necessary.\n",
        "User Feedback: For every incorrect guess, the game provides a hint—either \"Too High\" or \"Too Low.\"\n",
        "Game Loop: A while loop ensures that the game continues until the user guesses the correct number or runs out of attempts."
      ],
      "metadata": {
        "id": "_uweolkfBh5m"
      }
    },
    {
      "cell_type": "code",
      "source": [
        "from random import randint"
      ],
      "metadata": {
        "id": "XReC3zcxBRnq"
      },
      "execution_count": 6,
      "outputs": []
    },
    {
      "cell_type": "code",
      "execution_count": 1,
      "metadata": {
        "id": "y-cmwamPAaJ4"
      },
      "outputs": [],
      "source": [
        "EASY_LEVEL_TURNS = 10\n",
        "HARD_LEVEL_TURNS = 5"
      ]
    },
    {
      "cell_type": "code",
      "source": [
        "def check_answer(user_guess, actual_answer, turns):\n",
        "    \"\"\"Checks answer against the guess, returns the number of turns remaining\"\"\"\n",
        "    if user_guess > actual_answer:\n",
        "        print('Too high')\n",
        "        return turns - 1\n",
        "    elif user_guess < actual_answer:\n",
        "        print('Too low')\n",
        "        return turns - 1\n",
        "    else:\n",
        "        print('You got it! The answer is correct')"
      ],
      "metadata": {
        "id": "A9UuAItvAqAz"
      },
      "execution_count": 2,
      "outputs": []
    },
    {
      "cell_type": "code",
      "source": [
        "def set_difficulty():\n",
        "    level = input('Choose a difficulty, Type \"easy\" or \"hard\": ')\n",
        "    if level == 'easy':\n",
        "        return EASY_LEVEL_TURNS\n",
        "    else:\n",
        "        return HARD_LEVEL_TURNS"
      ],
      "metadata": {
        "id": "Aey3QN_NBJHM"
      },
      "execution_count": 3,
      "outputs": []
    },
    {
      "cell_type": "code",
      "source": [
        "def game():\n",
        "\n",
        "    print('Welcome to the number guessing game!')\n",
        "    print('I am thinking of a number between 1 and 100.')\n",
        "    answer = randint(1,100)\n",
        "    print(F\"The correct answer is {answer}\")\n",
        "\n",
        "    turns = set_difficulty()\n",
        "\n",
        "    guess = 0\n",
        "    while guess != answer:\n",
        "        print(f'You have {turns} attempts remaining to guess the number.')\n",
        "        guess = int(input('Make a guess: '))\n",
        "        turns = check_answer(guess, answer, turns)\n",
        "        if turns == 0:\n",
        "            print('You have run out of guesses, you lose')\n",
        "            return\n",
        "        elif guess != answer:\n",
        "            print('Guess again')\n",
        "\n",
        "\n",
        "\n",
        "        #check_answer(guess, answer, turns)"
      ],
      "metadata": {
        "id": "tKfSPvl6BKsu"
      },
      "execution_count": 4,
      "outputs": []
    },
    {
      "cell_type": "code",
      "source": [
        "game()"
      ],
      "metadata": {
        "colab": {
          "base_uri": "https://localhost:8080/"
        },
        "id": "QMiT_O1FBNME",
        "outputId": "9010cc2c-f140-4c5b-9747-dce712c74793"
      },
      "execution_count": 7,
      "outputs": [
        {
          "output_type": "stream",
          "name": "stdout",
          "text": [
            "Welcome to the number guessing game!\n",
            "I am thinking of a number between 1 and 100.\n",
            "The correct answer is 13\n",
            "Choose a difficulty, Type \"easy\" or \"hard\": hard\n",
            "You have 5 attempts remaining to guess the number.\n",
            "Make a guess: 20\n",
            "Too high\n",
            "Guess again\n",
            "You have 4 attempts remaining to guess the number.\n",
            "Make a guess: 40\n",
            "Too high\n",
            "Guess again\n",
            "You have 3 attempts remaining to guess the number.\n",
            "Make a guess: 10\n",
            "Too low\n",
            "Guess again\n",
            "You have 2 attempts remaining to guess the number.\n",
            "Make a guess: 13\n",
            "You got it! The answer is correct\n"
          ]
        }
      ]
    }
  ]
}