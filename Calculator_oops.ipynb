{
  "nbformat": 4,
  "nbformat_minor": 0,
  "metadata": {
    "colab": {
      "provenance": []
    },
    "kernelspec": {
      "name": "python3",
      "display_name": "Python 3"
    },
    "language_info": {
      "name": "python"
    }
  },
  "cells": [
    {
      "cell_type": "markdown",
      "source": [
        "#   A small OOP project: Simple Calculator."
      ],
      "metadata": {
        "id": "ydnppunu06Xj"
      }
    },
    {
      "cell_type": "markdown",
      "source": [
        "* Encapsulation: The arithmetic methods are encapsulated in the Calculator class.\n",
        "* Abstraction: Users can perform operations without knowing how they are implemented."
      ],
      "metadata": {
        "id": "qyn-E8DJ0fUM"
      }
    },
    {
      "cell_type": "code",
      "source": [
        "class Calculator:\n",
        "  def add(self, a, b):\n",
        "    return a + b\n",
        "\n",
        "  def subtract(self, a , b):\n",
        "    return a - b\n",
        "\n",
        "  def multiply(self, a, b):\n",
        "    return a * b\n",
        "\n",
        "  def divide(self, a, b):\n",
        "    if b != 0:\n",
        "      return a / b\n",
        "    else:\n",
        "      return 'Division by zero is not allowed'"
      ],
      "metadata": {
        "id": "eUJWuzVemYi4"
      },
      "execution_count": 1,
      "outputs": []
    },
    {
      "cell_type": "code",
      "source": [
        "if __name__ == '__main__': # ensures that a block of code is executed only if the file is run directly, not if it is imported as a module in another file.\n",
        "  calc = Calculator()\n",
        "\n",
        "\n",
        "  print('Addition:', calc.add(10,5))\n",
        "  print('Substraction:', calc.subtract(10,5))\n",
        "  print('Multiplication:', calc.multiply(10,5))\n",
        "  print('Division:', calc.divide(10,5))\n",
        "  print('Division by zero:', calc.divide(10,0))"
      ],
      "metadata": {
        "colab": {
          "base_uri": "https://localhost:8080/"
        },
        "id": "vBt7KPxgo4fN",
        "outputId": "4c0a2728-1863-4e4d-8153-ab00084c77f7"
      },
      "execution_count": 2,
      "outputs": [
        {
          "output_type": "stream",
          "name": "stdout",
          "text": [
            "Addition: 15\n",
            "Substraction: 5\n",
            "Multiplication: 50\n",
            "Division: 2.0\n",
            "Division by zero: Division by zero is not allowed\n"
          ]
        }
      ]
    }
  ]
}