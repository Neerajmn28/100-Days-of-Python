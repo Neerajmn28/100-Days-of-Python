{
  "nbformat": 4,
  "nbformat_minor": 0,
  "metadata": {
    "colab": {
      "provenance": [],
      "authorship_tag": "ABX9TyP00q0/4gwSuNwn7cxUc75O",
      "include_colab_link": true
    },
    "kernelspec": {
      "name": "python3",
      "display_name": "Python 3"
    },
    "language_info": {
      "name": "python"
    }
  },
  "cells": [
    {
      "cell_type": "markdown",
      "metadata": {
        "id": "view-in-github",
        "colab_type": "text"
      },
      "source": [
        "<a href=\"https://colab.research.google.com/github/Neerajmn28/100-Days-of-Python/blob/main/Oops%20Project%20Bank%20Account.ipynb\" target=\"_parent\"><img src=\"https://colab.research.google.com/assets/colab-badge.svg\" alt=\"Open In Colab\"/></a>"
      ]
    },
    {
      "cell_type": "markdown",
      "source": [
        "A simple program to manage a bank account with basic operations like deposit, withdrawl and balance inquiry and brush up the oops concept."
      ],
      "metadata": {
        "id": "VS78uiGctjRR"
      }
    },
    {
      "cell_type": "code",
      "execution_count": 3,
      "metadata": {
        "id": "xEyRbXGXqSr7"
      },
      "outputs": [],
      "source": [
        "class BankAccount:\n",
        "  def __init__(self, account_holder, balance = 0):\n",
        "    self.account_holder = account_holder\n",
        "    self.balance = balance\n",
        "\n",
        "\n",
        "  def deposit(self, amount):\n",
        "    if amount > 0:\n",
        "      self.balance += amount\n",
        "      print(f'Deposited ${amount}, New Balance: ${self.balance}')\n",
        "    else:\n",
        "      print('Deposited amount must be positive')\n",
        "\n",
        "\n",
        "  def withdraw(self, amount):\n",
        "    if 0 < amount <= self.balance:\n",
        "      self.balance -= amount\n",
        "      print(f'Withdrew ${amount}, New Balance: ${self.balance}')\n",
        "    else:\n",
        "      print('Invalid withdrawal amount!')\n",
        "\n",
        "\n",
        "  def get_balance(self):\n",
        "    return self.balance\n",
        "\n"
      ]
    },
    {
      "cell_type": "code",
      "source": [
        "account = BankAccount('John Doe', 1000)\n",
        "account.deposit(500)\n",
        "account.withdraw(200)\n",
        "print(f'Account Balance: ${account.get_balance()}')"
      ],
      "metadata": {
        "colab": {
          "base_uri": "https://localhost:8080/"
        },
        "id": "PEBV7qobtQNM",
        "outputId": "b8e149ae-04a8-4072-af8c-82fc781e6d58"
      },
      "execution_count": 5,
      "outputs": [
        {
          "output_type": "stream",
          "name": "stdout",
          "text": [
            "Deposited $500, New Balance: $1500\n",
            "Withdrew $200, New Balance: $1300\n",
            "Account Balance: $1300\n"
          ]
        }
      ]
    }
  ]
}