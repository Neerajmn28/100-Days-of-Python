{
  "nbformat": 4,
  "nbformat_minor": 0,
  "metadata": {
    "colab": {
      "provenance": [],
      "authorship_tag": "ABX9TyN60hXuxTIGArkRB5Z5Quwe",
      "include_colab_link": true
    },
    "kernelspec": {
      "name": "python3",
      "display_name": "Python 3"
    },
    "language_info": {
      "name": "python"
    }
  },
  "cells": [
    {
      "cell_type": "markdown",
      "metadata": {
        "id": "view-in-github",
        "colab_type": "text"
      },
      "source": [
        "<a href=\"https://colab.research.google.com/github/Neerajmn28/100-Days-of-Python/blob/main/Project%206%20Basic%20Calculator.ipynb\" target=\"_parent\"><img src=\"https://colab.research.google.com/assets/colab-badge.svg\" alt=\"Open In Colab\"/></a>"
      ]
    },
    {
      "cell_type": "markdown",
      "source": [
        "# CALCULATOR\n",
        "This project is an Interactive Calculator built using Python. It allows users to perform basic arithmetic operations (addition, subtraction, multiplication, and division) in an intuitive and interactive way. The program leverages Python's functional programming capabilities by dynamically associating mathematical operations with corresponding functions.\n",
        "\n",
        "Features:\n",
        "\n",
        "Function as Variables: Arithmetic operations are implemented as separate functions (add, subtraction, multiplication, and divide) and stored in a dictionary for easy reference.\n",
        "Dynamic Operation Execution: Users can select operations by inputting symbols (+, -, *, /) that are mapped to the corresponding functions in the dictionary. Continuous Calculations:\n",
        "Users can choose to continue calculations using the result of the previous operation. Allows for a seamless calculation experience without restarting the program.\n",
        "Input Validation and Feedback: The program prompts users to provide input and displays results in a readable format, such as 10 + 20 = 30."
      ],
      "metadata": {
        "id": "u3z3Ax9uVYH6"
      }
    },
    {
      "cell_type": "code",
      "execution_count": 1,
      "metadata": {
        "id": "NZat_imxVPby"
      },
      "outputs": [],
      "source": [
        "def add(n1 , n2):\n",
        "  return n1 + n2"
      ]
    },
    {
      "cell_type": "code",
      "source": [
        "my_fav_operator = add # Storing a function into a variable\n",
        "print(my_fav_operator(100,200))"
      ],
      "metadata": {
        "colab": {
          "base_uri": "https://localhost:8080/"
        },
        "id": "115BfGBuVpvv",
        "outputId": "95271c14-b976-453d-8872-5bc0168bfa46"
      },
      "execution_count": 2,
      "outputs": [
        {
          "output_type": "stream",
          "name": "stdout",
          "text": [
            "300\n"
          ]
        }
      ]
    },
    {
      "cell_type": "code",
      "source": [
        "def sub(n1, n2):\n",
        "  return n1 - n2"
      ],
      "metadata": {
        "id": "G4vCTwA8VxqU"
      },
      "execution_count": 3,
      "outputs": []
    },
    {
      "cell_type": "code",
      "source": [
        "def multiplication(n1, n2):\n",
        "  return n1 * n2"
      ],
      "metadata": {
        "id": "K58zmvY6WAAi"
      },
      "execution_count": 4,
      "outputs": []
    },
    {
      "cell_type": "code",
      "source": [
        "def division(n1, n2):\n",
        "  return n1 / n2"
      ],
      "metadata": {
        "id": "Te8r1Q1pWNT_"
      },
      "execution_count": 5,
      "outputs": []
    },
    {
      "cell_type": "code",
      "source": [
        "x = {'add':10,\n",
        "     'mul':20}"
      ],
      "metadata": {
        "id": "RV1GyfliW9K3"
      },
      "execution_count": 6,
      "outputs": []
    },
    {
      "cell_type": "code",
      "source": [
        "# Add these functions into a dictionary\n",
        "operations = {'+':add,\n",
        "              '-':sub,\n",
        "              '*':multiplication,\n",
        "              '/':division}\n"
      ],
      "metadata": {
        "id": "3Lp3AVJBWTOQ"
      },
      "execution_count": 7,
      "outputs": []
    },
    {
      "cell_type": "code",
      "source": [
        "print(operations['/'](20,10))"
      ],
      "metadata": {
        "colab": {
          "base_uri": "https://localhost:8080/"
        },
        "id": "s4K8MW0TWxhE",
        "outputId": "bf35e2ce-df86-489e-adfd-da1761290100"
      },
      "execution_count": 8,
      "outputs": [
        {
          "output_type": "stream",
          "name": "stdout",
          "text": [
            "2.0\n"
          ]
        }
      ]
    },
    {
      "cell_type": "code",
      "source": [
        "def calculator():\n",
        "\n",
        "\n",
        "  should_accumulate = True\n",
        "  num1 = float(input('What is the first number?: '))\n",
        "\n",
        "  while should_accumulate:\n",
        "    for symbols in operations:\n",
        "      print(symbols)\n",
        "    operations_symbols = input('Pick an operator: ')\n",
        "    num2 = float(input('What is the second number?: '))\n",
        "\n",
        "    answer = operations[operations_symbols](num1, num2)\n",
        "    print(f'{num1} {operations_symbols} {num2} = {answer}')\n",
        "\n",
        "\n",
        "    choice = input(f'Type \"Yes\" to continue calculating with {answer}, or type \"No\" to start a new calculation: ')\n",
        "    if choice == 'Yes':\n",
        "      num1 = answer\n",
        "    else:\n",
        "      should_accumulate = False\n",
        "      calculator()"
      ],
      "metadata": {
        "id": "j1LvCL1aW3cx"
      },
      "execution_count": 9,
      "outputs": []
    },
    {
      "cell_type": "code",
      "source": [
        "calculator()"
      ],
      "metadata": {
        "colab": {
          "base_uri": "https://localhost:8080/"
        },
        "id": "bJIMq9Q4c4dt",
        "outputId": "e7975b40-a2d8-4caa-d5c4-6465f30e9c3b"
      },
      "execution_count": null,
      "outputs": [
        {
          "name": "stdout",
          "output_type": "stream",
          "text": [
            "What is the first number?: 200\n",
            "+\n",
            "-\n",
            "*\n",
            "/\n",
            "Pick an operator: *\n",
            "What is the second number?: 5\n",
            "200.0 * 5.0 = 1000.0\n",
            "Type \"Yes\" to continue calculating with 1000.0, or type \"No\" to start a new calculation: Yes\n",
            "+\n",
            "-\n",
            "*\n",
            "/\n",
            "Pick an operator: +\n",
            "What is the second number?: 200\n",
            "1000.0 + 200.0 = 1200.0\n",
            "Type \"Yes\" to continue calculating with 1200.0, or type \"No\" to start a new calculation: Yes\n",
            "+\n",
            "-\n",
            "*\n",
            "/\n",
            "Pick an operator: *\n",
            "What is the second number?: 2\n",
            "1200.0 * 2.0 = 2400.0\n",
            "Type \"Yes\" to continue calculating with 2400.0, or type \"No\" to start a new calculation: Yes\n",
            "+\n",
            "-\n",
            "*\n",
            "/\n",
            "Pick an operator: -\n",
            "What is the second number?: 200\n",
            "2400.0 - 200.0 = 2200.0\n",
            "Type \"Yes\" to continue calculating with 2200.0, or type \"No\" to start a new calculation: No\n"
          ]
        }
      ]
    }
  ]
}