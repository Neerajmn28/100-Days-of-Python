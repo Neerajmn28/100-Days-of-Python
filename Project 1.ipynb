{
 "cells": [
  {
   "cell_type": "markdown",
   "id": "fba6683a",
   "metadata": {},
   "source": [
    "Project Description: Treasure Island Adventure Game\n",
    "The \"Treasure Island Adventure Game\" is a fun, interactive, and beginner-friendly Python project designed to introduce the concept of decision-based gameplay. This game combines creativity with programming skills to deliver a simple yet engaging user experience.\n",
    "\n",
    "Objective:\n",
    "The player embarks on a thrilling treasure hunt where their goal is to make the right choices and successfully find the hidden treasure. Each decision leads to different outcomes, making the game both exciting and unpredictable.\n",
    "\n"
   ]
  },
  {
   "cell_type": "code",
   "execution_count": 27,
   "id": "b0a61fa5",
   "metadata": {},
   "outputs": [
    {
     "name": "stdout",
     "output_type": "stream",
     "text": [
      "Welcome to Treasure Island!\n",
      "Your mission is to find the treasure.\n",
      "You're at a crossroad, where do you want to go?\n",
      "Type \"Left\" or \"Right\": left\n",
      "You've come to a lake.\n",
      "There is an island in the middle of the lake.\n",
      "Type \"Wait\" to wait for a boat or \"Swim\" to swim across: wait\n",
      "You arrive at the island unharmed.\n",
      "There is a house with 3 doors: One red, one yellow, and one blue.\n",
      "Which color do you choose? yellow\n",
      "You found the treasure! You Win!\n"
     ]
    }
   ],
   "source": [
    "print('Welcome to Treasure Island!')\n",
    "print('Your mission is to find the treasure.')\n",
    "\n",
    "choice1 = input('You\\'re at a crossroad, where do you want to go?\\n'\n",
    "                'Type \"Left\" or \"Right\": ').lower()\n",
    "\n",
    "if choice1 == 'left':\n",
    "    choice2 = input('You\\'ve come to a lake.\\n'\n",
    "                    'There is an island in the middle of the lake.\\n'\n",
    "                    'Type \"Wait\" to wait for a boat or \"Swim\" to swim across: ').lower()\n",
    "    if choice2 == 'wait':\n",
    "        choice3 = input('You arrive at the island unharmed.\\n'\n",
    "                        'There is a house with 3 doors: One red, one yellow, and one blue.\\n'\n",
    "                        'Which color do you choose? ').lower()\n",
    "        if choice3 == 'red':\n",
    "            print('It is a room full of fire. Game Over!')\n",
    "        elif choice3 == 'yellow':\n",
    "            print('You found the treasure! You Win!')\n",
    "        elif choice3 == 'blue':\n",
    "            print('You entered a room of beasts. Game Over!')\n",
    "        else:\n",
    "            print('You chose a door that doesn\\'t exist. Game Over!')\n",
    "    elif choice2 == 'swim':\n",
    "        print('You tried to swim across but were attacked by a crocodile. Game Over!')\n",
    "    else:\n",
    "        print('Invalid choice. Game Over!')\n",
    "else:\n",
    "    print('You fell into a hole. Game Over!')\n"
   ]
  }
 ],
 "metadata": {
  "kernelspec": {
   "display_name": "Python 3 (ipykernel)",
   "language": "python",
   "name": "python3"
  },
  "language_info": {
   "codemirror_mode": {
    "name": "ipython",
    "version": 3
   },
   "file_extension": ".py",
   "mimetype": "text/x-python",
   "name": "python",
   "nbconvert_exporter": "python",
   "pygments_lexer": "ipython3",
   "version": "3.10.9"
  }
 },
 "nbformat": 4,
 "nbformat_minor": 5
}
