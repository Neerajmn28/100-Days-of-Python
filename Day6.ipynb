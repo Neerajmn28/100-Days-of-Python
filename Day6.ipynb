{
  "nbformat": 4,
  "nbformat_minor": 0,
  "metadata": {
    "colab": {
      "provenance": [],
      "authorship_tag": "ABX9TyMsiqt3u6eUpE5UxssfcOY8",
      "include_colab_link": true
    },
    "kernelspec": {
      "name": "python3",
      "display_name": "Python 3"
    },
    "language_info": {
      "name": "python"
    }
  },
  "cells": [
    {
      "cell_type": "markdown",
      "metadata": {
        "id": "view-in-github",
        "colab_type": "text"
      },
      "source": [
        "<a href=\"https://colab.research.google.com/github/Neerajmn28/100-Days-of-Python/blob/main/Day6.ipynb\" target=\"_parent\"><img src=\"https://colab.research.google.com/assets/colab-badge.svg\" alt=\"Open In Colab\"/></a>"
      ]
    },
    {
      "cell_type": "markdown",
      "source": [
        "CODE BLOCKS, FUNCTIONS, WHILE LOOPS"
      ],
      "metadata": {
        "id": "sjhdX2_9SNIj"
      }
    },
    {
      "cell_type": "code",
      "execution_count": 1,
      "metadata": {
        "colab": {
          "base_uri": "https://localhost:8080/"
        },
        "id": "zYqsQwAjSKki",
        "outputId": "f65a6bb7-b58f-4081-8a74-24454bec6911"
      },
      "outputs": [
        {
          "output_type": "stream",
          "name": "stdout",
          "text": [
            "Hello world\n"
          ]
        }
      ],
      "source": [
        "print('Hello world') # Here the parenthesis is the function"
      ]
    },
    {
      "cell_type": "code",
      "source": [
        "def my_function():\n",
        "  print('Hello World')\n",
        "  print('Whats up')"
      ],
      "metadata": {
        "id": "WM9Vn4dcSd-t"
      },
      "execution_count": 2,
      "outputs": []
    },
    {
      "cell_type": "code",
      "source": [
        "my_function()"
      ],
      "metadata": {
        "colab": {
          "base_uri": "https://localhost:8080/"
        },
        "id": "R7dmbLh2SsWo",
        "outputId": "3c07f882-a4e0-4828-d607-19f74ae4920d"
      },
      "execution_count": 3,
      "outputs": [
        {
          "output_type": "stream",
          "name": "stdout",
          "text": [
            "Hello World\n",
            "Whats up\n"
          ]
        }
      ]
    },
    {
      "cell_type": "code",
      "source": [
        "x = 1\n",
        "while x <= 5:\n",
        "  print(x)\n",
        "  x += 1"
      ],
      "metadata": {
        "colab": {
          "base_uri": "https://localhost:8080/"
        },
        "id": "fyhpXgZRSMWh",
        "outputId": "f296ed08-7ec7-487f-f33a-f4c5467bc5d2"
      },
      "execution_count": 6,
      "outputs": [
        {
          "output_type": "stream",
          "name": "stdout",
          "text": [
            "1\n",
            "2\n",
            "3\n",
            "4\n",
            "5\n"
          ]
        }
      ]
    },
    {
      "cell_type": "code",
      "source": [
        "# Initialize the counter\n",
        "i = 1\n",
        "\n",
        "# While loop with break\n",
        "while i <= 10:\n",
        "    print(i)\n",
        "    if i == 5:  # Break the loop when i equals 5\n",
        "      break\n",
        "    i += 1"
      ],
      "metadata": {
        "colab": {
          "base_uri": "https://localhost:8080/"
        },
        "id": "8LN_0UkETDhY",
        "outputId": "53aa7108-fc06-4b7f-90c4-7cca75fcc9fa"
      },
      "execution_count": 11,
      "outputs": [
        {
          "output_type": "stream",
          "name": "stdout",
          "text": [
            "1\n",
            "2\n",
            "3\n",
            "4\n",
            "5\n"
          ]
        }
      ]
    },
    {
      "cell_type": "code",
      "source": [
        "i = 1\n",
        "while i <= 3:\n",
        "  print(i)\n",
        "  i += 1\n",
        "else:\n",
        "  print('Loop finished!')"
      ],
      "metadata": {
        "colab": {
          "base_uri": "https://localhost:8080/"
        },
        "id": "-PdDJ6mZUq2H",
        "outputId": "f5fff8c9-7a1a-4b1a-de86-14118cdd1262"
      },
      "execution_count": 14,
      "outputs": [
        {
          "output_type": "stream",
          "name": "stdout",
          "text": [
            "1\n",
            "2\n",
            "3\n",
            "Loop finished!\n"
          ]
        }
      ]
    },
    {
      "cell_type": "code",
      "source": [
        "password = 'hello'\n",
        "user_input = input('Enter your password: ')\n",
        "\n",
        "while user_input == password:\n",
        "  print('Access granted')\n",
        "  break\n",
        "else:\n",
        "  print('Access denied')"
      ],
      "metadata": {
        "colab": {
          "base_uri": "https://localhost:8080/"
        },
        "id": "rUmgAGMjVoYE",
        "outputId": "19f63701-d1cb-40ae-b011-1ce7ef5bdb50"
      },
      "execution_count": 17,
      "outputs": [
        {
          "output_type": "stream",
          "name": "stdout",
          "text": [
            "Enter your password: hello\n",
            "Access granted\n"
          ]
        }
      ]
    },
    {
      "cell_type": "code",
      "source": [
        "number = -1\n",
        "\n",
        "while number < 0:\n",
        "  number = int(input('Enter a positive number: '))\n",
        "\n",
        "  if number < 0:\n",
        "    print('Invalid input! please enter a positive number.')\n",
        "\n",
        "print('You entered:', number)"
      ],
      "metadata": {
        "colab": {
          "base_uri": "https://localhost:8080/"
        },
        "id": "-2mMmoL_dCDP",
        "outputId": "5af00dd2-2544-45d1-8e03-485d0480907a"
      },
      "execution_count": 21,
      "outputs": [
        {
          "output_type": "stream",
          "name": "stdout",
          "text": [
            "Enter a positive number: -10\n",
            "Invalid input! please enter a positive number.\n",
            "Enter a positive number: 20\n",
            "You entered: 20\n"
          ]
        }
      ]
    },
    {
      "cell_type": "code",
      "source": [
        "number = int(input('Enter a number: '))\n",
        "\n",
        "total_sum = 0\n",
        "while number > 0:\n",
        "  total_sum += number % 20\n",
        "  number //= 20\n",
        "\n",
        "print('Sum of digits:', total_sum)"
      ],
      "metadata": {
        "colab": {
          "base_uri": "https://localhost:8080/"
        },
        "id": "sTx30_ITigj-",
        "outputId": "711efab9-ef84-44a9-ed6b-c1f607ee9147"
      },
      "execution_count": 24,
      "outputs": [
        {
          "output_type": "stream",
          "name": "stdout",
          "text": [
            "Enter a number: 200\n",
            "Sum of digits: 10\n"
          ]
        }
      ]
    }
  ]
}