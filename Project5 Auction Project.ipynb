{
  "nbformat": 4,
  "nbformat_minor": 0,
  "metadata": {
    "colab": {
      "provenance": [],
      "authorship_tag": "ABX9TyOHXE6ihxZFM3nAG+wXpaHk",
      "include_colab_link": true
    },
    "kernelspec": {
      "name": "python3",
      "display_name": "Python 3"
    },
    "language_info": {
      "name": "python"
    }
  },
  "cells": [
    {
      "cell_type": "markdown",
      "metadata": {
        "id": "view-in-github",
        "colab_type": "text"
      },
      "source": [
        "<a href=\"https://colab.research.google.com/github/Neerajmn28/100-Days-of-Python/blob/main/Project5%20Auction%20Project.ipynb\" target=\"_parent\"><img src=\"https://colab.research.google.com/assets/colab-badge.svg\" alt=\"Open In Colab\"/></a>"
      ]
    },
    {
      "cell_type": "markdown",
      "source": [
        "\n",
        "This is a simple Blind auction project where multiple users can submit bids for an item without knowing the bids of others. The goal is to create a fair bidding system where the highest bid wins, but each participant’s bid remains confidential until the auction ends."
      ],
      "metadata": {
        "id": "IXxSL3I_dMOA"
      }
    },
    {
      "cell_type": "code",
      "source": [
        "def find_highest_bidder(bid_record):\n",
        "  print('Welcome to the Secret Auction Program')\n",
        "\n",
        "  winner = ''\n",
        "  highest_bidder = 0\n",
        "\n",
        "\n",
        "  for bidder in bid_record:\n",
        "    bid_amount = bid_record[bidder]\n",
        "    if bid_amount > highest_bidder:\n",
        "      highest_bidder = bid_amount\n",
        "      winner = bidder\n",
        "  print(f'The winner is {winner} with a bid of ${highest_bidder}')"
      ],
      "metadata": {
        "id": "suk-LX7hMDcQ"
      },
      "execution_count": 66,
      "outputs": []
    },
    {
      "cell_type": "code",
      "source": [
        "bids = {}\n",
        "\n",
        "continue_bidding = True\n",
        "print('Welcome to the Secret Auction Program')\n",
        "while continue_bidding:\n",
        "  name = input('What is your name?: ')\n",
        "  price = int(input('What is your bid: $'))\n",
        "  bids[name] = price\n",
        "  should_continue = input('Are there any other bidders? Type: \"Yes\" or \"No\" ').lower()\n",
        "  if should_continue == 'no':\n",
        "    continue_bidding = False\n",
        "    find_highest_bidder(bids)\n",
        "  elif should_continue == 'yes':\n",
        "    print('\\n' * 20)\n",
        "  else:\n",
        "    print('Invalid Input')"
      ],
      "metadata": {
        "colab": {
          "base_uri": "https://localhost:8080/"
        },
        "id": "VHMaQ7xFQwcn",
        "outputId": "e4f8cae5-9798-4e44-aa6d-5517857d1ffe"
      },
      "execution_count": 69,
      "outputs": [
        {
          "output_type": "stream",
          "name": "stdout",
          "text": [
            "Welcome to the Secret Auction Program\n",
            "What is your name?: Richard Dawkins\n",
            "What is your bid: $20000000\n",
            "Are there any other bidders? Type: \"Yes\" or \"No\" yes\n",
            "\n",
            "\n",
            "\n",
            "\n",
            "\n",
            "\n",
            "\n",
            "\n",
            "\n",
            "\n",
            "\n",
            "\n",
            "\n",
            "\n",
            "\n",
            "\n",
            "\n",
            "\n",
            "\n",
            "\n",
            "\n",
            "What is your name?: Bertrand\n",
            "What is your bid: $1000000\n",
            "Are there any other bidders? Type: \"Yes\" or \"No\" no\n",
            "Welcome to the Secret Auction Program\n",
            "The winner is Richard Dawkins with a bid of $20000000\n"
          ]
        }
      ]
    }
  ]
}