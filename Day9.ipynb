{
  "nbformat": 4,
  "nbformat_minor": 0,
  "metadata": {
    "colab": {
      "provenance": [],
      "authorship_tag": "ABX9TyM5kChQMbTK0ewm8bYrSbbB",
      "include_colab_link": true
    },
    "kernelspec": {
      "name": "python3",
      "display_name": "Python 3"
    },
    "language_info": {
      "name": "python"
    }
  },
  "cells": [
    {
      "cell_type": "markdown",
      "metadata": {
        "id": "view-in-github",
        "colab_type": "text"
      },
      "source": [
        "<a href=\"https://colab.research.google.com/github/Neerajmn28/100-Days-of-Python/blob/main/Day9.ipynb\" target=\"_parent\"><img src=\"https://colab.research.google.com/assets/colab-badge.svg\" alt=\"Open In Colab\"/></a>"
      ]
    },
    {
      "cell_type": "markdown",
      "source": [
        "DICTIONARIES AND NESTING"
      ],
      "metadata": {
        "id": "tY0wfTuVEWSG"
      }
    },
    {
      "cell_type": "code",
      "execution_count": 53,
      "metadata": {
        "id": "bKwaR0m_EST2"
      },
      "outputs": [],
      "source": [
        "programming_dict = {'Bug':'An error in a program that prevents the program from running as expected',\n",
        "                          'Function': 'A piece of code that you can easilly call over and over again',\n",
        "                    }"
      ]
    },
    {
      "cell_type": "code",
      "source": [
        " print(programming_dict['Bug']) # To retrieve a value from a dict"
      ],
      "metadata": {
        "colab": {
          "base_uri": "https://localhost:8080/"
        },
        "id": "38NldUFfFN83",
        "outputId": "27756e0b-bdf9-4a26-a264-3eaa6a762ab2"
      },
      "execution_count": 54,
      "outputs": [
        {
          "output_type": "stream",
          "name": "stdout",
          "text": [
            "An error in a program that prevents the program from running as expected\n"
          ]
        }
      ]
    },
    {
      "cell_type": "code",
      "source": [
        "# To add a new entry\n",
        "programming_dict['Loop'] = 'The action of doing something over and over again'\n",
        "print(programming_dict)"
      ],
      "metadata": {
        "colab": {
          "base_uri": "https://localhost:8080/"
        },
        "id": "vAuvJ9-eGKsu",
        "outputId": "828d3475-befc-41fe-8311-5528766c5ee5"
      },
      "execution_count": 55,
      "outputs": [
        {
          "output_type": "stream",
          "name": "stdout",
          "text": [
            "{'Bug': 'An error in a program that prevents the program from running as expected', 'Function': 'A piece of code that you can easilly call over and over again', 'Loop': 'The action of doing something over and over again'}\n"
          ]
        }
      ]
    },
    {
      "cell_type": "code",
      "source": [
        "empty_dict = {}  # empty dictionary\n",
        "empty_dict['Email'] = 'Hey you are selected' # To add something\n",
        "print(empty_dict)"
      ],
      "metadata": {
        "colab": {
          "base_uri": "https://localhost:8080/"
        },
        "id": "C1Q72iA_HMVu",
        "outputId": "424117a4-6bc5-4d49-9ddd-ec727ed3aac7"
      },
      "execution_count": 56,
      "outputs": [
        {
          "output_type": "stream",
          "name": "stdout",
          "text": [
            "{'Email': 'Hey you are selected'}\n"
          ]
        }
      ]
    },
    {
      "cell_type": "code",
      "source": [
        "# Wipe an existing dictionary\n",
        "programming_dict = {}\n",
        "print(programming_dict)"
      ],
      "metadata": {
        "colab": {
          "base_uri": "https://localhost:8080/"
        },
        "id": "G3Y8TI7AIXPq",
        "outputId": "caa70bc7-4a09-47f2-c8bc-ce5181d0a3e2"
      },
      "execution_count": 57,
      "outputs": [
        {
          "output_type": "stream",
          "name": "stdout",
          "text": [
            "{}\n"
          ]
        }
      ]
    },
    {
      "cell_type": "code",
      "source": [
        "# Edit an item in a dictionary\n",
        "programming_dict['Bug'] = 'Hey, are you okay!'\n",
        "print(programming_dict) # Now the bug is edited"
      ],
      "metadata": {
        "colab": {
          "base_uri": "https://localhost:8080/"
        },
        "id": "1nFvA3q3IrgB",
        "outputId": "63a6a2eb-6753-4d0c-a1e2-bf714c6002d7"
      },
      "execution_count": 58,
      "outputs": [
        {
          "output_type": "stream",
          "name": "stdout",
          "text": [
            "{'Bug': 'Hey, are you okay!'}\n"
          ]
        }
      ]
    },
    {
      "cell_type": "code",
      "source": [
        "# Loop through a dictionary\n",
        "for key in programming_dict:\n",
        "  print(key) # Here it will only give you the key"
      ],
      "metadata": {
        "colab": {
          "base_uri": "https://localhost:8080/"
        },
        "id": "PIfisboiJvIN",
        "outputId": "4176a8f6-ab8f-4135-cbe8-ed5a6dbd67c9"
      },
      "execution_count": 59,
      "outputs": [
        {
          "output_type": "stream",
          "name": "stdout",
          "text": [
            "Bug\n"
          ]
        }
      ]
    },
    {
      "cell_type": "code",
      "source": [
        "for key in programming_dict:\n",
        "  print(programming_dict[key]) # Here it will give you the value"
      ],
      "metadata": {
        "colab": {
          "base_uri": "https://localhost:8080/"
        },
        "id": "fKpFWkioKdis",
        "outputId": "c7417b18-439a-424d-8298-101b71ad3c57"
      },
      "execution_count": 60,
      "outputs": [
        {
          "output_type": "stream",
          "name": "stdout",
          "text": [
            "Hey, are you okay!\n"
          ]
        }
      ]
    },
    {
      "cell_type": "code",
      "source": [
        "# Do not modify lines 1-7\n",
        "student_scores = {\n",
        "    \"Harry\": 85,\n",
        "    \"Ron\": 78,\n",
        "    \"Hermione\": 99,\n",
        "    \"Draco\": 74,\n",
        "    \"Neville\": 62,\n",
        "}\n",
        "\n",
        "# Create an empty dictionary to hold the grades\n",
        "student_grades = {}\n",
        "\n",
        "# Convert scores to grades based on the criteria\n",
        "for student, score in student_scores.items():  #student represents the name of the student (key) and score is the value\n",
        "    if score >= 91:\n",
        "        student_grades[student] = \"Outstanding\"\n",
        "    elif score >= 81:\n",
        "        student_grades[student] = \"Exceeds Expectations\"\n",
        "    elif score >= 71:\n",
        "        student_grades[student] = \"Acceptable\"\n",
        "    else:\n",
        "        student_grades[student] = \"Fail\"\n",
        "\n",
        "# Print the final student_grades dictionary\n",
        "print(student_grades)"
      ],
      "metadata": {
        "colab": {
          "base_uri": "https://localhost:8080/"
        },
        "id": "pN9f-WrBKn6W",
        "outputId": "a7ad171c-a9f3-42f1-810b-395573f3d19d"
      },
      "execution_count": 61,
      "outputs": [
        {
          "output_type": "stream",
          "name": "stdout",
          "text": [
            "{'Harry': 'Exceeds Expectations', 'Ron': 'Acceptable', 'Hermione': 'Outstanding', 'Draco': 'Acceptable', 'Neville': 'Fail'}\n"
          ]
        }
      ]
    },
    {
      "cell_type": "markdown",
      "source": [
        "Nesting\n",
        "* Nesting in dictionaries refers to placing a dictionary within another dictionary, allowing you to create more complex data structures to represent hierarchical or related information."
      ],
      "metadata": {
        "id": "VRD2lzYWOMXm"
      }
    },
    {
      "cell_type": "code",
      "source": [
        "capitals = {\n",
        "    'France':'Paris',\n",
        "    'Germany':'Berlin'\n",
        "    }"
      ],
      "metadata": {
        "id": "DGcLq_WZMxEm"
      },
      "execution_count": 62,
      "outputs": []
    },
    {
      "cell_type": "code",
      "source": [
        "# Nested list in Dictionary\n",
        "travel_log = {\n",
        "    'France':['Paris','Lille','Dijion'],\n",
        "    'Germany':['Stuttgart','Berlin']\n",
        "}"
      ],
      "metadata": {
        "id": "Gb8-pawFRmxE"
      },
      "execution_count": 63,
      "outputs": []
    },
    {
      "cell_type": "code",
      "source": [
        "print(travel_log['France'])\n",
        "print(travel_log['France'][1]) # To access one value\n",
        "print(travel_log['Germany'][0])"
      ],
      "metadata": {
        "colab": {
          "base_uri": "https://localhost:8080/"
        },
        "id": "iRyjQ2fESBW-",
        "outputId": "c787498a-e1b1-416a-fa9b-53bef8401568"
      },
      "execution_count": 64,
      "outputs": [
        {
          "output_type": "stream",
          "name": "stdout",
          "text": [
            "['Paris', 'Lille', 'Dijion']\n",
            "Lille\n",
            "Stuttgart\n"
          ]
        }
      ]
    },
    {
      "cell_type": "code",
      "source": [
        "nested_list = ['A','B',['C','D']]\n",
        "print(nested_list[2]) # To access the lists inside a list\n",
        "print(nested_list[2][1])"
      ],
      "metadata": {
        "colab": {
          "base_uri": "https://localhost:8080/"
        },
        "id": "oVCbY4oCSFA-",
        "outputId": "b9a16e17-c2b5-4e1b-d0e3-e6d4f3f9ae8b"
      },
      "execution_count": 65,
      "outputs": [
        {
          "output_type": "stream",
          "name": "stdout",
          "text": [
            "['C', 'D']\n",
            "D\n"
          ]
        }
      ]
    },
    {
      "cell_type": "code",
      "source": [
        "travel_details = {\n",
        "    'France':\n",
        "     {'cities_visited':['Paris','Lille','Dijon'],'total_visits':12},\n",
        "    'Germany':\n",
        "     {'cities_visited':['Stuttgart','Berlin'],'total_visits':5}\n",
        "}"
      ],
      "metadata": {
        "id": "hTlZ28IXSgwV"
      },
      "execution_count": 66,
      "outputs": []
    },
    {
      "cell_type": "code",
      "source": [
        "print(travel_details['Germany'])"
      ],
      "metadata": {
        "colab": {
          "base_uri": "https://localhost:8080/"
        },
        "id": "UPWzd4DSCSan",
        "outputId": "41d96ac3-e23b-4c8e-8a63-993467e55c1e"
      },
      "execution_count": 67,
      "outputs": [
        {
          "output_type": "stream",
          "name": "stdout",
          "text": [
            "{'cities_visited': ['Stuttgart', 'Berlin'], 'total_visits': 5}\n"
          ]
        }
      ]
    },
    {
      "cell_type": "code",
      "source": [
        "print(travel_details['Germany']['cities_visited'])"
      ],
      "metadata": {
        "colab": {
          "base_uri": "https://localhost:8080/"
        },
        "id": "rAXXoX4jCgQ6",
        "outputId": "a63297da-e48e-4fcc-d1eb-7dcae7a2c3e5"
      },
      "execution_count": 68,
      "outputs": [
        {
          "output_type": "stream",
          "name": "stdout",
          "text": [
            "['Stuttgart', 'Berlin']\n"
          ]
        }
      ]
    },
    {
      "cell_type": "code",
      "source": [
        "print(travel_details['Germany']['cities_visited'][0])"
      ],
      "metadata": {
        "colab": {
          "base_uri": "https://localhost:8080/"
        },
        "id": "a3igTJJiCttz",
        "outputId": "b123e63c-4702-4844-d8c9-6107c1b66352"
      },
      "execution_count": 69,
      "outputs": [
        {
          "output_type": "stream",
          "name": "stdout",
          "text": [
            "Stuttgart\n"
          ]
        }
      ]
    },
    {
      "cell_type": "code",
      "source": [
        "order = {\n",
        "    \"starter\": {1: \"Salad\", 2: \"Soup\"},\n",
        "    \"main\": {1: [\"Burger\", \"Fries\"], 2: [\"Steak\"]},\n",
        "    \"dessert\": {1: [\"Ice Cream\"], 2: []},\n",
        "}"
      ],
      "metadata": {
        "id": "qnNw66CmC8PP"
      },
      "execution_count": 70,
      "outputs": []
    },
    {
      "cell_type": "code",
      "source": [
        "print(order['main'][2][0])"
      ],
      "metadata": {
        "colab": {
          "base_uri": "https://localhost:8080/"
        },
        "id": "8MHN4WHxEZJR",
        "outputId": "b4c336b3-68d2-4893-f350-4f4e52fe05fe"
      },
      "execution_count": 71,
      "outputs": [
        {
          "output_type": "stream",
          "name": "stdout",
          "text": [
            "Steak\n"
          ]
        }
      ]
    }
  ]
}