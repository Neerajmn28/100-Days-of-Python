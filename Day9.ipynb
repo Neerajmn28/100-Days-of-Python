{
  "nbformat": 4,
  "nbformat_minor": 0,
  "metadata": {
    "colab": {
      "provenance": [],
      "authorship_tag": "ABX9TyM5kChQMbTK0ewm8bYrSbbB",
      "include_colab_link": true
    },
    "kernelspec": {
      "name": "python3",
      "display_name": "Python 3"
    },
    "language_info": {
      "name": "python"
    }
  },
  "cells": [
    {
      "cell_type": "markdown",
      "metadata": {
        "id": "view-in-github",
        "colab_type": "text"
      },
      "source": [
        "<a href=\"https://colab.research.google.com/github/Neerajmn28/100-Days-of-Python/blob/main/Day9.ipynb\" target=\"_parent\"><img src=\"https://colab.research.google.com/assets/colab-badge.svg\" alt=\"Open In Colab\"/></a>"
      ]
    },
    {
      "cell_type": "markdown",
      "source": [
        "DICTIONARIES AND NESTING"
      ],
      "metadata": {
        "id": "tY0wfTuVEWSG"
      }
    },
    {
      "cell_type": "code",
      "execution_count": 1,
      "metadata": {
        "id": "bKwaR0m_EST2"
      },
      "outputs": [],
      "source": [
        "programming_dict = {'Bug':'An error in a program that prevents the program from running as expected',\n",
        "                          'Function': 'A piece of code that you can easilly call over and over again',\n",
        "                    }"
      ]
    },
    {
      "cell_type": "code",
      "source": [
        " print(programming_dict['Bug']) # To retrieve a value from a dict"
      ],
      "metadata": {
        "colab": {
          "base_uri": "https://localhost:8080/"
        },
        "id": "38NldUFfFN83",
        "outputId": "80868272-21ca-408e-b714-bccd9ec42229"
      },
      "execution_count": 2,
      "outputs": [
        {
          "output_type": "stream",
          "name": "stdout",
          "text": [
            "An error in a program that prevents the program from running as expected\n"
          ]
        }
      ]
    },
    {
      "cell_type": "code",
      "source": [
        "# To add a new entry\n",
        "programming_dict['Loop'] = 'The action of doing something over and over again'\n",
        "print(programming_dict)"
      ],
      "metadata": {
        "colab": {
          "base_uri": "https://localhost:8080/"
        },
        "id": "vAuvJ9-eGKsu",
        "outputId": "7991c033-2af1-4904-d70c-b44502c0ee96"
      },
      "execution_count": 4,
      "outputs": [
        {
          "output_type": "stream",
          "name": "stdout",
          "text": [
            "{'Bug': 'An error in a program that prevents the program from running as expected', 'Function': 'A piece of code that you can easilly call over and over again', 'Loop': 'The action of doing something over and over again'}\n"
          ]
        }
      ]
    },
    {
      "cell_type": "code",
      "source": [
        "empty_dict = {}  # empty dictionary\n",
        "empty_dict['Email'] = 'Hey you are selected' # To add something\n",
        "print(empty_dict)"
      ],
      "metadata": {
        "colab": {
          "base_uri": "https://localhost:8080/"
        },
        "id": "C1Q72iA_HMVu",
        "outputId": "bfed8e12-0e43-48a0-b6b5-93b405fdb776"
      },
      "execution_count": 5,
      "outputs": [
        {
          "output_type": "stream",
          "name": "stdout",
          "text": [
            "{'Email': 'Hey you are selected'}\n"
          ]
        }
      ]
    },
    {
      "cell_type": "code",
      "source": [
        "# Wipe an existing dictionary\n",
        "programming_dict = {}\n",
        "print(programming_dict)"
      ],
      "metadata": {
        "colab": {
          "base_uri": "https://localhost:8080/"
        },
        "id": "G3Y8TI7AIXPq",
        "outputId": "4b925039-733f-4281-868f-66182bcf4c1b"
      },
      "execution_count": 6,
      "outputs": [
        {
          "output_type": "stream",
          "name": "stdout",
          "text": [
            "{}\n"
          ]
        }
      ]
    },
    {
      "cell_type": "code",
      "source": [
        "# Edit an item in a dictionary\n",
        "programming_dict['Bug'] = 'Hey, are you okay!'\n",
        "print(programming_dict) # Now the bug is edited"
      ],
      "metadata": {
        "colab": {
          "base_uri": "https://localhost:8080/"
        },
        "id": "1nFvA3q3IrgB",
        "outputId": "bb6ed9d7-315f-4aa9-8349-d06a03018ba3"
      },
      "execution_count": 7,
      "outputs": [
        {
          "output_type": "stream",
          "name": "stdout",
          "text": [
            "{'Bug': 'Hey, are you okay!'}\n"
          ]
        }
      ]
    },
    {
      "cell_type": "code",
      "source": [
        "# Loop through a dictionary\n",
        "for key in programming_dict:\n",
        "  print(key) # Here it will only give you the key"
      ],
      "metadata": {
        "colab": {
          "base_uri": "https://localhost:8080/"
        },
        "id": "PIfisboiJvIN",
        "outputId": "7800ff70-c0c3-4118-dfe7-431f510b31e9"
      },
      "execution_count": 8,
      "outputs": [
        {
          "output_type": "stream",
          "name": "stdout",
          "text": [
            "Bug\n"
          ]
        }
      ]
    },
    {
      "cell_type": "code",
      "source": [
        "for key in programming_dict:\n",
        "  print(programming_dict[key]) # Here it will give you the value"
      ],
      "metadata": {
        "colab": {
          "base_uri": "https://localhost:8080/"
        },
        "id": "fKpFWkioKdis",
        "outputId": "429238c7-70b9-4665-8413-3f49353aec3b"
      },
      "execution_count": 9,
      "outputs": [
        {
          "output_type": "stream",
          "name": "stdout",
          "text": [
            "Hey, are you okay!\n"
          ]
        }
      ]
    },
    {
      "cell_type": "code",
      "source": [
        "# Do not modify lines 1-7\n",
        "student_scores = {\n",
        "    \"Harry\": 85,\n",
        "    \"Ron\": 78,\n",
        "    \"Hermione\": 99,\n",
        "    \"Draco\": 74,\n",
        "    \"Neville\": 62,\n",
        "}\n",
        "\n",
        "# Create an empty dictionary to hold the grades\n",
        "student_grades = {}\n",
        "\n",
        "# Convert scores to grades based on the criteria\n",
        "for student, score in student_scores.items():  #student represents the name of the student (key) and score is the value\n",
        "    if score >= 91:\n",
        "        student_grades[student] = \"Outstanding\"\n",
        "    elif score >= 81:\n",
        "        student_grades[student] = \"Exceeds Expectations\"\n",
        "    elif score >= 71:\n",
        "        student_grades[student] = \"Acceptable\"\n",
        "    else:\n",
        "        student_grades[student] = \"Fail\"\n",
        "\n",
        "# Print the final student_grades dictionary\n",
        "print(student_grades)"
      ],
      "metadata": {
        "colab": {
          "base_uri": "https://localhost:8080/"
        },
        "id": "pN9f-WrBKn6W",
        "outputId": "8e97d6f1-247e-40ac-d713-d50eaf7a2901"
      },
      "execution_count": 41,
      "outputs": [
        {
          "output_type": "stream",
          "name": "stdout",
          "text": [
            "{'Harry': 'Exceeds Expectations', 'Ron': 'Acceptable', 'Hermione': 'Outstanding', 'Draco': 'Acceptable', 'Neville': 'Fail'}\n"
          ]
        }
      ]
    },
    {
      "cell_type": "markdown",
      "source": [
        "Nesting\n",
        "* Nesting in dictionaries refers to placing a dictionary within another dictionary, allowing you to create more complex data structures to represent hierarchical or related information."
      ],
      "metadata": {
        "id": "VRD2lzYWOMXm"
      }
    },
    {
      "cell_type": "code",
      "source": [
        "capitals = {\n",
        "    'France':'Paris',\n",
        "    'Germany':'Berlin'\n",
        "    }"
      ],
      "metadata": {
        "id": "DGcLq_WZMxEm"
      },
      "execution_count": 11,
      "outputs": []
    },
    {
      "cell_type": "code",
      "source": [
        "# Nested list in Dictionary\n",
        "travel_log = {\n",
        "    'France':['Paris','Lille','Dijion'],\n",
        "    'Germany':['Stuttgart','Berlin']\n",
        "}"
      ],
      "metadata": {
        "id": "Gb8-pawFRmxE"
      },
      "execution_count": 12,
      "outputs": []
    },
    {
      "cell_type": "code",
      "source": [
        "print(travel_log['France'])\n",
        "print(travel_log['France'][1]) # To access one value\n",
        "print(travel_log['Germany'][0])"
      ],
      "metadata": {
        "colab": {
          "base_uri": "https://localhost:8080/"
        },
        "id": "iRyjQ2fESBW-",
        "outputId": "3e0853bf-c6c6-48a9-ab3a-2445929a9558"
      },
      "execution_count": 13,
      "outputs": [
        {
          "output_type": "stream",
          "name": "stdout",
          "text": [
            "['Paris', 'Lille', 'Dijion']\n",
            "Lille\n",
            "Stuttgart\n"
          ]
        }
      ]
    },
    {
      "cell_type": "code",
      "source": [
        "nested_list = ['A','B',['C','D']]\n",
        "print(nested_list[2]) # To access the lists inside a list\n",
        "print(nested_list[2][1])"
      ],
      "metadata": {
        "colab": {
          "base_uri": "https://localhost:8080/"
        },
        "id": "oVCbY4oCSFA-",
        "outputId": "de8549a7-c18e-42b4-c3a5-04279eaa891d"
      },
      "execution_count": 14,
      "outputs": [
        {
          "output_type": "stream",
          "name": "stdout",
          "text": [
            "['C', 'D']\n",
            "D\n"
          ]
        }
      ]
    },
    {
      "cell_type": "code",
      "source": [
        "travel_details = {\n",
        "    'France':\n",
        "     {'cities_visited':['Paris','Lille','Dijon'],'total_visits':12},\n",
        "    'Germany':\n",
        "     {'cities_visited':['Stuttgart','Berlin'],'total_visits':5}\n",
        "}"
      ],
      "metadata": {
        "id": "hTlZ28IXSgwV"
      },
      "execution_count": 22,
      "outputs": []
    },
    {
      "cell_type": "code",
      "source": [
        "print(travel_details['Germany'])"
      ],
      "metadata": {
        "colab": {
          "base_uri": "https://localhost:8080/"
        },
        "id": "UPWzd4DSCSan",
        "outputId": "654a270c-3733-4b58-9765-951242658a33"
      },
      "execution_count": 23,
      "outputs": [
        {
          "output_type": "stream",
          "name": "stdout",
          "text": [
            "{'cities_visited': ['Stuttgart', 'Berlin'], 'total_visits': 5}\n"
          ]
        }
      ]
    },
    {
      "cell_type": "code",
      "source": [
        "print(travel_details['Germany']['cities_visited'])"
      ],
      "metadata": {
        "colab": {
          "base_uri": "https://localhost:8080/"
        },
        "id": "rAXXoX4jCgQ6",
        "outputId": "2161582b-52a1-40db-a4dc-946b8c33257f"
      },
      "execution_count": 24,
      "outputs": [
        {
          "output_type": "stream",
          "name": "stdout",
          "text": [
            "['Stuttgart', 'Berlin']\n"
          ]
        }
      ]
    },
    {
      "cell_type": "code",
      "source": [
        "print(travel_details['Germany']['cities_visited'][0])"
      ],
      "metadata": {
        "colab": {
          "base_uri": "https://localhost:8080/"
        },
        "id": "a3igTJJiCttz",
        "outputId": "c3e661ca-7dc5-49cd-91f7-45c8021d9e06"
      },
      "execution_count": 25,
      "outputs": [
        {
          "output_type": "stream",
          "name": "stdout",
          "text": [
            "Stuttgart\n"
          ]
        }
      ]
    },
    {
      "cell_type": "code",
      "source": [
        "order = {\n",
        "    \"starter\": {1: \"Salad\", 2: \"Soup\"},\n",
        "    \"main\": {1: [\"Burger\", \"Fries\"], 2: [\"Steak\"]},\n",
        "    \"dessert\": {1: [\"Ice Cream\"], 2: []},\n",
        "}"
      ],
      "metadata": {
        "id": "qnNw66CmC8PP"
      },
      "execution_count": 26,
      "outputs": []
    },
    {
      "cell_type": "code",
      "source": [
        "print(order['main'][2][0])"
      ],
      "metadata": {
        "colab": {
          "base_uri": "https://localhost:8080/"
        },
        "id": "8MHN4WHxEZJR",
        "outputId": "ba38a9ab-1430-4672-ff28-b55da72144f9"
      },
      "execution_count": 36,
      "outputs": [
        {
          "output_type": "stream",
          "name": "stdout",
          "text": [
            "Steak\n"
          ]
        }
      ]
    }
  ]
}