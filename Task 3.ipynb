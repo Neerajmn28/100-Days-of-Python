{
 "cells": [
  {
   "cell_type": "code",
   "execution_count": 2,
   "id": "04503782",
   "metadata": {},
   "outputs": [
    {
     "name": "stdout",
     "output_type": "stream",
     "text": [
      "Welcome to the pizza deliveries!\n",
      "What size do you want?: m\n",
      "Do you want pepperoni on your pizza? Yes or No: yes\n",
      "Do you want extra cheese on your pizza? \"Yes\" or \"NO\"no\n",
      "Your final bill is 180\n",
      "You are welcome to the show, please have a seat!.\n"
     ]
    }
   ],
   "source": [
    "print('Welcome to the pizza deliveries!')\n",
    "size = input('What size do you want?: ').upper()\n",
    "pepperoni = input('Do you want pepperoni on your pizza? Yes or No: ').lower()\n",
    "extra_cheese = input('Do you want extra cheese on your pizza? \"Yes\" or \"NO\"')\n",
    "bill = 0\n",
    "if size == 'S':\n",
    "    bill += 100\n",
    "elif size == 'M':\n",
    "    bill += 150\n",
    "elif size == 'L':\n",
    "    bill += 200\n",
    "else:\n",
    "    print('You typed the wrong input')\n",
    "\n",
    "if pepperoni == 'yes':\n",
    "    if size == 'S':\n",
    "        bill += 20\n",
    "    else: bill += 30\n",
    "if extra_cheese == 'Y':\n",
    "    bill += 10\n",
    "else:\n",
    "    print('Your final bill is'+' '+str(bill))\n",
    "print('You are welcome to the show, please have a seat!.')"
   ]
  }
 ],
 "metadata": {
  "kernelspec": {
   "display_name": "Python 3 (ipykernel)",
   "language": "python",
   "name": "python3"
  },
  "language_info": {
   "codemirror_mode": {
    "name": "ipython",
    "version": 3
   },
   "file_extension": ".py",
   "mimetype": "text/x-python",
   "name": "python",
   "nbconvert_exporter": "python",
   "pygments_lexer": "ipython3",
   "version": "3.10.9"
  }
 },
 "nbformat": 4,
 "nbformat_minor": 5
}
