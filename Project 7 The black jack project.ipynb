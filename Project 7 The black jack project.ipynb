{
  "nbformat": 4,
  "nbformat_minor": 0,
  "metadata": {
    "colab": {
      "provenance": [],
      "authorship_tag": "ABX9TyODvbSfMmr3yl39NoLhyvOK",
      "include_colab_link": true
    },
    "kernelspec": {
      "name": "python3",
      "display_name": "Python 3"
    },
    "language_info": {
      "name": "python"
    }
  },
  "cells": [
    {
      "cell_type": "markdown",
      "metadata": {
        "id": "view-in-github",
        "colab_type": "text"
      },
      "source": [
        "<a href=\"https://colab.research.google.com/github/Neerajmn28/100-Days-of-Python/blob/main/Project%207%20The%20black%20jack%20project.ipynb\" target=\"_parent\"><img src=\"https://colab.research.google.com/assets/colab-badge.svg\" alt=\"Open In Colab\"/></a>"
      ]
    },
    {
      "cell_type": "markdown",
      "source": [
        "Project Description: Blackjack Game in Python This project is a simple implementation of the Blackjack card game built using Python. The game allows a single user to play against the computer (dealer) in a simulated Blackjack environment. The program simulates drawing cards, calculates scores, handles the rules of Blackjack (like checking for \"Blackjack\" or busting), and compares the final scores to determine the winner.\n",
        "\n",
        "The project showcases the use of Python fundamentals, including functions, conditional statements, loops, and lists, as well as basic game logic."
      ],
      "metadata": {
        "id": "6H41oK0NVflF"
      }
    },
    {
      "cell_type": "code",
      "execution_count": 9,
      "metadata": {
        "id": "oiT0o-5gUJ2C"
      },
      "outputs": [],
      "source": [
        "import random # Import thr library"
      ]
    },
    {
      "cell_type": "code",
      "source": [
        "def deal_card():\n",
        "  \"\"\"Returns a random card from the deck.\"\"\"\n",
        "  cards = [11,2,3,4,5,6,7,8,9,10,10,10,10]\n",
        "  card = random.choice(cards)\n",
        "  return card\n",
        "\n",
        "\n",
        "\n",
        "def calculate_score(cards):\n",
        "  \"\"\"Take a list of cards and return the score calculated from the cards\"\"\"\n",
        "  if sum(cards) == 21 and len(cards) == 2:\n",
        "    return 0\n",
        "\n",
        "  if 11 in cards and sum(cards) > 21:\n",
        "    cards.remove(11)\n",
        "    cards.append(1)\n",
        "  return sum(cards)"
      ],
      "metadata": {
        "id": "wu_SWXadVnui"
      },
      "execution_count": 10,
      "outputs": []
    },
    {
      "cell_type": "code",
      "source": [
        "def compare(user_score, computer_score):\n",
        "  if user_score == computer_score:\n",
        "    return 'Draw'\n",
        "  elif computer_score == 0:\n",
        "    return 'Lose, opponent has Blackjack'\n",
        "  elif user_score == 0:\n",
        "    return 'Win with a Blackjack'\n",
        "  elif user_score > 21:\n",
        "    return 'You went over, You lose'\n",
        "  elif computer_score > 21:\n",
        "    return 'Opponent went over, You win'\n",
        "  elif user_score > computer_score:\n",
        "    return 'You win'\n",
        "  else:\n",
        "    return 'You lose'"
      ],
      "metadata": {
        "id": "5C_FSNbJV8wl"
      },
      "execution_count": 21,
      "outputs": []
    },
    {
      "cell_type": "code",
      "source": [
        "def play_game():\n",
        "  user_cards = []\n",
        "  computer_cards = []\n",
        "  computer_score = -1\n",
        "  user_score = - 1\n",
        "  is_game_over = False\n",
        "\n",
        "  for _ in range(2):\n",
        "    user_cards.append(deal_card())\n",
        "    computer_cards.append(deal_card())\n",
        "\n",
        "  while not is_game_over:\n",
        "    user_score = calculate_score(user_cards)\n",
        "    computer_score = calculate_score(computer_cards)\n",
        "    print(f'Your cards: {user_cards}, current score: {user_score}')\n",
        "    print(f'Computer\\'s first card: {computer_cards[0]}')\n",
        "    if user_score == 0 or computer_score == 0 or user_score > 21:\n",
        "      is_game_over = True\n",
        "    else:\n",
        "      user_should_deal = input('Type \"y\" to get another card, type \"n\" to pass:').lower()\n",
        "      if user_should_deal == 'y':\n",
        "        user_cards.append(deal_card())\n",
        "      else:\n",
        "        is_game_over = True\n",
        "    while computer_score != 0 and computer_score < 17:\n",
        "      computer_cards.append(deal_card())\n",
        "      computer_score = calculate_score(computer_cards)\n",
        "    print(f'Your final hand: {user_cards}, final score: {user_score}')\n",
        "    print(f'Computer\\'s final hand: {computer_cards}, final score: {computer_score}')\n",
        "    print(compare(user_score, computer_score))\n",
        "\n",
        "  while input('Do you want to play a game of Blackjack? Type \"y\" or \"no\":') == \"y\":\n",
        "    print('\\n' * 20)\n",
        "    play_game()"
      ],
      "metadata": {
        "id": "7W7aW_YAX_gQ"
      },
      "execution_count": 22,
      "outputs": []
    },
    {
      "cell_type": "code",
      "source": [
        "play_game()"
      ],
      "metadata": {
        "colab": {
          "base_uri": "https://localhost:8080/"
        },
        "id": "t9gPJYv6ZZ8A",
        "outputId": "bf603b6c-c2ff-4b69-afdc-03da02b39dfd"
      },
      "execution_count": null,
      "outputs": [
        {
          "output_type": "stream",
          "name": "stdout",
          "text": [
            "Your cards: [7, 11], current score: 18\n",
            "Computer's first card: 5\n",
            "Type \"y\" to get another card, type \"n\" to pass:n\n",
            "Your final hand: [7, 11], final score: 18\n",
            "Computer's final hand: [5, 10, 8], final score: 23\n",
            "Opponent went over, You win\n"
          ]
        }
      ]
    }
  ]
}